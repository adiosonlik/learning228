{
  "metadata": {
    "kernelspec": {
      "name": "python3",
      "display_name": "Python 3",
      "language": "python"
    },
    "language_info": {
      "name": "python",
      "version": "3.10.14",
      "mimetype": "text/x-python",
      "codemirror_mode": {
        "name": "ipython",
        "version": 3
      },
      "pygments_lexer": "ipython3",
      "nbconvert_exporter": "python",
      "file_extension": ".py"
    },
    "kaggle": {
      "accelerator": "none",
      "dataSources": [
        {
          "sourceId": 85178,
          "databundleVersionId": 9596087,
          "sourceType": "competition"
        }
      ],
      "dockerImageVersionId": 30761,
      "isInternetEnabled": true,
      "language": "python",
      "sourceType": "notebook",
      "isGpuEnabled": false
    },
    "colab": {
      "provenance": []
    },
    "widgets": {
      "application/vnd.jupyter.widget-state+json": {
        "cfdb917a9b1742f78cf07e75b5e06e16": {
          "model_module": "@jupyter-widgets/controls",
          "model_name": "HBoxModel",
          "model_module_version": "1.5.0",
          "state": {
            "_dom_classes": [],
            "_model_module": "@jupyter-widgets/controls",
            "_model_module_version": "1.5.0",
            "_model_name": "HBoxModel",
            "_view_count": null,
            "_view_module": "@jupyter-widgets/controls",
            "_view_module_version": "1.5.0",
            "_view_name": "HBoxView",
            "box_style": "",
            "children": [
              "IPY_MODEL_2093374740674faa8013fbfd09dd38b8",
              "IPY_MODEL_78c65380cfa046e0a05d6c51c97815fa",
              "IPY_MODEL_5ad0be4ae2de487f840a10208a2593b9"
            ],
            "layout": "IPY_MODEL_cd2bdee1039e444f8812b8aa05d25281"
          }
        },
        "2093374740674faa8013fbfd09dd38b8": {
          "model_module": "@jupyter-widgets/controls",
          "model_name": "HTMLModel",
          "model_module_version": "1.5.0",
          "state": {
            "_dom_classes": [],
            "_model_module": "@jupyter-widgets/controls",
            "_model_module_version": "1.5.0",
            "_model_name": "HTMLModel",
            "_view_count": null,
            "_view_module": "@jupyter-widgets/controls",
            "_view_module_version": "1.5.0",
            "_view_name": "HTMLView",
            "description": "",
            "description_tooltip": null,
            "layout": "IPY_MODEL_ead5bc275ad94488ba8df372fc61614c",
            "placeholder": "​",
            "style": "IPY_MODEL_55e04d7b877442dc87b047f11db15f31",
            "value": "100%"
          }
        },
        "78c65380cfa046e0a05d6c51c97815fa": {
          "model_module": "@jupyter-widgets/controls",
          "model_name": "FloatProgressModel",
          "model_module_version": "1.5.0",
          "state": {
            "_dom_classes": [],
            "_model_module": "@jupyter-widgets/controls",
            "_model_module_version": "1.5.0",
            "_model_name": "FloatProgressModel",
            "_view_count": null,
            "_view_module": "@jupyter-widgets/controls",
            "_view_module_version": "1.5.0",
            "_view_name": "ProgressView",
            "bar_style": "success",
            "description": "",
            "description_tooltip": null,
            "layout": "IPY_MODEL_6477504fbf1f4ce38f4bce70b2d2b71a",
            "max": 201,
            "min": 0,
            "orientation": "horizontal",
            "style": "IPY_MODEL_c57d650492734b7b9c7928ad42deb59f",
            "value": 201
          }
        },
        "5ad0be4ae2de487f840a10208a2593b9": {
          "model_module": "@jupyter-widgets/controls",
          "model_name": "HTMLModel",
          "model_module_version": "1.5.0",
          "state": {
            "_dom_classes": [],
            "_model_module": "@jupyter-widgets/controls",
            "_model_module_version": "1.5.0",
            "_model_name": "HTMLModel",
            "_view_count": null,
            "_view_module": "@jupyter-widgets/controls",
            "_view_module_version": "1.5.0",
            "_view_name": "HTMLView",
            "description": "",
            "description_tooltip": null,
            "layout": "IPY_MODEL_98b21344ba8e4697a3f8626bdb17f4cb",
            "placeholder": "​",
            "style": "IPY_MODEL_4f1f98a262fa4017aa91b467bebfff01",
            "value": " 201/201 [00:26&lt;00:00,  6.90it/s]"
          }
        },
        "cd2bdee1039e444f8812b8aa05d25281": {
          "model_module": "@jupyter-widgets/base",
          "model_name": "LayoutModel",
          "model_module_version": "1.2.0",
          "state": {
            "_model_module": "@jupyter-widgets/base",
            "_model_module_version": "1.2.0",
            "_model_name": "LayoutModel",
            "_view_count": null,
            "_view_module": "@jupyter-widgets/base",
            "_view_module_version": "1.2.0",
            "_view_name": "LayoutView",
            "align_content": null,
            "align_items": null,
            "align_self": null,
            "border": null,
            "bottom": null,
            "display": null,
            "flex": null,
            "flex_flow": null,
            "grid_area": null,
            "grid_auto_columns": null,
            "grid_auto_flow": null,
            "grid_auto_rows": null,
            "grid_column": null,
            "grid_gap": null,
            "grid_row": null,
            "grid_template_areas": null,
            "grid_template_columns": null,
            "grid_template_rows": null,
            "height": null,
            "justify_content": null,
            "justify_items": null,
            "left": null,
            "margin": null,
            "max_height": null,
            "max_width": null,
            "min_height": null,
            "min_width": null,
            "object_fit": null,
            "object_position": null,
            "order": null,
            "overflow": null,
            "overflow_x": null,
            "overflow_y": null,
            "padding": null,
            "right": null,
            "top": null,
            "visibility": null,
            "width": null
          }
        },
        "ead5bc275ad94488ba8df372fc61614c": {
          "model_module": "@jupyter-widgets/base",
          "model_name": "LayoutModel",
          "model_module_version": "1.2.0",
          "state": {
            "_model_module": "@jupyter-widgets/base",
            "_model_module_version": "1.2.0",
            "_model_name": "LayoutModel",
            "_view_count": null,
            "_view_module": "@jupyter-widgets/base",
            "_view_module_version": "1.2.0",
            "_view_name": "LayoutView",
            "align_content": null,
            "align_items": null,
            "align_self": null,
            "border": null,
            "bottom": null,
            "display": null,
            "flex": null,
            "flex_flow": null,
            "grid_area": null,
            "grid_auto_columns": null,
            "grid_auto_flow": null,
            "grid_auto_rows": null,
            "grid_column": null,
            "grid_gap": null,
            "grid_row": null,
            "grid_template_areas": null,
            "grid_template_columns": null,
            "grid_template_rows": null,
            "height": null,
            "justify_content": null,
            "justify_items": null,
            "left": null,
            "margin": null,
            "max_height": null,
            "max_width": null,
            "min_height": null,
            "min_width": null,
            "object_fit": null,
            "object_position": null,
            "order": null,
            "overflow": null,
            "overflow_x": null,
            "overflow_y": null,
            "padding": null,
            "right": null,
            "top": null,
            "visibility": null,
            "width": null
          }
        },
        "55e04d7b877442dc87b047f11db15f31": {
          "model_module": "@jupyter-widgets/controls",
          "model_name": "DescriptionStyleModel",
          "model_module_version": "1.5.0",
          "state": {
            "_model_module": "@jupyter-widgets/controls",
            "_model_module_version": "1.5.0",
            "_model_name": "DescriptionStyleModel",
            "_view_count": null,
            "_view_module": "@jupyter-widgets/base",
            "_view_module_version": "1.2.0",
            "_view_name": "StyleView",
            "description_width": ""
          }
        },
        "6477504fbf1f4ce38f4bce70b2d2b71a": {
          "model_module": "@jupyter-widgets/base",
          "model_name": "LayoutModel",
          "model_module_version": "1.2.0",
          "state": {
            "_model_module": "@jupyter-widgets/base",
            "_model_module_version": "1.2.0",
            "_model_name": "LayoutModel",
            "_view_count": null,
            "_view_module": "@jupyter-widgets/base",
            "_view_module_version": "1.2.0",
            "_view_name": "LayoutView",
            "align_content": null,
            "align_items": null,
            "align_self": null,
            "border": null,
            "bottom": null,
            "display": null,
            "flex": null,
            "flex_flow": null,
            "grid_area": null,
            "grid_auto_columns": null,
            "grid_auto_flow": null,
            "grid_auto_rows": null,
            "grid_column": null,
            "grid_gap": null,
            "grid_row": null,
            "grid_template_areas": null,
            "grid_template_columns": null,
            "grid_template_rows": null,
            "height": null,
            "justify_content": null,
            "justify_items": null,
            "left": null,
            "margin": null,
            "max_height": null,
            "max_width": null,
            "min_height": null,
            "min_width": null,
            "object_fit": null,
            "object_position": null,
            "order": null,
            "overflow": null,
            "overflow_x": null,
            "overflow_y": null,
            "padding": null,
            "right": null,
            "top": null,
            "visibility": null,
            "width": null
          }
        },
        "c57d650492734b7b9c7928ad42deb59f": {
          "model_module": "@jupyter-widgets/controls",
          "model_name": "ProgressStyleModel",
          "model_module_version": "1.5.0",
          "state": {
            "_model_module": "@jupyter-widgets/controls",
            "_model_module_version": "1.5.0",
            "_model_name": "ProgressStyleModel",
            "_view_count": null,
            "_view_module": "@jupyter-widgets/base",
            "_view_module_version": "1.2.0",
            "_view_name": "StyleView",
            "bar_color": null,
            "description_width": ""
          }
        },
        "98b21344ba8e4697a3f8626bdb17f4cb": {
          "model_module": "@jupyter-widgets/base",
          "model_name": "LayoutModel",
          "model_module_version": "1.2.0",
          "state": {
            "_model_module": "@jupyter-widgets/base",
            "_model_module_version": "1.2.0",
            "_model_name": "LayoutModel",
            "_view_count": null,
            "_view_module": "@jupyter-widgets/base",
            "_view_module_version": "1.2.0",
            "_view_name": "LayoutView",
            "align_content": null,
            "align_items": null,
            "align_self": null,
            "border": null,
            "bottom": null,
            "display": null,
            "flex": null,
            "flex_flow": null,
            "grid_area": null,
            "grid_auto_columns": null,
            "grid_auto_flow": null,
            "grid_auto_rows": null,
            "grid_column": null,
            "grid_gap": null,
            "grid_row": null,
            "grid_template_areas": null,
            "grid_template_columns": null,
            "grid_template_rows": null,
            "height": null,
            "justify_content": null,
            "justify_items": null,
            "left": null,
            "margin": null,
            "max_height": null,
            "max_width": null,
            "min_height": null,
            "min_width": null,
            "object_fit": null,
            "object_position": null,
            "order": null,
            "overflow": null,
            "overflow_x": null,
            "overflow_y": null,
            "padding": null,
            "right": null,
            "top": null,
            "visibility": null,
            "width": null
          }
        },
        "4f1f98a262fa4017aa91b467bebfff01": {
          "model_module": "@jupyter-widgets/controls",
          "model_name": "DescriptionStyleModel",
          "model_module_version": "1.5.0",
          "state": {
            "_model_module": "@jupyter-widgets/controls",
            "_model_module_version": "1.5.0",
            "_model_name": "DescriptionStyleModel",
            "_view_count": null,
            "_view_module": "@jupyter-widgets/base",
            "_view_module_version": "1.2.0",
            "_view_name": "StyleView",
            "description_width": ""
          }
        }
      }
    }
  },
  "nbformat_minor": 0,
  "nbformat": 4,
  "cells": [
    {
      "cell_type": "code",
      "source": [
        "import pandas as pd\n",
        "import numpy as np\n",
        "from sklearn.model_selection import StratifiedKFold\n",
        "from tqdm.notebook import tqdm\n",
        "import lightgbm as lgb\n",
        "from sklearn.metrics import mean_squared_error\n",
        "import warnings\n",
        "warnings.filterwarnings(\"ignore\")\n",
        "import re\n",
        "from scipy.sparse import csr_matrix\n",
        "from sklearn.linear_model import Ridge\n",
        "from sklearn.cluster import KMeans"
      ],
      "metadata": {
        "_cell_guid": "b1076dfc-b9ad-4769-8c92-a6c4dae69d19",
        "_uuid": "8f2839f25d086af736a60e9eeb907d3b93b6e0e5",
        "execution": {
          "iopub.status.busy": "2025-02-03T12:03:30.979998Z",
          "iopub.execute_input": "2025-02-03T12:03:30.980420Z",
          "iopub.status.idle": "2025-02-03T12:03:34.308469Z",
          "shell.execute_reply.started": "2025-02-03T12:03:30.980371Z",
          "shell.execute_reply": "2025-02-03T12:03:34.307332Z"
        },
        "trusted": true,
        "id": "kJVMQ6Ibuxwb"
      },
      "outputs": [],
      "execution_count": null
    },
    {
      "cell_type": "markdown",
      "source": [
        "### Linear Regression"
      ],
      "metadata": {
        "id": "ZryTRHV3wWoK"
      }
    },
    {
      "cell_type": "markdown",
      "source": [
        "![image.png](data:image/png;base64,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)"
      ],
      "metadata": {
        "id": "9BQxPaM1wTn5"
      }
    },
    {
      "cell_type": "markdown",
      "source": [
        "### Gradient boosting\n"
      ],
      "metadata": {
        "id": "KI52cEs3wbHn"
      }
    },
    {
      "cell_type": "markdown",
      "source": [
        "![image.png](data:image/png;base64,iVBORw0KGgoAAAANSUhEUgAAAQ4AAAC7CAIAAAAbo+eAAAAdIklEQVR4Ae1dq5KzzBbNG3wv8MtPjRw3LioViaIqCoNJFQbZGhGFwKKo4gFQOBQKg0KhKGwrFFRh+syfdU4PJxeGQMItjZhiOn1j7V5933tvmHgEAgKBDghsOsQRUQQCAgEmqCIagUCgEwLroYplWce1P5qmybLcSbAi0rMRWA9VVFV9NjhzzE/TtDlW6w3qtB6qHI/HN5AXE1SZSsqCKlMh37NcQZWewA1OJqgyGMJxMxBUGRfvn9IEVX6wWMSboMpUYhJUmQr5nuUKqvQEbnAyQZXBEI6bgaDKuHj/lCao8oPFIt4EVaYSk6DKVMj3LFdQpSdwg5MJqgyGcNwMBFXGxfunNEGVHywW8SaoMpWYBFWmQr5nuYIqPYEbnExQZTCE42YgqDIu3j+lCar8YLGIN0GVqcQkqDIV8j3LFVTpCdzgZO9LFUop0Kuqir8PxvOBDJIkybLsgQTnqIIqjyL2rPjvSxWuIyXLsmEYzwK0Yz6KonieZ1mWbdsdkyCaoMpDcD0x8vtSBapgQRDYtn06nRhjrusahvH19YV30zQ1TUvT1LKsz89Py7KqqgL0URRpmrbf7ymlURTp5yeOY8MwyrKE5oyiKDzPz89PxtjhcOCSS9MU74+q2QiqcAxHfnl3qsiyXNc1RhVd1xn7r+7Ux8dHGIaO4xBCLlo5Y8y2bUqpZVnfVNnv95AZXnRdPxwOhmFgUoc8wQdJkpIkyfMc8YuiUBSlKIqHRC6o8hBcT4z8vlTRdZ0QQiktyxJUwTiAtrjb7eq6LsuyrmvGGJ+tAXo0/XtUURTFsqwkSRhjyBPxZVnO8/x0OoVhyBjzfZ8PU90lKqjSHavnxnxfqkiSZFkWY6woCsMwfN/f7/ee5318fKRpapomhpQ4jhlju92O454kyT///ON53n6/98/P6XQyDCMIAl3Xi6LARAu/brdbnifyPx6PWM1bllWWJc+244ugSkegnh7tfalyASWWLnVdF0WBSVdRFBhSLmISQvhPGDTK88MYu4gPzlRVVZYl8mwOIxeRL0q596+gyj1kXh0uqPJfhD3Pw1tVVUEQtODu+z5v5TzVzfj817qufd+/GefRQEGVRxF7VnxBlWchOVI+giojAX1VjKDKFSTzDhBUmUo+gipTId+zXEGVnsANTiaoMhjCcTMQVBkX75/SBFV+sFjEm6DKVGISVJkK+Z7lCqr0BG5wMkGVwRCOm4Ggyrh4/5QmqPKDxSLeBFWmEpOgylTI9yxXUKUncIOTCaoMhnDcDARVxsX7pzRBlR8sFvEmqDKVmARVpkK+Z7mCKj2BG5xMUGUwhONmIKgyLt4/pQmq/GCxiDdBlanEtB6qqKqapmny4JOenwcTPSF6v3LTNJUkaaq28ublrocqSZL4Dz5hGErnJwiCB5MOjW4Yxp8/f3qU265L8+at+aWfvx6qPApTXdeqqnLtq0eTD48fx7EkST10hocXLXLogcCbUsX3fUmSHrWW0gPf9iR1Xcuy/CwFyfayxK8DEXg7qpRlKcuy67oDgXtictd1oaP/xDxFVk9H4L2oMpPB5FqKeZ5vt1tuR+86ggiZHIF3oUpVVYfDYcKVSRdJE0JM0+wSM8sybnqvS3wRZzgCb0GV2Q4m1/KLomi32/26iOImLScxTH5d7XcIWTlVyrI8HA6zWpn82qqqqpIkqWWtD+t+WZZZlgVDlb/mKSIMR2DNVFnQYHItSNd1YcXv4qe6rrkBclmWKaWyLBNCYPf1IrL494kIrJMqWJksazC5Fuq9tT6OYo7HY1EUMNHPGFNVNYoisYC5hvFZISukShAEczgzeZaECCGwrXyRYRRF3DC5YRgwuS9Jkmma4ljzAqun/LsqqpRlqSjK0geTa7lGUbTf72+u9XVdD4IAu8yU0uPxWNe1WOtfYzg8ZD1UwWL3ZnsaDtPkOeDk9OZaP45jcEOW5bV+/uT4M8bWQJWWlQmldE3rXcdx7nn5opQ+6itvDu1vQXVYPFVaVia+78N53Zp2VLHW7+FvdUGNcp5VXTBV6rq+tzLBTXXXdSmlpmnyA7t5yqBHre6t9XtkJZJ0RGCpVAmC4OZKtyxLXdcty3Ichzumsyxrv99zpygdoZl5tDAMu5zrz/wrFlS95VGlqqp7gwlw5/7l4IqR+15ckFQ6VhXn+kLZqyNcA6MtjCpYmbRvhhqGURQFpfTz8zPLstUfMrSs9Qc2DpG8icBiqNKyMml+D2MsjmP4Mc2y7E000fM83+124g7/RUt47r/LoEqXwYTj4nke3zZtH394knW8YJG2jm+Z4VfMnSoYTLBG7wgflOY7Rl5ZtDAMb+52rOwzJ/mcWVMF21w9RoaVbXY91DLKspQkSaz1HwKtS+SZUgUjw0ODSZevfZ84tm0L43rPFfccqQLzXD0Gk+dCs/TcxLn+cyU4L6qIweS50mWM6brONzmenvlbZTglVaqqah569F6ZvJXAenws1vpNqIUGWA8Yp6SKaZo4CuixzdXjU985SVmW+/2er/WhcvzOgPT49smoUpblZrNJkgQ2SsTKpIfwHk1i27au65TSzWYTRdGjyd88/mRU0TRts9l8fn7O3DbXytoHpfSff/4B8iv7tFd/zjRUybJs87/neDyKIeXVYkb+32P4fr//H/AbPh8bp/SllzIeVaqqwi3Goii+vr4gMFmWDcMQ5yeMsaqq6Isfz/NM01RV9e/fv5vN5s+fP5DIi4u9zH6hnHk+VSilURS5rmsYhqqqyvnRdZ0QYhiGaZqWZdnnxzTN0+mk67qmaYqiaJpmmqbneUmSvOFxu2mahmFYr3wAu23bzv+eV5Z2I2/btj8/Pxcq3OdQJU1T27aP58c0Td/30zRt7k527EiKoojj2HVdQoiqqoQQ3/ffxLTCmxglMk2zqqqO7WFW0QZRJQgCXddVVXVd9xVb9XVd40a9oiimaa5bodw0zXfoFE6n0xtRJUkSMCQIgtEGU1gkkWXZtu0e49Ws+qeblRFUuQnLfAIfG1WCIJi8saZpqp+fV4xjEwpGUGVC8LsU3ZUquMI4n+1F2CDVNG01kxZBlS7tdcI4v1OlKIrZOvEpy1LTtHVcBxRUmZAGXYr+hSqe56mqOtqCpEuNr+PgZG3p55iCKteSnVVIG1WOx+NNI7mz+gBeGUVR5jM/5LXq/iKo0h2rSWLepYokSYtbN5umudyDf0GVSQjQvdDbVFmuKQPXdRfKFkGV7q12kpg3qHI4HBY971+oh0RBlUkI0L3QS6rYtr0Cu/GKoixuE1lQpXurnSTm/1GlKIp1mPmA+65JAO1dqKBKb+jGSfh/VNF1fXGd8T2YbNtelhMiQZV7opxJ+A9VyrIkhMykWsOrUdf1PQdXwzN/RQ6CKq9A9Yl5/lDF87w4ju9lHQQBIWRZ4rzp9/3eB04efoEt16NOz8/k1etRAc/zCCEXSvxruFlMCLl3Ku84Di6PwFE6ooVhmGVZVVVRFMGaBGMsSRLsCqRpmiRJHMf5+WkCHQQBTmzKsozPT7PcLMuQijFWFEUQBJgTcn2vPM8R8u1390IMzVIYY47jLMg4/AVVuKcx//zAwn/ze/M8B26U0qqq8jyP4xhzTmgrUErLsgTUdV3jJc/z5n1wJGSM5XkONVUOOJcOtkPTNOX7PVArapZVnJ9mJX3fx669oijNDdU1UKWlD27awvE8LwxDwzCiKEKfgXslaZpCKyuOY0IIpRSawEVRKIrCG7GqqkmSQJ/+6+srz3Nd15tnnfv9HhHqusYxKBrN379/0dFuNv8qhfu+HwRB0+g9L4K/hGG4oNsGF1T5+vqKoghQfxvyiqIIyJ9OJ3xgFEVoi7IsM8YkSUrTdLfbwQETY+zPnz9xHGuaBp6cTqc8zw3DyPMcSZAPdgvhvwmAS5JUliXauud5rutGUWSaZpIkcMIB6X9+fjLGttstGALPm6hkcyYvy3JTQWUNVGmZ2Tep4vs+bhnzFskYQ1pK6el0chwHrHNdFzO6w+EAVVXGWJOQqqo6jtO8FlDXNVDWdT2KIjR0qBDrum4YRpZl8NSe5/npdLIsyzCMZk2a70mS8GlMM3ye7xdU2W63GJZN0wzDENheWCKWJKmuayCA/giC0HXd8zzHcdBtgSqWZUG91Lbti830zebfeTjYyBiDiG3bppSmaep5Hrw7cYeBKAvs2m63qFUYhpyB3K2NJEnNIYUxtgaqNBvxRWNq+ohDvwUssizDDAdpj8djWZZ1XQNEThX86nke3KRgngZVrSzLLMvio0oURbjHpes6fgK4eZ7jQpqqquH5QQXSNG2hShiGC7oVdkEV3trQcNE6KaVNMbmui/EZKgm8J5IkyXEcTFB1XWeMAW1khekWFzHU7G3bzvPcNE3GmGVZWZaBdUmSuK5rWRYEjTEEdQAxMObHcRwEAb9Zi8rz2R0vayVUIYQ0B8rm5wE+Qoiu64AM+lV8eWNZFgigaRrMglBKwzBEZNM04RQbIzXGB0op5g+e56Hjqet6u93CSAVu1iAVlkmWZVVVBZlBMIQQbDbcU4pc9FqlOdHCUlDXdd/3DcPg/XRd15gFEULQ3UAQaOVxHKdpioZuWdZut6vrGv7MXNeFfIuiALzQLeWAx3GM8CzL0N3AikiSJHixbVtVVd/3wa40TaMoopSS84PKcBE329IaRhXf95urxubnjfPOu0bGmOu6oNmQopsd8JB8xkl7Mar8WmhRFFgz/BoTEfgkqmP8e9EwZWCMNeV1L/J1+BqoUtf15Ef1fCaG3ZtroLuHQOure/zJY/agykO9CaW0udPY+3u5jOq65uNb99zWQBXGGCFkNaf1fHrdXYrTxnyUKtPWtnfpK6FKWZbLmrTcE1hRFIv7EEGVe9KcSfjPaT0q5Lrugs4i7oEoy/K9tf69JJOHC6pMLoL2ClxSBRuOizZO99Bitx2dMX8VVBkT7R5l3aAKjn57rNh6FP/0JJZlLejYsfn5gipNNGb4fpsqOJd9aINlDt9mGMZCecIYE1SZQxNqqcNdqmBDbEEtT5blac+FWlDu8pOgSheUJozTRhVcBzocDjNfIkdRJEnS0re5BVUmpEGXon+hCg5lFUXBNYcuOY4Zh1KqKMpCTbRcACWocgHI3P79nSqocRzHkiTNZz5GKYV7o5mPeN3lLajSHatJYnalCioXRZGiKJZlTTjbieP4eDw+60bTJKDfLFRQ5SYs8wl8jCqoNzSEcLF0tE4dd/JhaPwpd5nmIwPURFBlbhK5qE8fqvAsoAiJcYYr9PJfh79AYZgQgsXSQo96OuIgqNIRqKmiDaIKr3Se567rwvspIQRKXY+27KqqoB1hWRayMgwjDMPRBi7+OZO8CF+Qk8DevdDnUKVZXlmW0NQ1TfNbmVE5P6qqapoGrSDj/EBR7Hg88giEENu2uZGKZp7v8G5ZVhMfoNT9L9w1d48/PGaPEk+n08fHx0Lnz8+nSkuzruu6ajwLhazlAwf+1MDmgVfAiI6pLMsHUg6Imuf5druF7YRHsxmI0lTJR6XKVB+57nIppfv9fpKbCjANt254+dcJqnAoFvliWRY06aeqfRRFu91uwsOD0T5cUGU0qJ9cEKV0u91yM3ZPzv2R7Oq6lmV5BWpO7R8tqNKOz0x/tW172sHkGhfXdReneXr9FS0hgiot4MzxJ0rpbrebZGXyKxwY6LrobnB7iL/mOZ8IgirzkcXvNZnhYHJd6S5rfZgvq+t6QdM2QZVrWc8xBNtcc1iZdEGnfa3vOI5hGKZpEkLSNM3zfJ6D5MWXCqpcADLHfzGYLOsYqqqqe2t9rLJgXDdJEtinbjGoOxORCKrMRBC3q7GsweT6G2BV+TocGunYOoP98u9LG7gRO9seQVDlphxnEeg4zvF4nG3T6YgR9iGu1/r4LmyapWkKa8sweTzP+ZigSkeJjxpt6YPJNViEEJDh4qc4jnVdh44tnO1cRJjPv4Iq85HFf2sCI/NLH0yuYf12qAQHB9c/IWS73c75qwVV7glugnDMVa63ueBCaIIKPbvIqqokSbq5QVzXdYsr0mdXpE9+gip9UHtFmnvbXKZpwg8jnAq9ouiR88QabORChxcnqDIcw6E53FyZwNR6URR5nvu+73mepmnwVDq0vBmkxx3+Zdn7FVSZuOE4jqMoysUcvaoqXNeFEzk4FYRLrRbPahN/yePF67p+c63/eE5jpBBUGQPlm2VgMLnnrRLOsSzLSpLE9/3D4cB9AN3MbaGBYRgu5Q6/oMo0bezXbS74VaaUbjYb7rpxmrq+uNSyLCVJutdlvLjwB7IXVHkArKdEpZRKknS9zXWReZZl2+0WhjN1Xb+YoV1EXsG/juNM7l+xHUZBlXZ8nvyr4zjcY3V71mEYrnswuf58rPWvz/WvY04SIqgyEuztK5OblZj/DcKb1R4YONu1vqDKQMl2Sn5zm6tTyreMFIbhDF0bCKq8tjFiZTL/NetrUXg89xmu9QVVHhdj5xSu616fmXROLSIy27bnc0dBUOUlLbIoiv1+LwaT4eBiJ3AO5/qCKsOl+W8Ozc1frEzWdKz+HIwG5KJpWtMZ1s0LlwOy75RUUKUTTO2RgiAghDDGemxztecsfuUI4A4/bL1vNpvxjb4LqnBZ9H/ZbDbH49HzPLEy6Q9ih5RY6/u+v9ls0Dd1SPS0KIIqQ6G0bXtzfhZ082/oN0+a/uPjA4A/6pVkYK0FVQYBWJYlxIa/mqa9g/XeQZANSOy6bhPtke1rCqp0El1d15RSqFhBe8Q9P5IkQXjb7RY+mNI0Xf19rU6QPSkSYI+iKAgCz/NgzpwPLK7rhmGYJEme56/eRxFUuS3SLMs8zzMMQ1VVRVF0XTdN03Vd3/fDMIzjOE3TLMvy85OmaRzHYRhCloQQpAJ5XuH673allx8KPbYm7KfTyXGcJuzAPM/zNE1BIdd14ciJC8txnCRJnkseQZWf9pXnObR2j8ejbdtxHA+cTVVVlaap53nwXmaa5szVx3+wGPEtz3OoED8L9rquATu8iJ5Op6dYSxJUYVmWnU4neGZ96VFXURSe56mqCnuKI7bGORaV5/m32YDD4WDb9ktvExdF4fv+8XjUNK15/PUoKG9NFdd1ZVm2bXvkvRSYtVYU5XQ6DRy4HpX3HOJ7nifLsmVZI8POGAuCQFEUwzB6FP2OVKnr2jRNRVEmnw5RSgkhmqatUhn4mpaWZR0Oh6dMh64z7x5CKcVy6KFJxNtRBbdOHsKouwz6xSzL0jAMXdefuwztV5kXpcIA/tKJ1qM1R495PB47DuxvRJUsy/b7/eQjyT2JFkWhKIrnefciLDT82yfEVF5duyAGI1JdFE7fhSqWZS1CqRDGWbrIeBFxHMcZ/wZKD2TCMJRluf1A7C2oMof5cXf5FUWx3W57rDu7FzFOTFVVF6SGUJblfr9vWTSunyr7/X6JzU6SpFktqB5l10LrryjKPROeK6fKDFW0u7c5WZaXSHK4GVpozRljcIp0LaY1U0XTtEV3zIyx/X5/LbOZhxBC7nXMM685r95+v79et6yWKkEQdNnW4OjM84VSOnNDche4RVHUVFe8+HUp/xZFAXdizQqvliqSJDW/c7nvMFu8lPovcRi8ia3jOBdHpeukiuu6sz0/uSmY9kBFUdojzORXz/OGXLKayVfwasANAf93nVSBGXn+kUt/MQyj44nytF/aD3asJ1t2aaf6KMuymrVaIVUopaZp3sMXZqThyfZenLmFJ0ky/1P8sixvnjYahgG07x0B27ZtnZ+5wZ5lWXPdtUKqBEFwbxoQRRFnURAEAAJaQZRS27bN85Pnued5hBDf97MsQyA0WJrdzOl0IoQURQFymqbZnN3GcWya5ul0YozleU4IQdFhGMI2T5Ik2HiwbZsQ0jJjrKrqZiucVduK4/gmn/n6GNrUvu/zzSXXdeu6xjGl67q4lg+00zTFNhqXF2MMcKXnB1ceDcPgplt838fYi2o4jsMZiBDP86AHAYk0KwyPA9d4NvdUVkgV13XvXcv7vlDc3D7GnSu0b6DJ3TOAbJit8v4SunUA9PuSbJqmZVnCwC4sGzXlSgip6xr639vtljGWJIl9frD2NQwDbulBEsS5lhZCRtYjv1eNlnDf95s9BY+p6zohBMptjLGmtUjsyRqGkWXZZrNBQ8csLooi//x8fHzwrCAO9DVJkpRlmaYpOiMOL2MMOWBfB++4E/nnz588z7Hwi+PYdd3g/FRV1awVL44xxnnOGFshVRzHafb9zS9vbmsURQFn6s3DMkJIVVVFURwOB8/z4B4aMdGrQfAw/MV7xzzPPz8/CSHN8RpyRROHeHCD2Dk/URRZlqXrOqVUVVXf97++vppVvXhfBFVuDoy85tCDNwzDNM3j8ZjnOa5dnU4nwzC41hCniuu6GG85FJIkWZalKEoYhhg04PSPRzgcDtDcrusarR/IE0IMw/A8L89ztH4+pKuq+m2VqtmB8twYY7zy66SK7/s3ZcYYq+v66+srTVNKqSzLeZ6HYWjbdpZlmElrmgav0KZpFkXx9+9fSimnCpiW57mmaTBGgYHC87woiiilvIejlMImGAiDSwOe5/m+D5Um9HDH4xF9Z57nm82Gc68pLbzf6/auY04VEobhzRtfqqqmaYopaBzHuq5jFuR5Hjp+jCemaaLPQmAcx5vNv/14c/cPP6EgWZarqnJdt4kM73EgHdwb+LeVbzZpmn6bkM6yTFGUoij49Ptb+s0iLtBbOVWyLLs39QRbPM9zXZfvKTWd/nCTEWjB36aHoyiq6xrzZhhJ4FZAYUOEW2HFfABYK4oSBAEEBv6gT/2eHsCkC8iMv67rRlGUn+0qXIgK/16sL2/GmTzw3m4KfFl+35jGrBha75jfYsKGv2maQl0HmMBQC2Os2evxn+j5sW0bjZ7r+fDeip8+IwmKy/O8LEvUJwgCzHibK5YLDHluCF/hBIzPVi++fMx/+Sq8qqrmAqZfHTDu9Us7ZioMoWOW2CwrSZJfL9I34xNCwjBsGVI8z2sSdZ1U6ac83cRxVu+YeMyqSjcrc7FrcjPOggIvmL9OqhRF0dzmW5B4rqvKp3nXP80tpCzLlk56brVtr08URXwWh5jrpApjzDTNpd9vhYSWMqSgtrZt39wybm+XM/z1GvbVUoUxttvtZiiDh6qkquq9je+H8hkzsiRJfJ09ZrlPLOv7FOh6+3jNVCmK4rpveCKgr87Ksqyb26+vLndg/tC8HZjJhMkdx7l57WDNVPnelc+y7GJxNqEMHirasqyLufJDyaeNDJdM09ahX+kwf3wz7cqpgvsmu91uWVMCXdf56c1Nsc0/kFK63W754dX8K8wYMwyjpXtaP1Vw7ChJUnOPfLaSg7/Ve3fYZlvtexWTZXkRq/yqqmRZbm8hb0EVCBI3iO8JdQ7hq3TeDa2HOY/qnucdDgd+Q/leS3gjqmAyJstyyyB7D6ZXh0dRtN/v7+kOvLr0V+ePG3HNu6SvLrFj/kmSSJLUca77XlQBglEUSZI0E8LAruFMKtOxhfWLFscx/A603Artl3OPVFEUwV9F97TvSBWgE8exqqpQluiO17NiFkXhOA6u+j8rz0XkkyTJ8XgkhEyyHivLEobGb24HtwP4vlQBLkVR4Br2tyLE9alTO3Y9fuXeiAzDmKSt9KjzK5KUZQmXBNCQe0URzTw57ENslL07VTig8G4Ht48tuj48fvcXSqnv+9/DF5zgrOO6TffPb49JKXUcR1VVTdOgvvqs6RmlNAgCDnv77lZ7JfGroMolStBOsW1b07TD4aDrumVZUBfL87woinuyLMuSUpokSRAEsAD/bdJTURTTNMMwXNYJwyUoo/yfJAm2yw6Hg6Zpc4NdUOWXVlDX9beHkCiK4D0YPoOO50c7P3iHIjG8EH9rQWRZ9uvm4y8Fv/3P30f+gN227S6wB0EAawcvQk5Q5UXAimzXhoCgytokKr7nRQgIqrwIWJHt2hD4D1Kdd6EnKyqcAAAAAElFTkSuQmCC)"
      ],
      "metadata": {
        "id": "QAwzyQRC9I0l"
      }
    },
    {
      "cell_type": "markdown",
      "source": [
        "![image.png](data:image/png;base64,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)"
      ],
      "metadata": {
        "id": "UJn_B9dpvfka"
      }
    },
    {
      "cell_type": "markdown",
      "source": [
        "### Neural network\n"
      ],
      "metadata": {
        "id": "OmqWHAUAy5UM"
      }
    },
    {
      "cell_type": "markdown",
      "source": [
        "![image.png](data:image/png;base64,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)"
      ],
      "metadata": {
        "id": "h00y1mG7y1ts"
      }
    },
    {
      "cell_type": "markdown",
      "source": [
        "### Read Data"
      ],
      "metadata": {
        "id": "6jkEwcHYuxwf"
      }
    },
    {
      "cell_type": "code",
      "source": [
        "# https://www.kaggle.com/competitions/cu-minihack-whats-ages/data\n",
        "movies = pd.read_csv('movies.csv')\n",
        "ratings = pd.read_csv('ratings.csv')\n",
        "train_users = pd.read_csv('train_users.csv')\n",
        "test_users = pd.read_csv('test_users.csv')\n",
        "\n",
        "movies['Genres'] = [s.split('|') for s in movies['Genres']]"
      ],
      "metadata": {
        "execution": {
          "iopub.status.busy": "2025-02-03T12:02:58.774903Z",
          "iopub.execute_input": "2025-02-03T12:02:58.775317Z",
          "iopub.status.idle": "2025-02-03T12:02:59.093747Z",
          "shell.execute_reply.started": "2025-02-03T12:02:58.775280Z",
          "shell.execute_reply": "2025-02-03T12:02:59.092643Z"
        },
        "trusted": true,
        "id": "kLq9Ev0Auxwh"
      },
      "outputs": [],
      "execution_count": null
    },
    {
      "cell_type": "code",
      "source": [
        "ltr = len(train_users)\n",
        "data = pd.concat([train_users, test_users]).reset_index(drop = True)"
      ],
      "metadata": {
        "execution": {
          "iopub.status.busy": "2025-02-03T11:24:06.858250Z",
          "iopub.execute_input": "2025-02-03T11:24:06.858659Z",
          "iopub.status.idle": "2025-02-03T11:24:06.871008Z",
          "shell.execute_reply.started": "2025-02-03T11:24:06.858618Z",
          "shell.execute_reply": "2025-02-03T11:24:06.869878Z"
        },
        "trusted": true,
        "id": "rvB85q-5uxwi"
      },
      "outputs": [],
      "execution_count": null
    },
    {
      "cell_type": "markdown",
      "source": [
        "### Create user - film matrix"
      ],
      "metadata": {
        "id": "mcpdIv7kuxwi"
      }
    },
    {
      "cell_type": "code",
      "source": [
        "user_film = csr_matrix((np.ones(len(ratings)),(ratings['UserID'].values,ratings['MovieID'].values)),\n",
        "                      shape=(ratings['UserID'].max() + 1, ratings['MovieID'].max() + 1))\n",
        "\n",
        "user_user = user_film * user_film.T\n",
        "film_film = user_film.T * user_film"
      ],
      "metadata": {
        "execution": {
          "iopub.status.busy": "2025-02-03T11:24:07.593006Z",
          "iopub.execute_input": "2025-02-03T11:24:07.593933Z",
          "iopub.status.idle": "2025-02-03T11:24:12.438680Z",
          "shell.execute_reply.started": "2025-02-03T11:24:07.593891Z",
          "shell.execute_reply": "2025-02-03T11:24:12.437608Z"
        },
        "trusted": true,
        "id": "RP-bqWW6uxwj"
      },
      "outputs": [],
      "execution_count": null
    },
    {
      "cell_type": "markdown",
      "source": [
        "### OHE for compute statistics"
      ],
      "metadata": {
        "id": "sylUV1yEuxwj"
      }
    },
    {
      "cell_type": "code",
      "source": [
        "all_type_genres = [i for s in movies['Genres'] for i in s]\n",
        "all_type_genres = sorted(set(all_type_genres))\n",
        "all_type_genres_dict = {x:i for i,x in enumerate(all_type_genres)}\n",
        "\n",
        "ratings['Genres'] = ratings['MovieID'].map(movies['Genres'])\n",
        "ratings['Genres'] = [[all_type_genres_dict[g] for g in g_list] for g_list in ratings['Genres'] ]\n",
        "\n",
        "for i in (range(len(all_type_genres_dict))):\n",
        "    ratings[f'Genres_{i}'] = [1 if i in g else 0 for g in ratings['Genres']]"
      ],
      "metadata": {
        "execution": {
          "iopub.status.busy": "2025-02-03T11:24:12.440504Z",
          "iopub.execute_input": "2025-02-03T11:24:12.440817Z",
          "iopub.status.idle": "2025-02-03T11:24:20.858589Z",
          "shell.execute_reply.started": "2025-02-03T11:24:12.440787Z",
          "shell.execute_reply": "2025-02-03T11:24:20.857256Z"
        },
        "trusted": true,
        "id": "N1ILEo5Cuxwj"
      },
      "outputs": [],
      "execution_count": null
    },
    {
      "cell_type": "markdown",
      "source": [
        "### Value counts by genre, year and film clusters"
      ],
      "metadata": {
        "id": "wvyFB59CzQjb"
      }
    },
    {
      "cell_type": "code",
      "source": [
        "data['count'] = data['UserID'].map( ratings['UserID'].value_counts() )\n",
        "for i in (range(len(all_type_genres_dict))):\n",
        "    data[f'count_genre_{i}'] = (data['UserID'].map( ratings[ratings[f'Genres_{i}'] == 1]['UserID'].value_counts() ) / data['count']).fillna(0)\n",
        "\n",
        "count_genre_array = data[[col for col in data.columns if 'count_genre_' in col]].values"
      ],
      "metadata": {
        "execution": {
          "iopub.status.busy": "2025-02-03T11:24:20.859879Z",
          "iopub.execute_input": "2025-02-03T11:24:20.860221Z",
          "iopub.status.idle": "2025-02-03T11:24:21.476580Z",
          "shell.execute_reply.started": "2025-02-03T11:24:20.860164Z",
          "shell.execute_reply": "2025-02-03T11:24:21.475451Z"
        },
        "trusted": true,
        "id": "U9I94h7Puxwk"
      },
      "outputs": [],
      "execution_count": null
    },
    {
      "cell_type": "code",
      "source": [
        "movies['year'] = [int(re.findall('\\(\\d+\\)', x)[0][1:-1]) for x in movies['Title']]\n",
        "movies['year_round'] = movies['year']\n",
        "movies.loc[movies['year'] < 1993, 'year_round'] = (movies.loc[movies['year'] < 1993, 'year_round'] // 5) * 5\n",
        "# movies['year_round'].hist(bins = 100)\n",
        "ratings['year'] = ratings['MovieID'].map(movies.set_index('MovieID')['year_round'])\n",
        "\n",
        "for year in (ratings['year'].unique()):\n",
        "    data[f'count_year_{year}'] = (data['UserID'].map( ratings[ratings['year'] == year]['UserID'].value_counts() ) / data['count']).fillna(0)\n",
        "count_year_array = data[[col for col in data.columns if 'count_year_' in col]].values"
      ],
      "metadata": {
        "execution": {
          "iopub.status.busy": "2025-02-03T11:24:21.478720Z",
          "iopub.execute_input": "2025-02-03T11:24:21.479080Z",
          "iopub.status.idle": "2025-02-03T11:24:22.010376Z",
          "shell.execute_reply.started": "2025-02-03T11:24:21.479048Z",
          "shell.execute_reply": "2025-02-03T11:24:22.009200Z"
        },
        "trusted": true,
        "id": "k6GvHKMRuxwl"
      },
      "outputs": [],
      "execution_count": null
    },
    {
      "cell_type": "code",
      "source": [
        "km = KMeans(n_clusters = 15, random_state = 228)\n",
        "clusters = km.fit_predict(np.array(film_film.toarray() ))\n",
        "\n",
        "ratings['cluster'] = 0\n",
        "for i in range(15):\n",
        "    inds = np.where(clusters == i)[0]\n",
        "    ratings.loc[ratings['MovieID'].isin(inds), 'cluster'] = i\n",
        "\n",
        "for year in (ratings['cluster'].unique()):\n",
        "    data[f'count_cluster_{year}'] = (data['UserID'].map( ratings[ratings['cluster'] == year]['UserID'].value_counts() ) / data['count']).fillna(0)\n",
        "count_cluster_array = data[[col for col in data.columns if 'count_cluster_' in col]].values"
      ],
      "metadata": {
        "execution": {
          "iopub.status.busy": "2025-02-03T11:24:22.011775Z",
          "iopub.execute_input": "2025-02-03T11:24:22.012087Z",
          "iopub.status.idle": "2025-02-03T11:24:58.534284Z",
          "shell.execute_reply.started": "2025-02-03T11:24:22.012055Z",
          "shell.execute_reply": "2025-02-03T11:24:58.533065Z"
        },
        "trusted": true,
        "id": "KKKD_I7luxwl"
      },
      "outputs": [],
      "execution_count": null
    },
    {
      "cell_type": "code",
      "source": [
        "km = KMeans(n_clusters = 15, random_state = 228, max_iter = 100)\n",
        "clusters = km.fit_predict(user_user.toarray())\n",
        "\n",
        "data['cluster'] = 0\n",
        "for i in range(15):\n",
        "    inds = np.where(clusters == i)[0]\n",
        "    data.loc[data['UserID'].isin(inds), 'cluster'] = i\n",
        "\n",
        "for i in range(data['cluster'].unique().shape[0]):\n",
        "    data[f'User_cluster_{i}'] = (data['cluster'] == i).astype('int')\n",
        "count_user_cluster_array = data[[col for col in data.columns if 'User_cluster_' in col]].values"
      ],
      "metadata": {
        "execution": {
          "iopub.status.busy": "2025-02-03T11:24:58.536292Z",
          "iopub.execute_input": "2025-02-03T11:24:58.536726Z",
          "iopub.status.idle": "2025-02-03T11:26:07.153641Z",
          "shell.execute_reply.started": "2025-02-03T11:24:58.536678Z",
          "shell.execute_reply": "2025-02-03T11:26:07.152673Z"
        },
        "trusted": true,
        "id": "8SC6b9ftuxwl"
      },
      "outputs": [],
      "execution_count": null
    },
    {
      "cell_type": "markdown",
      "source": [
        "### Occupation OHE"
      ],
      "metadata": {
        "id": "sGEO9p7xzfVQ"
      }
    },
    {
      "cell_type": "code",
      "source": [
        "for i in range(data['Occupation'].unique().shape[0]):\n",
        "    data[f'Occupation_{i}'] = (data['Occupation'] == i).astype('int')\n",
        "\n",
        "occupation_array = data[[col for col in data.columns if 'Occupation_' in col]].values"
      ],
      "metadata": {
        "execution": {
          "iopub.status.busy": "2025-02-03T11:26:07.154782Z",
          "iopub.execute_input": "2025-02-03T11:26:07.155094Z",
          "iopub.status.idle": "2025-02-03T11:26:07.176881Z",
          "shell.execute_reply.started": "2025-02-03T11:26:07.155062Z",
          "shell.execute_reply": "2025-02-03T11:26:07.175983Z"
        },
        "trusted": true,
        "id": "sWAqGDkuuxwm"
      },
      "outputs": [],
      "execution_count": null
    },
    {
      "cell_type": "markdown",
      "source": [
        "### Validation"
      ],
      "metadata": {
        "execution": {
          "iopub.execute_input": "2024-09-21T23:36:35.434013Z",
          "iopub.status.busy": "2024-09-21T23:36:35.433524Z",
          "iopub.status.idle": "2024-09-21T23:36:35.440329Z",
          "shell.execute_reply": "2024-09-21T23:36:35.439091Z",
          "shell.execute_reply.started": "2024-09-21T23:36:35.433968Z"
        },
        "id": "hqRGPcoNuxwm"
      }
    },
    {
      "cell_type": "code",
      "source": [
        "skf = StratifiedKFold(n_splits = 5, shuffle = True, random_state = 322)\n",
        "split_list = [x for x in skf.split(data.loc[:ltr-1], data.loc[:ltr-1, 'Age'])]"
      ],
      "metadata": {
        "execution": {
          "iopub.status.busy": "2025-02-03T11:26:07.177999Z",
          "iopub.execute_input": "2025-02-03T11:26:07.178327Z",
          "iopub.status.idle": "2025-02-03T11:26:07.199476Z",
          "shell.execute_reply.started": "2025-02-03T11:26:07.178297Z",
          "shell.execute_reply": "2025-02-03T11:26:07.198520Z"
        },
        "trusted": true,
        "id": "N875oxBYuxwm"
      },
      "outputs": [],
      "execution_count": null
    },
    {
      "cell_type": "markdown",
      "source": [
        "### Linear regression prediction"
      ],
      "metadata": {
        "id": "V-80cEr9zkm4"
      }
    },
    {
      "cell_type": "markdown",
      "source": [
        "### Check Linear Regression parameters\n",
        "\n",
        "**1. normalize data**\n",
        "\n",
        "**2. alpha**"
      ],
      "metadata": {
        "id": "_x8IEEFw4tTT"
      }
    },
    {
      "cell_type": "code",
      "source": [
        "tocsr_index = data['UserID'].sort_values().index\n",
        "\n",
        "lr_data_1 = np.concatenate([user_film.toarray(), count_genre_array[tocsr_index], count_year_array[tocsr_index],\n",
        "                         occupation_array[tocsr_index], count_cluster_array[tocsr_index], count_user_cluster_array[tocsr_index]], 1)\n",
        "lr_data_2 = np.concatenate([count_genre_array[tocsr_index], count_year_array[tocsr_index],\n",
        "                         occupation_array[tocsr_index], count_cluster_array[tocsr_index], count_user_cluster_array[tocsr_index]], 1)\n",
        "lr_data_3 = np.concatenate([user_film.toarray()], 1)\n",
        "\n",
        "list_lr_data = [lr_data_1, lr_data_2, lr_data_3]\n",
        "alpha_list = [250, 1, 500]\n",
        "name_col_list = ['full_predict_lr', 'notuser_predict_lr', 'user_predict_lr']\n",
        "\n",
        "for name_col, alpha, lr_data in zip(name_col_list, alpha_list, list_lr_data):\n",
        "    predict_lr = np.zeros(len(data))\n",
        "    sc_list = []\n",
        "    for train_index, val_index  in split_list:\n",
        "        train_index_tmp = data.loc[train_index, 'UserID'].values\n",
        "        val_index_tmp = data.loc[val_index, 'UserID'].values\n",
        "        test_index_tmp = data.loc[ltr:, 'UserID'].values\n",
        "\n",
        "        X_train = lr_data[train_index_tmp]\n",
        "        X_val = lr_data[val_index_tmp]\n",
        "        X_test = lr_data[test_index_tmp]\n",
        "\n",
        "        y_train = data.loc[train_index, 'Age'].values\n",
        "        y_val = data.loc[val_index, 'Age'].values\n",
        "\n",
        "        lr = Ridge(alpha = alpha, fit_intercept = True)\n",
        "        lr.fit(X_train, y_train)\n",
        "\n",
        "#         list_lr += [lr]\n",
        "        predict_lr[val_index] = lr.predict(X_val)\n",
        "        predict_lr[ltr:] += lr.predict(X_test) / len(split_list)\n",
        "        sc = mean_squared_error(y_val, predict_lr[val_index])\n",
        "        sc_list += [sc]\n",
        "    print(name_col, np.mean(sc))\n",
        "\n",
        "    data[name_col] = predict_lr"
      ],
      "metadata": {
        "execution": {
          "iopub.status.busy": "2025-02-03T11:26:07.203552Z",
          "iopub.execute_input": "2025-02-03T11:26:07.203911Z",
          "iopub.status.idle": "2025-02-03T11:26:25.425137Z",
          "shell.execute_reply.started": "2025-02-03T11:26:07.203877Z",
          "shell.execute_reply": "2025-02-03T11:26:25.423436Z"
        },
        "trusted": true,
        "colab": {
          "base_uri": "https://localhost:8080/"
        },
        "id": "JZcCQbkkuxwm",
        "outputId": "c6f46b6e-9842-4dc5-a16d-6a86aa707aae"
      },
      "outputs": [
        {
          "output_type": "stream",
          "name": "stdout",
          "text": [
            "full_predict_lr 73.54915740938804\n",
            "notuser_predict_lr 80.96613681031195\n",
            "user_predict_lr 82.0595102143436\n"
          ]
        }
      ],
      "execution_count": null
    },
    {
      "cell_type": "markdown",
      "source": [
        "### Intresting *films*"
      ],
      "metadata": {
        "id": "R8XzvVbU0VEJ"
      }
    },
    {
      "cell_type": "code",
      "source": [
        "tmpq = []\n",
        "# adds =\n",
        "vc = ratings['MovieID'].value_counts()\n",
        "vc = vc[vc > 100]\n",
        "print(len(vc))\n",
        "for k in (vc.index):\n",
        "    l = ratings[ratings['MovieID'] == k]['UserID'].unique()\n",
        "    s = data[data['UserID'].isin(l)]['Age'].std()\n",
        "    m = data[data['UserID'].isin(l)]['Age'].mean()\n",
        "    if m < data['Age'].mean() - 2.5 or m > data['Age'].mean() + 2.5:\n",
        "        tmpq += [(s, m , k)]"
      ],
      "metadata": {
        "execution": {
          "iopub.status.busy": "2025-02-03T11:26:25.432376Z",
          "iopub.execute_input": "2025-02-03T11:26:25.433557Z",
          "iopub.status.idle": "2025-02-03T11:26:40.061475Z",
          "shell.execute_reply.started": "2025-02-03T11:26:25.433496Z",
          "shell.execute_reply": "2025-02-03T11:26:40.060264Z"
        },
        "trusted": true,
        "colab": {
          "base_uri": "https://localhost:8080/"
        },
        "id": "yhUAZJuFuxwn",
        "outputId": "72bf2c3f-6975-484c-ab4f-0b0384730f3b"
      },
      "outputs": [
        {
          "output_type": "stream",
          "name": "stdout",
          "text": [
            "1981\n"
          ]
        }
      ],
      "execution_count": null
    },
    {
      "cell_type": "code",
      "source": [
        "strange_films = [x[2] for x in tmpq ]\n",
        "len(strange_films)"
      ],
      "metadata": {
        "execution": {
          "iopub.status.busy": "2025-02-03T11:26:40.062969Z",
          "iopub.execute_input": "2025-02-03T11:26:40.063414Z",
          "iopub.status.idle": "2025-02-03T11:26:40.075034Z",
          "shell.execute_reply.started": "2025-02-03T11:26:40.063367Z",
          "shell.execute_reply": "2025-02-03T11:26:40.073840Z"
        },
        "trusted": true,
        "colab": {
          "base_uri": "https://localhost:8080/"
        },
        "id": "wJ4w_xGBuxwn",
        "outputId": "9c9bf64f-3a29-433f-f783-875ff326e008"
      },
      "outputs": [
        {
          "output_type": "execute_result",
          "data": {
            "text/plain": [
              "1099"
            ]
          },
          "metadata": {},
          "execution_count": 21
        }
      ],
      "execution_count": null
    },
    {
      "cell_type": "code",
      "source": [
        "for f in strange_films:\n",
        "    uniq = ratings[ratings['MovieID'] == f]['UserID'].unique()\n",
        "    data[f'{f}_flm'] = data['UserID'].isin(uniq).astype('int')"
      ],
      "metadata": {
        "execution": {
          "iopub.status.busy": "2025-02-03T11:26:40.076467Z",
          "iopub.execute_input": "2025-02-03T11:26:40.076869Z",
          "iopub.status.idle": "2025-02-03T11:26:43.470551Z",
          "shell.execute_reply.started": "2025-02-03T11:26:40.076825Z",
          "shell.execute_reply": "2025-02-03T11:26:43.469481Z"
        },
        "trusted": true,
        "id": "De2NibCfuxwn"
      },
      "outputs": [],
      "execution_count": null
    },
    {
      "cell_type": "code",
      "source": [
        "# data  = data.drop([x for x in data.columns if '_flm' in x], axis = 1)"
      ],
      "metadata": {
        "execution": {
          "iopub.status.busy": "2025-02-03T11:26:43.471600Z",
          "iopub.execute_input": "2025-02-03T11:26:43.471876Z",
          "iopub.status.idle": "2025-02-03T11:26:43.475843Z",
          "shell.execute_reply.started": "2025-02-03T11:26:43.471849Z",
          "shell.execute_reply": "2025-02-03T11:26:43.474900Z"
        },
        "trusted": true,
        "id": "ZLPzMNe4uxwn"
      },
      "outputs": [],
      "execution_count": null
    },
    {
      "cell_type": "markdown",
      "source": [
        "### Target mean"
      ],
      "metadata": {
        "id": "2AiCyBeX0dJU"
      }
    },
    {
      "cell_type": "code",
      "source": [
        "for col in ['Occupation', 'cluster']:\n",
        "    target_mean = np.zeros(len(data))\n",
        "    for train_index, test_index in split_list:\n",
        "        tmp_target_mean = data.loc[train_index].groupby('Occupation')['Age'].mean()\n",
        "        target_mean[test_index] = data.loc[test_index, 'Occupation'].map(tmp_target_mean).values\n",
        "        target_mean[ltr:] += ( data.loc[ltr:, 'Occupation'].map(tmp_target_mean) / len(split_list) )\n",
        "    data[f'target_mean_{col}'] = target_mean"
      ],
      "metadata": {
        "execution": {
          "iopub.status.busy": "2025-02-03T11:26:43.476953Z",
          "iopub.execute_input": "2025-02-03T11:26:43.477267Z",
          "iopub.status.idle": "2025-02-03T11:26:43.962530Z",
          "shell.execute_reply.started": "2025-02-03T11:26:43.477237Z",
          "shell.execute_reply": "2025-02-03T11:26:43.961727Z"
        },
        "trusted": true,
        "id": "NQrGX2p0uxwn"
      },
      "outputs": [],
      "execution_count": null
    },
    {
      "cell_type": "markdown",
      "source": [
        "![image.png](data:image/png;base64,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)"
      ],
      "metadata": {
        "id": "d19VZEdDHIyS"
      }
    },
    {
      "cell_type": "code",
      "source": [
        "alpha = 100\n",
        "for col in ['Occupation', 'cluster']:\n",
        "    target_mean = np.zeros(len(data))\n",
        "    for train_index, test_index in split_list:\n",
        "        tmp_target_mean = (data.loc[train_index].groupby('Occupation')['Age'].mean() * data.loc[train_index]['Occupation'].value_counts() +\n",
        "                 data.loc[train_index, 'Age'].mean() + alpha) / data.loc[train_index]['Occupation'].value_counts()\n",
        "        target_mean[test_index] = data.loc[test_index, 'Occupation'].map(tmp_target_mean).values\n",
        "        target_mean[ltr:] += ( data.loc[ltr:, 'Occupation'].map(tmp_target_mean) / len(split_list) )\n",
        "    data[f'target_stas_mean_{col}'] = target_mean"
      ],
      "metadata": {
        "execution": {
          "iopub.status.busy": "2025-02-03T11:26:43.963635Z",
          "iopub.execute_input": "2025-02-03T11:26:43.963941Z",
          "iopub.status.idle": "2025-02-03T11:26:45.314351Z",
          "shell.execute_reply.started": "2025-02-03T11:26:43.963911Z",
          "shell.execute_reply": "2025-02-03T11:26:45.313532Z"
        },
        "trusted": true,
        "id": "5HP3WKI1uxwo"
      },
      "outputs": [],
      "execution_count": null
    },
    {
      "cell_type": "code",
      "source": [
        "# for k in ratings['MovieID'].value_counts()[:300]:\n",
        "#     for train_index, test_index in split_list:\n",
        "#         tmp_rat = ratings[ratings['UserID'].isin(data.loc[train_index, 'UserID'].values)]\n",
        "#         tmp_rat = tmp_rat[tmp_rat.MovieID == k]\n",
        "#         check_users = data.loc[data['UserID'].isin(tmp_rat['UserID'].unique())]['Age'].mean()\n",
        "# #"
      ],
      "metadata": {
        "execution": {
          "iopub.status.busy": "2025-02-03T11:26:45.315615Z",
          "iopub.execute_input": "2025-02-03T11:26:45.315937Z",
          "iopub.status.idle": "2025-02-03T11:26:45.320441Z",
          "shell.execute_reply.started": "2025-02-03T11:26:45.315906Z",
          "shell.execute_reply": "2025-02-03T11:26:45.319387Z"
        },
        "trusted": true,
        "id": "pePUfFG9uxwo"
      },
      "outputs": [],
      "execution_count": null
    },
    {
      "cell_type": "markdown",
      "source": [
        "### Similarity"
      ],
      "metadata": {
        "id": "PRQZiViZ0_mH"
      }
    },
    {
      "cell_type": "code",
      "source": [
        "user_user_args = np.argsort(user_user.toarray(), 1)[:, ::-1][:, 1:]"
      ],
      "metadata": {
        "execution": {
          "iopub.status.busy": "2025-02-03T11:26:45.321622Z",
          "iopub.execute_input": "2025-02-03T11:26:45.321932Z",
          "iopub.status.idle": "2025-02-03T11:26:47.686948Z",
          "shell.execute_reply.started": "2025-02-03T11:26:45.321902Z",
          "shell.execute_reply": "2025-02-03T11:26:47.686141Z"
        },
        "trusted": true,
        "id": "PEE1kAsOuxwo"
      },
      "outputs": [],
      "execution_count": null
    },
    {
      "cell_type": "code",
      "source": [
        "NUM_BEST_MAN = 100\n",
        "closes_mans = [0] * (ratings['UserID'].max() + 1)\n",
        "for train_index, test_index in split_list:\n",
        "    train_index = data.loc[train_index, 'UserID'].values\n",
        "    test_index = data.loc[test_index, 'UserID'].values\n",
        "\n",
        "    set_train_index = set(train_index)\n",
        "    for i in (list(test_index)):\n",
        "        closes_mans[i] = list(set(user_user_args[i, :NUM_BEST_MAN].tolist()) & set(train_index))\n",
        "\n",
        "train_index, test_index  = data.loc[:ltr-1, 'UserID'], data.loc[ltr:, 'UserID']\n",
        "for i in (list(test_index)):\n",
        "    closes_mans[i] = list(set(user_user_args[i, :NUM_BEST_MAN].tolist()) & set(train_index))\n",
        "\n",
        "data['User_user'] = [ data.loc[data['UserID'].isin(x), 'Age'].mean() for x in closes_mans]"
      ],
      "metadata": {
        "execution": {
          "iopub.status.busy": "2025-02-03T11:26:47.688091Z",
          "iopub.execute_input": "2025-02-03T11:26:47.688427Z",
          "iopub.status.idle": "2025-02-03T11:26:49.982275Z",
          "shell.execute_reply.started": "2025-02-03T11:26:47.688397Z",
          "shell.execute_reply": "2025-02-03T11:26:49.981244Z"
        },
        "trusted": true,
        "id": "44LISXx6uxwo"
      },
      "outputs": [],
      "execution_count": null
    },
    {
      "cell_type": "code",
      "source": [
        "# mean_squared_error(data.loc[:ltr - 1, 'Age'], data.loc[:ltr - 1, 'User_user'].fillna(data['Age'].mean()))"
      ],
      "metadata": {
        "execution": {
          "iopub.status.busy": "2025-02-03T11:26:49.983767Z",
          "iopub.execute_input": "2025-02-03T11:26:49.984495Z",
          "iopub.status.idle": "2025-02-03T11:26:49.988877Z",
          "shell.execute_reply.started": "2025-02-03T11:26:49.984436Z",
          "shell.execute_reply": "2025-02-03T11:26:49.987973Z"
        },
        "trusted": true,
        "id": "lZGVpgtouxwo"
      },
      "outputs": [],
      "execution_count": null
    },
    {
      "cell_type": "markdown",
      "source": [
        "### Constant prediction"
      ],
      "metadata": {
        "id": "tjaE8UgDuxwo"
      }
    },
    {
      "cell_type": "code",
      "source": [
        "mean_squared_error(data.loc[:ltr - 1, 'Age'], np.zeros(ltr) + data['Age'][:ltr].mean())"
      ],
      "metadata": {
        "execution": {
          "iopub.status.busy": "2025-02-03T11:26:49.990332Z",
          "iopub.execute_input": "2025-02-03T11:26:49.990749Z",
          "iopub.status.idle": "2025-02-03T11:26:50.003449Z",
          "shell.execute_reply.started": "2025-02-03T11:26:49.990705Z",
          "shell.execute_reply": "2025-02-03T11:26:50.002269Z"
        },
        "trusted": true,
        "colab": {
          "base_uri": "https://localhost:8080/"
        },
        "id": "_Kv4F6-5uxwo",
        "outputId": "1464692d-a6b1-4eb8-f9b5-dbf21e01cae1"
      },
      "outputs": [
        {
          "output_type": "execute_result",
          "data": {
            "text/plain": [
              "136.7415118923997"
            ]
          },
          "metadata": {},
          "execution_count": 30
        }
      ],
      "execution_count": null
    },
    {
      "cell_type": "markdown",
      "source": [
        "### Train boosting"
      ],
      "metadata": {
        "id": "WvYqOE-kuxwp"
      }
    },
    {
      "cell_type": "code",
      "source": [
        "# data.columns\n",
        "drop_cols = ['UserID', 'Age', 'cluster', 'Occupation', 'User_user']\n",
        "train_cols = [col for col in data.columns if col not in drop_cols ]\n",
        "len(train_cols)"
      ],
      "metadata": {
        "execution": {
          "iopub.status.busy": "2025-02-03T11:26:50.004605Z",
          "iopub.execute_input": "2025-02-03T11:26:50.004915Z",
          "iopub.status.idle": "2025-02-03T11:26:50.015612Z",
          "shell.execute_reply.started": "2025-02-03T11:26:50.004873Z",
          "shell.execute_reply": "2025-02-03T11:26:50.014536Z"
        },
        "trusted": true,
        "colab": {
          "base_uri": "https://localhost:8080/"
        },
        "id": "Q_nEFPmYuxwp",
        "outputId": "a4944076-45f9-485a-b66a-ca41d873d79d"
      },
      "outputs": [
        {
          "output_type": "execute_result",
          "data": {
            "text/plain": [
              "1200"
            ]
          },
          "metadata": {},
          "execution_count": 31
        }
      ],
      "execution_count": null
    },
    {
      "cell_type": "markdown",
      "source": [
        "### Check LightGBM parameters\n",
        "\n",
        "**1. num_leaves**\n",
        "\n",
        "**2. lambda_l2, lambda_l1**\n",
        "\n",
        "**3. extra_trees**\n",
        "\n",
        "**4. min_data_in_leaf**\n",
        "\n",
        "**5. feature_fraction, bagging_fraction , bagging_freq**\n",
        "\n",
        "**6. dart, linear_tree**\n",
        "\n",
        "**7. reg_sqrt , scale_pos_weight , is_unbalance**"
      ],
      "metadata": {
        "execution": {
          "iopub.status.busy": "2025-02-03T11:53:10.742050Z",
          "iopub.execute_input": "2025-02-03T11:53:10.742493Z",
          "iopub.status.idle": "2025-02-03T11:53:10.769931Z",
          "shell.execute_reply.started": "2025-02-03T11:53:10.742454Z",
          "shell.execute_reply": "2025-02-03T11:53:10.767816Z"
        },
        "id": "R3zQLQByuxwp"
      }
    },
    {
      "cell_type": "code",
      "source": [
        "param_lgb = {\n",
        "    'objective':        'mse',\n",
        "    'verbosity':        -1,\n",
        "    'boosting_type':    'gbdt',\n",
        "    'random_state':     42,\n",
        "    'lambda_l2':        5,\n",
        "    'learning_rate':    0.1,\n",
        "    'num_leaves':       32,\n",
        "    'extra_trees' : True,\n",
        "    'metric' :        'mse',\n",
        "}"
      ],
      "metadata": {
        "trusted": true,
        "id": "KoC4KjpAuxwp"
      },
      "outputs": [],
      "execution_count": null
    },
    {
      "cell_type": "code",
      "source": [
        "full_tr = lgb.Dataset(data[train_cols].values, data['Age'].values)\n",
        "cv = lgb.cv(param_lgb, full_tr, 400, folds = split_list, callbacks = [lgb.early_stopping(50), lgb.log_evaluation(10)]  )\n",
        "num_trees = np.argmin(cv['valid l2-mean']) + 1\n",
        "\n",
        "predict_train = np.zeros(ltr)\n",
        "predict_test = np.zeros(len(test_users))\n",
        "\n",
        "bst_list = []\n",
        "for train_index, test_index in split_list:\n",
        "    tr = lgb.Dataset(data.loc[train_index, train_cols], data['Age'][train_index])\n",
        "    te = lgb.Dataset(data.loc[test_index, train_cols], data['Age'][test_index], reference=tr)\n",
        "    bst = lgb.train(param_lgb, tr, num_boost_round=num_trees)\n",
        "    bst_list += [bst]\n",
        "\n",
        "    predict_train[test_index] = bst.predict(data.loc[test_index, train_cols])\n",
        "    predict_test += bst.predict(data.loc[ltr:, train_cols]) / len(split_list)\n",
        "\n",
        "mean_squared_error(data.loc[:ltr - 1, 'Age'],predict_train)"
      ],
      "metadata": {
        "execution": {
          "iopub.status.busy": "2025-02-03T11:56:33.135200Z",
          "iopub.execute_input": "2025-02-03T11:56:33.135645Z",
          "iopub.status.idle": "2025-02-03T11:56:44.287138Z",
          "shell.execute_reply.started": "2025-02-03T11:56:33.135606Z",
          "shell.execute_reply": "2025-02-03T11:56:44.286043Z"
        },
        "trusted": true,
        "colab": {
          "base_uri": "https://localhost:8080/"
        },
        "id": "AYDzPxs-uxwp",
        "outputId": "27aed139-b458-4b12-f20a-9681a8f9fdd2"
      },
      "outputs": [
        {
          "output_type": "stream",
          "name": "stdout",
          "text": [
            "Training until validation scores don't improve for 50 rounds\n",
            "[10]\tcv_agg's valid l2: 69.2021 + 2.87493\n",
            "[20]\tcv_agg's valid l2: 57.4814 + 2.95933\n",
            "[30]\tcv_agg's valid l2: 55.1697 + 2.81454\n",
            "[40]\tcv_agg's valid l2: 54.6437 + 2.80271\n",
            "[50]\tcv_agg's valid l2: 54.6211 + 2.94139\n",
            "[60]\tcv_agg's valid l2: 54.7248 + 2.97829\n",
            "[70]\tcv_agg's valid l2: 54.8416 + 2.92268\n",
            "[80]\tcv_agg's valid l2: 55.0117 + 2.83982\n",
            "[90]\tcv_agg's valid l2: 55.1044 + 2.70474\n",
            "[100]\tcv_agg's valid l2: 55.3025 + 2.90156\n",
            "Early stopping, best iteration is:\n",
            "[57]\tcv_agg's valid l2: 54.5651 + 2.94074\n"
          ]
        },
        {
          "output_type": "execute_result",
          "data": {
            "text/plain": [
              "54.75671799263055"
            ]
          },
          "metadata": {},
          "execution_count": 33
        }
      ],
      "execution_count": null
    },
    {
      "cell_type": "code",
      "source": [
        "train_cols = [col for col in data.columns if col not in drop_cols ]\n",
        "feat_imp = np.zeros(len(train_cols))\n",
        "for k in range(len(split_list)):\n",
        "    feat_imp += bst.feature_importance(importance_type = 'gain')\n",
        "srt_cols = [int(x[1].split('_')[0]) for x in sorted(zip(feat_imp, train_cols))[::-1] if 'flm' in x[1]]\n",
        "bad_cols = [f'{x}_flm' for x in srt_cols]"
      ],
      "metadata": {
        "execution": {
          "iopub.status.busy": "2025-02-03T11:27:04.296113Z",
          "iopub.execute_input": "2025-02-03T11:27:04.296476Z",
          "iopub.status.idle": "2025-02-03T11:27:04.305954Z",
          "shell.execute_reply.started": "2025-02-03T11:27:04.296446Z",
          "shell.execute_reply": "2025-02-03T11:27:04.305030Z"
        },
        "trusted": true,
        "id": "_Tu4Uq3Wuxwq"
      },
      "outputs": [],
      "execution_count": null
    },
    {
      "cell_type": "code",
      "source": [
        "sorted(zip(bst.feature_importance(importance_type = 'gain'), train_cols))[::-1] [:10]"
      ],
      "metadata": {
        "execution": {
          "iopub.status.busy": "2025-02-03T11:27:04.307422Z",
          "iopub.execute_input": "2025-02-03T11:27:04.308107Z",
          "iopub.status.idle": "2025-02-03T11:27:04.328697Z",
          "shell.execute_reply.started": "2025-02-03T11:27:04.308061Z",
          "shell.execute_reply": "2025-02-03T11:27:04.327643Z"
        },
        "trusted": true,
        "colab": {
          "base_uri": "https://localhost:8080/"
        },
        "id": "swG9PYW_uxwq",
        "outputId": "8ff4ae7a-3f1b-43fe-92c0-8de6e0f34953"
      },
      "outputs": [
        {
          "output_type": "execute_result",
          "data": {
            "text/plain": [
              "[(796635.2707366943, 'full_predict_lr'),\n",
              " (495508.627532959, 'user_predict_lr'),\n",
              " (114801.08285522461, 'notuser_predict_lr'),\n",
              " (76575.38201904297, 'Occupation_4'),\n",
              " (50810.10334777832, 'Occupation_13'),\n",
              " (15970.26628112793, 'count_cluster_7'),\n",
              " (9362.380012512207, 'count_cluster_2'),\n",
              " (8471.645065307617, '3204_flm'),\n",
              " (8176.216003417969, '126_flm'),\n",
              " (7462.996978759766, '3187_flm')]"
            ]
          },
          "metadata": {},
          "execution_count": 35
        }
      ],
      "execution_count": null
    },
    {
      "cell_type": "markdown",
      "source": [
        "### Basic feature selection"
      ],
      "metadata": {
        "id": "PDUbIPSa1WvA"
      }
    },
    {
      "cell_type": "code",
      "source": [
        "# data.columns\n",
        "drop_cols = ['UserID', 'Age', 'cluster', 'Occupation', 'User_user']\n",
        "train_cols = [col for col in data.columns if col not in drop_cols +  bad_cols[100:]]\n",
        "len(train_cols)"
      ],
      "metadata": {
        "execution": {
          "iopub.status.busy": "2025-02-03T11:27:04.331925Z",
          "iopub.execute_input": "2025-02-03T11:27:04.332576Z",
          "iopub.status.idle": "2025-02-03T11:27:04.361615Z",
          "shell.execute_reply.started": "2025-02-03T11:27:04.332543Z",
          "shell.execute_reply": "2025-02-03T11:27:04.360602Z"
        },
        "trusted": true,
        "colab": {
          "base_uri": "https://localhost:8080/"
        },
        "id": "RKUoxbxzuxwq",
        "outputId": "13a8e07e-d9f6-4020-b17b-f9d205c065df"
      },
      "outputs": [
        {
          "output_type": "execute_result",
          "data": {
            "text/plain": [
              "201"
            ]
          },
          "metadata": {},
          "execution_count": 36
        }
      ],
      "execution_count": null
    },
    {
      "cell_type": "code",
      "source": [
        "full_tr = lgb.Dataset(data[train_cols].values, data['Age'].values)\n",
        "cv = lgb.cv(param_lgb, full_tr, 400, folds = split_list, callbacks = [lgb.early_stopping(50), lgb.log_evaluation(10)]  )\n",
        "num_trees = np.argmin(cv['valid l2-mean']) + 1\n",
        "\n",
        "predict_train = np.zeros(ltr)\n",
        "predict_test = np.zeros(len(test_users))\n",
        "\n",
        "bst_list = []\n",
        "for train_index, test_index in split_list:\n",
        "    tr = lgb.Dataset(data.loc[train_index, train_cols], data['Age'][train_index])\n",
        "    te = lgb.Dataset(data.loc[test_index, train_cols], data['Age'][test_index], reference=tr)\n",
        "    bst = lgb.train(param_lgb, tr, num_boost_round=num_trees)\n",
        "    bst_list += [bst]\n",
        "\n",
        "    predict_train[test_index] = bst.predict(data.loc[test_index, train_cols])\n",
        "    predict_test += bst.predict(data.loc[ltr:, train_cols]) / len(split_list)\n",
        "\n",
        "mean_squared_error(data.loc[:ltr - 1, 'Age'],predict_train)"
      ],
      "metadata": {
        "execution": {
          "iopub.status.busy": "2025-02-03T11:27:06.576104Z",
          "iopub.execute_input": "2025-02-03T11:27:06.576865Z",
          "iopub.status.idle": "2025-02-03T11:27:18.253204Z",
          "shell.execute_reply.started": "2025-02-03T11:27:06.576829Z",
          "shell.execute_reply": "2025-02-03T11:27:18.251979Z"
        },
        "trusted": true,
        "colab": {
          "base_uri": "https://localhost:8080/"
        },
        "id": "woW0vrpyuxwt",
        "outputId": "0823547f-eba9-486b-e9e3-a8a9c5746b70"
      },
      "outputs": [
        {
          "output_type": "stream",
          "name": "stdout",
          "text": [
            "Training until validation scores don't improve for 50 rounds\n",
            "[10]\tcv_agg's valid l2: 68.7934 + 3.00312\n",
            "[20]\tcv_agg's valid l2: 57.2489 + 3.58182\n",
            "[30]\tcv_agg's valid l2: 54.6534 + 3.70396\n",
            "[40]\tcv_agg's valid l2: 54.0043 + 3.98636\n",
            "[50]\tcv_agg's valid l2: 53.9073 + 3.94462\n",
            "[60]\tcv_agg's valid l2: 54.0429 + 4.11927\n",
            "[70]\tcv_agg's valid l2: 54.0447 + 4.14493\n",
            "[80]\tcv_agg's valid l2: 54.0829 + 4.04324\n",
            "[90]\tcv_agg's valid l2: 54.1722 + 4.06093\n",
            "Early stopping, best iteration is:\n",
            "[49]\tcv_agg's valid l2: 53.8771 + 3.89681\n"
          ]
        },
        {
          "output_type": "execute_result",
          "data": {
            "text/plain": [
              "53.284973534952734"
            ]
          },
          "metadata": {},
          "execution_count": 37
        }
      ],
      "execution_count": null
    },
    {
      "cell_type": "markdown",
      "source": [
        "### Normal feature selection"
      ],
      "metadata": {
        "id": "CHl5aS8C1y78"
      }
    },
    {
      "cell_type": "code",
      "source": [
        "new_data = data.copy()\n",
        "score_dict = {}\n",
        "for col in tqdm(train_cols):\n",
        "    tmp_col = new_data[col].copy()\n",
        "    new_data[col] = new_data[col].sample(frac = 1., random_state = 322).reset_index(drop = True)\n",
        "    pred = np.zeros(ltr)\n",
        "    for (_, test_index), bst in zip(split_list, bst_list):\n",
        "        pred[test_index] = bst.predict(new_data.loc[test_index, train_cols])\n",
        "    score_dict[col] = mean_squared_error(data.loc[:ltr - 1, 'Age'],pred)\n",
        "    # if score_dict[col] < 53.69633481866755:\n",
        "    #     print(col)\n",
        "    new_data[col] = tmp_col"
      ],
      "metadata": {
        "trusted": true,
        "execution": {
          "iopub.status.busy": "2025-02-03T11:33:39.068582Z",
          "iopub.execute_input": "2025-02-03T11:33:39.068963Z",
          "iopub.status.idle": "2025-02-03T11:33:53.853948Z",
          "shell.execute_reply.started": "2025-02-03T11:33:39.068930Z",
          "shell.execute_reply": "2025-02-03T11:33:53.852879Z"
        },
        "colab": {
          "base_uri": "https://localhost:8080/",
          "height": 49,
          "referenced_widgets": [
            "cfdb917a9b1742f78cf07e75b5e06e16",
            "2093374740674faa8013fbfd09dd38b8",
            "78c65380cfa046e0a05d6c51c97815fa",
            "5ad0be4ae2de487f840a10208a2593b9",
            "cd2bdee1039e444f8812b8aa05d25281",
            "ead5bc275ad94488ba8df372fc61614c",
            "55e04d7b877442dc87b047f11db15f31",
            "6477504fbf1f4ce38f4bce70b2d2b71a",
            "c57d650492734b7b9c7928ad42deb59f",
            "98b21344ba8e4697a3f8626bdb17f4cb",
            "4f1f98a262fa4017aa91b467bebfff01"
          ]
        },
        "id": "75Sk3immuxwu",
        "outputId": "8d9f4153-89a6-4a86-fd97-fa225552c52d"
      },
      "outputs": [
        {
          "output_type": "display_data",
          "data": {
            "text/plain": [
              "  0%|          | 0/201 [00:00<?, ?it/s]"
            ],
            "application/vnd.jupyter.widget-view+json": {
              "version_major": 2,
              "version_minor": 0,
              "model_id": "cfdb917a9b1742f78cf07e75b5e06e16"
            }
          },
          "metadata": {}
        }
      ],
      "execution_count": null
    },
    {
      "cell_type": "code",
      "source": [
        "bad_cols_new = [col for col in score_dict if score_dict[col] < 53.3]\n",
        "train_cols_new = [col for col in train_cols if col not in bad_cols_new]\n",
        "full_tr = lgb.Dataset(data[train_cols_new].values, data['Age'].values)\n",
        "cv = lgb.cv(param_lgb, full_tr, 400, folds = split_list, callbacks = [lgb.early_stopping(50), lgb.log_evaluation(10)]  )\n",
        "num_trees = np.argmin(cv['valid l2-mean']) + 1\n",
        "\n",
        "predict_train = np.zeros(ltr)\n",
        "predict_test = np.zeros(len(test_users))\n",
        "\n",
        "bst_list = []\n",
        "for train_index, test_index in split_list:\n",
        "    tr = lgb.Dataset(data.loc[train_index, train_cols_new], data['Age'][train_index])\n",
        "    te = lgb.Dataset(data.loc[test_index, train_cols_new], data['Age'][test_index], reference=tr)\n",
        "    bst = lgb.train(param_lgb, tr, num_boost_round=num_trees)\n",
        "    bst_list += [bst]\n",
        "\n",
        "    predict_train[test_index] = bst.predict(data.loc[test_index, train_cols_new])\n",
        "    predict_test += bst.predict(data.loc[ltr:, train_cols_new]) / len(split_list)\n",
        "\n",
        "\n",
        "predict_train_good = list(predict_train)\n",
        "mean_squared_error(data.loc[:ltr - 1, 'Age'],predict_train)"
      ],
      "metadata": {
        "trusted": true,
        "execution": {
          "iopub.status.busy": "2025-02-03T11:34:46.108177Z",
          "iopub.execute_input": "2025-02-03T11:34:46.108618Z",
          "iopub.status.idle": "2025-02-03T11:34:56.514122Z",
          "shell.execute_reply.started": "2025-02-03T11:34:46.108580Z",
          "shell.execute_reply": "2025-02-03T11:34:56.513115Z"
        },
        "colab": {
          "base_uri": "https://localhost:8080/"
        },
        "id": "ByNRi0LNuxwu",
        "outputId": "594012af-c00b-4338-d325-6e23a20f40d8"
      },
      "outputs": [
        {
          "output_type": "stream",
          "name": "stdout",
          "text": [
            "Training until validation scores don't improve for 50 rounds\n",
            "[10]\tcv_agg's valid l2: 67.837 + 3.22419\n",
            "[20]\tcv_agg's valid l2: 56.2347 + 3.5857\n",
            "[30]\tcv_agg's valid l2: 53.7101 + 3.80435\n",
            "[40]\tcv_agg's valid l2: 52.8606 + 4.04956\n",
            "[50]\tcv_agg's valid l2: 52.6548 + 4.17994\n",
            "[60]\tcv_agg's valid l2: 52.6936 + 4.28641\n",
            "[70]\tcv_agg's valid l2: 52.6639 + 4.33009\n",
            "[80]\tcv_agg's valid l2: 52.683 + 4.20895\n",
            "[90]\tcv_agg's valid l2: 52.7822 + 4.24143\n",
            "[100]\tcv_agg's valid l2: 52.7581 + 4.25576\n",
            "[110]\tcv_agg's valid l2: 52.8754 + 4.26266\n",
            "[120]\tcv_agg's valid l2: 52.9022 + 4.34624\n",
            "Early stopping, best iteration is:\n",
            "[77]\tcv_agg's valid l2: 52.6359 + 4.26572\n"
          ]
        },
        {
          "output_type": "execute_result",
          "data": {
            "text/plain": [
              "52.46849688743429"
            ]
          },
          "metadata": {},
          "execution_count": 44
        }
      ],
      "execution_count": null
    },
    {
      "cell_type": "markdown",
      "source": [
        "### Change parameter EXTRA_TREES"
      ],
      "metadata": {
        "id": "R-MdAiOr1-3c"
      }
    },
    {
      "cell_type": "code",
      "source": [
        "param_lgb = {\n",
        "    'objective':        'mse',\n",
        "    'verbosity':        -1,\n",
        "    'boosting_type':    'gbdt',\n",
        "    'random_state':     42,\n",
        "    'lambda_l2':        5,\n",
        "    'learning_rate':    0.1,\n",
        "    'num_leaves':       32,\n",
        "    'metric' :        'mse',\n",
        "}\n",
        "\n",
        "bad_cols_new = [col for col in score_dict if score_dict[col] < 53.3]\n",
        "train_cols_new = [col for col in train_cols if col not in bad_cols_new]\n",
        "full_tr = lgb.Dataset(data[train_cols_new].values, data['Age'].values)\n",
        "cv = lgb.cv(param_lgb, full_tr, 400, folds = split_list, callbacks = [lgb.early_stopping(50), lgb.log_evaluation(10)]  )\n",
        "num_trees = np.argmin(cv['valid l2-mean']) + 1\n",
        "\n",
        "predict_train = np.zeros(ltr)\n",
        "predict_test = np.zeros(len(test_users))\n",
        "\n",
        "bst_list = []\n",
        "for train_index, test_index in split_list:\n",
        "    tr = lgb.Dataset(data.loc[train_index, train_cols_new], data['Age'][train_index])\n",
        "    te = lgb.Dataset(data.loc[test_index, train_cols_new], data['Age'][test_index], reference=tr)\n",
        "    bst = lgb.train(param_lgb, tr, num_boost_round=num_trees)\n",
        "    bst_list += [bst]\n",
        "\n",
        "    predict_train[test_index] = bst.predict(data.loc[test_index, train_cols_new])\n",
        "    predict_test += bst.predict(data.loc[ltr:, train_cols_new]) / len(split_list)\n",
        "\n",
        "mean_squared_error(data.loc[:ltr - 1, 'Age'],predict_train)"
      ],
      "metadata": {
        "trusted": true,
        "execution": {
          "iopub.status.busy": "2025-02-03T11:35:26.587640Z",
          "iopub.execute_input": "2025-02-03T11:35:26.588013Z",
          "iopub.status.idle": "2025-02-03T11:35:44.308157Z",
          "shell.execute_reply.started": "2025-02-03T11:35:26.587980Z",
          "shell.execute_reply": "2025-02-03T11:35:44.307081Z"
        },
        "colab": {
          "base_uri": "https://localhost:8080/"
        },
        "id": "SwtcaC0yuxwu",
        "outputId": "05cf43f0-c85c-455f-93fd-1b1c3631965a"
      },
      "outputs": [
        {
          "output_type": "stream",
          "name": "stdout",
          "text": [
            "Training until validation scores don't improve for 50 rounds\n",
            "[10]\tcv_agg's valid l2: 67.3945 + 2.92052\n",
            "[20]\tcv_agg's valid l2: 57.1353 + 3.23624\n",
            "[30]\tcv_agg's valid l2: 55.2181 + 3.40374\n",
            "[40]\tcv_agg's valid l2: 54.7682 + 3.68077\n",
            "[50]\tcv_agg's valid l2: 54.7297 + 3.61689\n",
            "[60]\tcv_agg's valid l2: 54.7984 + 3.49311\n",
            "[70]\tcv_agg's valid l2: 54.9203 + 3.528\n",
            "[80]\tcv_agg's valid l2: 55.0195 + 3.41827\n",
            "[90]\tcv_agg's valid l2: 55.121 + 3.38729\n",
            "Early stopping, best iteration is:\n",
            "[44]\tcv_agg's valid l2: 54.6655 + 3.65487\n"
          ]
        },
        {
          "output_type": "execute_result",
          "data": {
            "text/plain": [
              "54.99520031863451"
            ]
          },
          "metadata": {},
          "execution_count": 45
        }
      ],
      "execution_count": null
    },
    {
      "cell_type": "code",
      "source": [
        "!pip install catboost"
      ],
      "metadata": {
        "colab": {
          "base_uri": "https://localhost:8080/"
        },
        "id": "9zAvY7nn3osg",
        "outputId": "95e9f533-3cda-49fb-d9c5-7c0353cedad6"
      },
      "execution_count": null,
      "outputs": [
        {
          "output_type": "stream",
          "name": "stdout",
          "text": [
            "Collecting catboost\n",
            "  Downloading catboost-1.2.7-cp311-cp311-manylinux2014_x86_64.whl.metadata (1.2 kB)\n",
            "Requirement already satisfied: graphviz in /usr/local/lib/python3.11/dist-packages (from catboost) (0.20.3)\n",
            "Requirement already satisfied: matplotlib in /usr/local/lib/python3.11/dist-packages (from catboost) (3.10.0)\n",
            "Requirement already satisfied: numpy<2.0,>=1.16.0 in /usr/local/lib/python3.11/dist-packages (from catboost) (1.26.4)\n",
            "Requirement already satisfied: pandas>=0.24 in /usr/local/lib/python3.11/dist-packages (from catboost) (2.2.2)\n",
            "Requirement already satisfied: scipy in /usr/local/lib/python3.11/dist-packages (from catboost) (1.13.1)\n",
            "Requirement already satisfied: plotly in /usr/local/lib/python3.11/dist-packages (from catboost) (5.24.1)\n",
            "Requirement already satisfied: six in /usr/local/lib/python3.11/dist-packages (from catboost) (1.17.0)\n",
            "Requirement already satisfied: python-dateutil>=2.8.2 in /usr/local/lib/python3.11/dist-packages (from pandas>=0.24->catboost) (2.8.2)\n",
            "Requirement already satisfied: pytz>=2020.1 in /usr/local/lib/python3.11/dist-packages (from pandas>=0.24->catboost) (2024.2)\n",
            "Requirement already satisfied: tzdata>=2022.7 in /usr/local/lib/python3.11/dist-packages (from pandas>=0.24->catboost) (2025.1)\n",
            "Requirement already satisfied: contourpy>=1.0.1 in /usr/local/lib/python3.11/dist-packages (from matplotlib->catboost) (1.3.1)\n",
            "Requirement already satisfied: cycler>=0.10 in /usr/local/lib/python3.11/dist-packages (from matplotlib->catboost) (0.12.1)\n",
            "Requirement already satisfied: fonttools>=4.22.0 in /usr/local/lib/python3.11/dist-packages (from matplotlib->catboost) (4.55.7)\n",
            "Requirement already satisfied: kiwisolver>=1.3.1 in /usr/local/lib/python3.11/dist-packages (from matplotlib->catboost) (1.4.8)\n",
            "Requirement already satisfied: packaging>=20.0 in /usr/local/lib/python3.11/dist-packages (from matplotlib->catboost) (24.2)\n",
            "Requirement already satisfied: pillow>=8 in /usr/local/lib/python3.11/dist-packages (from matplotlib->catboost) (11.1.0)\n",
            "Requirement already satisfied: pyparsing>=2.3.1 in /usr/local/lib/python3.11/dist-packages (from matplotlib->catboost) (3.2.1)\n",
            "Requirement already satisfied: tenacity>=6.2.0 in /usr/local/lib/python3.11/dist-packages (from plotly->catboost) (9.0.0)\n",
            "Downloading catboost-1.2.7-cp311-cp311-manylinux2014_x86_64.whl (98.7 MB)\n",
            "\u001b[2K   \u001b[90m━━━━━━━━━━━━━━━━━━━━━━━━━━━━━━━━━━━━━━━━\u001b[0m \u001b[32m98.7/98.7 MB\u001b[0m \u001b[31m6.4 MB/s\u001b[0m eta \u001b[36m0:00:00\u001b[0m\n",
            "\u001b[?25hInstalling collected packages: catboost\n",
            "Successfully installed catboost-1.2.7\n"
          ]
        }
      ]
    },
    {
      "cell_type": "markdown",
      "source": [
        "### Check Catboost parameters\n",
        "\n",
        "**1. num_leaves, max_depth**\n",
        "\n",
        "**2. grow_policy**\n",
        "\n",
        "**3. lambda_l2**\n",
        "\n",
        "**4. min_data_in_leaf**\n",
        "\n",
        "**5. bagging_temperature, random_strength , subsample**\n",
        "\n",
        "**6. border_count, subsample**"
      ],
      "metadata": {
        "id": "VFNciGQ34fk4"
      }
    },
    {
      "cell_type": "code",
      "source": [
        "import catboost\n",
        "\n",
        "params_cat = {\n",
        "    'loss_function' :'RMSE',\n",
        "    'task_type' : 'CPU',\n",
        "     'max_depth' : 6,\n",
        "    'eval_metric' :'RMSE',\n",
        "    'learning_rate' : 0.1,\n",
        "#     'grow_policy' : 'Depthwise',\n",
        "    'grow_policy' : 'SymmetricTree',\n",
        "    'l2_leaf_reg' : 5,\n",
        "#     'subsample' : 0.65,\n",
        "    # 'min_data_in_leaf' : 60,\n",
        "    # 'bootstrap_type' :  'Bayesian',\n",
        "    # 'border_count' :  127,\n",
        "    'random_strength' : 1,\n",
        "    # 'bagging_temperature' : 2,\n",
        "    'random_state' : 42 ,\n",
        "}\n",
        "\n",
        "# bad_cols_new = [col for col in score_dict if score_dict[col] < 53.3]\n",
        "train_cols_new = [col for col in train_cols if col not in bad_cols_new]\n",
        "\n",
        "predict_train = np.zeros(ltr)\n",
        "predict_test = np.zeros(len(test_users))\n",
        "\n",
        "\n",
        "for power in [1, 2]:\n",
        "    bst_list = []\n",
        "    for train_index, test_index in split_list:\n",
        "        tr = catboost.Pool(data.loc[train_index, train_cols_new], (data['Age'][train_index]) ** (1/power))\n",
        "        te = catboost.Pool(data.loc[test_index, train_cols_new], (data['Age'][test_index]) ** (1/power))\n",
        "        bst = catboost.train(tr, params_cat, eval_set = te, iterations = 1200, early_stopping_rounds = 100, verbose = 200)\n",
        "\n",
        "        # bst = lgb.train(param_lgb, tr, num_boost_round=num_trees)\n",
        "        bst_list += [bst]\n",
        "\n",
        "        predict_train[test_index] = bst.predict(data.loc[test_index, train_cols_new]) ** power\n",
        "        predict_test += bst.predict(data.loc[ltr:, train_cols_new]) / len(split_list) ** power\n",
        "\n",
        "    print('SCORE: ', mean_squared_error(data.loc[:ltr - 1, 'Age'],predict_train))"
      ],
      "metadata": {
        "trusted": true,
        "execution": {
          "iopub.status.busy": "2025-02-03T11:47:58.847608Z",
          "iopub.execute_input": "2025-02-03T11:47:58.848002Z",
          "iopub.status.idle": "2025-02-03T11:48:27.481733Z",
          "shell.execute_reply.started": "2025-02-03T11:47:58.847966Z",
          "shell.execute_reply": "2025-02-03T11:48:27.480508Z"
        },
        "colab": {
          "base_uri": "https://localhost:8080/"
        },
        "id": "YJmeyLNFuxwu",
        "outputId": "33aea24a-aeb4-4299-f862-7724220ab4e8"
      },
      "outputs": [
        {
          "output_type": "stream",
          "name": "stdout",
          "text": [
            "0:\tlearn: 11.1848403\ttest: 11.1289797\tbest: 11.1289797 (0)\ttotal: 102ms\tremaining: 2m 2s\n",
            "200:\tlearn: 5.5173031\ttest: 6.9917287\tbest: 6.9890105 (187)\ttotal: 6.63s\tremaining: 33s\n",
            "Stopped by overfitting detector  (100 iterations wait)\n",
            "\n",
            "bestTest = 6.975350385\n",
            "bestIteration = 271\n",
            "\n",
            "Shrink model to first 272 iterations.\n",
            "0:\tlearn: 11.1381183\ttest: 11.1155255\tbest: 11.1155255 (0)\ttotal: 119ms\tremaining: 2m 22s\n",
            "200:\tlearn: 5.4473593\ttest: 7.1827390\tbest: 7.1827390 (200)\ttotal: 8.59s\tremaining: 42.7s\n",
            "Stopped by overfitting detector  (100 iterations wait)\n",
            "\n",
            "bestTest = 7.161863759\n",
            "bestIteration = 259\n",
            "\n",
            "Shrink model to first 260 iterations.\n",
            "0:\tlearn: 11.1068925\ttest: 11.1265261\tbest: 11.1265261 (0)\ttotal: 27.3ms\tremaining: 32.8s\n",
            "200:\tlearn: 5.4020653\ttest: 7.5150013\tbest: 7.5022458 (161)\ttotal: 9.89s\tremaining: 49.2s\n",
            "Stopped by overfitting detector  (100 iterations wait)\n",
            "\n",
            "bestTest = 7.488896808\n",
            "bestIteration = 246\n",
            "\n",
            "Shrink model to first 247 iterations.\n",
            "0:\tlearn: 11.1317337\ttest: 11.1533386\tbest: 11.1533386 (0)\ttotal: 52ms\tremaining: 1m 2s\n",
            "200:\tlearn: 5.4714453\ttest: 7.5020649\tbest: 7.5020649 (200)\ttotal: 5.62s\tremaining: 27.9s\n",
            "400:\tlearn: 3.9917040\ttest: 7.4727875\tbest: 7.4666812 (303)\ttotal: 12.4s\tremaining: 24.7s\n",
            "Stopped by overfitting detector  (100 iterations wait)\n",
            "\n",
            "bestTest = 7.466681157\n",
            "bestIteration = 303\n",
            "\n",
            "Shrink model to first 304 iterations.\n",
            "0:\tlearn: 11.1250157\ttest: 11.1677001\tbest: 11.1677001 (0)\ttotal: 27.9ms\tremaining: 33.4s\n",
            "200:\tlearn: 5.4190436\ttest: 7.6121461\tbest: 7.6092193 (172)\ttotal: 4.65s\tremaining: 23.1s\n",
            "Stopped by overfitting detector  (100 iterations wait)\n",
            "\n",
            "bestTest = 7.608310604\n",
            "bestIteration = 205\n",
            "\n",
            "Shrink model to first 206 iterations.\n",
            "SCORE:  53.932970443638766\n",
            "0:\tlearn: 0.9626520\ttest: 0.9583602\tbest: 0.9583602 (0)\ttotal: 48.7ms\tremaining: 58.4s\n",
            "200:\tlearn: 0.4779426\ttest: 0.6031616\tbest: 0.6025435 (159)\ttotal: 5.83s\tremaining: 29s\n",
            "Stopped by overfitting detector  (100 iterations wait)\n",
            "\n",
            "bestTest = 0.6012627318\n",
            "bestIteration = 231\n",
            "\n",
            "Shrink model to first 232 iterations.\n",
            "0:\tlearn: 0.9617327\ttest: 0.9605944\tbest: 0.9605944 (0)\ttotal: 35.1ms\tremaining: 42.1s\n",
            "200:\tlearn: 0.4711215\ttest: 0.6193065\tbest: 0.6193065 (200)\ttotal: 3.82s\tremaining: 19s\n",
            "Stopped by overfitting detector  (100 iterations wait)\n",
            "\n",
            "bestTest = 0.6159486632\n",
            "bestIteration = 276\n",
            "\n",
            "Shrink model to first 277 iterations.\n",
            "0:\tlearn: 0.9571750\ttest: 0.9590912\tbest: 0.9590912 (0)\ttotal: 40.2ms\tremaining: 48.2s\n",
            "200:\tlearn: 0.4630453\ttest: 0.6476562\tbest: 0.6462054 (189)\ttotal: 4.11s\tremaining: 20.4s\n",
            "Stopped by overfitting detector  (100 iterations wait)\n",
            "\n",
            "bestTest = 0.6451400441\n",
            "bestIteration = 268\n",
            "\n",
            "Shrink model to first 269 iterations.\n",
            "0:\tlearn: 0.9597543\ttest: 0.9609705\tbest: 0.9609705 (0)\ttotal: 50.7ms\tremaining: 1m\n",
            "200:\tlearn: 0.4688235\ttest: 0.6454551\tbest: 0.6452852 (199)\ttotal: 7.77s\tremaining: 38.6s\n",
            "Stopped by overfitting detector  (100 iterations wait)\n",
            "\n",
            "bestTest = 0.6431313045\n",
            "bestIteration = 293\n",
            "\n",
            "Shrink model to first 294 iterations.\n",
            "0:\tlearn: 0.9592458\ttest: 0.9632058\tbest: 0.9632058 (0)\ttotal: 28.5ms\tremaining: 34.2s\n",
            "200:\tlearn: 0.4719525\ttest: 0.6489784\tbest: 0.6483779 (197)\ttotal: 4.01s\tremaining: 19.9s\n",
            "Stopped by overfitting detector  (100 iterations wait)\n",
            "\n",
            "bestTest = 0.6471589089\n",
            "bestIteration = 221\n",
            "\n",
            "Shrink model to first 222 iterations.\n",
            "SCORE:  54.256692025462876\n"
          ]
        }
      ],
      "execution_count": null
    },
    {
      "cell_type": "code",
      "source": [
        "print('SCORE: ', mean_squared_error(data.loc[:ltr - 1, 'Age'],(predict_train_good) ))"
      ],
      "metadata": {
        "trusted": true,
        "colab": {
          "base_uri": "https://localhost:8080/"
        },
        "id": "ITzFoioJuxwv",
        "outputId": "713afcf2-2bd2-4229-cff7-b151869ef9d4"
      },
      "outputs": [
        {
          "output_type": "stream",
          "name": "stdout",
          "text": [
            "SCORE:  52.46849688743429\n"
          ]
        }
      ],
      "execution_count": null
    },
    {
      "cell_type": "code",
      "source": [
        "print('SCORE: ', mean_squared_error(data.loc[:ltr - 1, 'Age'],(predict_train + predict_train_good) / 2))"
      ],
      "metadata": {
        "colab": {
          "base_uri": "https://localhost:8080/"
        },
        "id": "2zZKNj4h4LQN",
        "outputId": "64c5f5f3-a7bc-4bf1-a62e-814478120d86"
      },
      "execution_count": null,
      "outputs": [
        {
          "output_type": "stream",
          "name": "stdout",
          "text": [
            "SCORE:  52.39240967010943\n"
          ]
        }
      ]
    },
    {
      "cell_type": "markdown",
      "source": [
        "### Check Random Forest parameters\n",
        "\n",
        "**1. max_depth, n_estimators**\n",
        "\n",
        "**2. max_features**\n",
        "\n",
        "**3. min_samples_leaf, min_samples_split**"
      ],
      "metadata": {
        "id": "LOhFnFuf5LN3"
      }
    },
    {
      "cell_type": "code",
      "source": [],
      "metadata": {
        "id": "9D1ueSf95JSz"
      },
      "execution_count": null,
      "outputs": []
    }
  ]
}