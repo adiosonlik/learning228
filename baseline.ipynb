{
 "cells": [
  {
   "cell_type": "markdown",
   "id": "a44a0fe5-2a11-4bbf-91a0-b4bbdefbe9a4",
   "metadata": {},
   "source": [
    "# Baseline для  классификации видов животных по фотографии\n",
    "\n",
    "Перед вами базовое решение, позволяющие обучить модель машинного обучения тому, какое животное находится на фотографии, а так же сформировать сабмит (посылку с решением) с результатами работы модели, чтобы можно было понять, насколько хорошо работает ваша модель.\n",
    "\n",
    "Код ниже состоит из четырёх основных частей:\n",
    "1. Установка и импорт библиотек, требуемых для работы\n",
    "2. Подготовка данных для обучения модели ResNet18\n",
    "3. Обучение базовой модели\n",
    "5. Запуск модели и формирование сабмита.\n"
   ]
  },
  {
   "cell_type": "markdown",
   "id": "5f7d7b9a-cab3-4786-98ab-1a81d67da689",
   "metadata": {},
   "source": [
    "## Установка и импорт библиотек\n",
    "\n",
    "Прежде, чем приступать к дальнейшим шагам установите [Python](https://www.python.org/downloads/) на компьютер, с которым работаете. Решение проверялось на Python 3.9, но никто не запрещает использовать более новые версии. \n",
    "\n",
    "Совсем хорошо, если установите отдельное окружение c Python, используя, например [Miniconda](https://docs.anaconda.com/miniconda/) и [jupyter notebook](https://jupyter.org/install).  \n",
    "После этого можно исполнять команды и код ниже.\n",
    "\n",
    "Для обучения моделей нам понадобится Pytorch - фреймворк для машинного обучения.  \n",
    "[Установите его для вашей платформы](https://pytorch.org/get-started/locally/), проверьте, что установлена версия с поддержкой GPU (видеокарт) с помощью кода ниже:"
   ]
  },
  {
   "cell_type": "code",
   "execution_count": 1,
   "id": "f9b4800c-15dd-497c-a7df-87e912971457",
   "metadata": {},
   "outputs": [
    {
     "name": "stdout",
     "output_type": "stream",
     "text": [
      "Все хорошо, установлена версия с поддержкой видеокарт\n"
     ]
    }
   ],
   "source": [
    "import torch\n",
    "\n",
    "if torch.cuda.is_available():\n",
    "    print(\"Все хорошо, установлена версия с поддержкой видеокарт\")\n",
    "else:\n",
    "    print(\"Что-то не так, стоит torch с поддержкой только CPU (если у вас MacOS или так и задумано, то все нормально.\")"
   ]
  },
  {
   "cell_type": "code",
   "execution_count": 2,
   "id": "6f311eb5892df17f",
   "metadata": {
    "scrolled": true
   },
   "outputs": [
    {
     "name": "stdout",
     "output_type": "stream",
     "text": [
      "Looking in indexes: https://pypi.org/simple, https://pypi.ngc.nvidia.com\n",
      "Requirement already satisfied: scikit-learn in /home/leo/miniconda3/envs/deepschool_gencv/lib/python3.9/site-packages (1.5.0)\n",
      "Requirement already satisfied: Pillow in /home/leo/miniconda3/envs/deepschool_gencv/lib/python3.9/site-packages (10.3.0)\n",
      "Requirement already satisfied: torchvision in /home/leo/miniconda3/envs/deepschool_gencv/lib/python3.9/site-packages (0.15.2)\n",
      "Requirement already satisfied: matplotlib in /home/leo/miniconda3/envs/deepschool_gencv/lib/python3.9/site-packages (3.9.0)\n",
      "Requirement already satisfied: pandas in /home/leo/miniconda3/envs/deepschool_gencv/lib/python3.9/site-packages (2.2.2)\n",
      "Requirement already satisfied: tqdm in /home/leo/miniconda3/envs/deepschool_gencv/lib/python3.9/site-packages (4.66.4)\n",
      "Requirement already satisfied: numpy>=1.19.5 in /home/leo/miniconda3/envs/deepschool_gencv/lib/python3.9/site-packages (from scikit-learn) (1.26.3)\n",
      "Requirement already satisfied: scipy>=1.6.0 in /home/leo/miniconda3/envs/deepschool_gencv/lib/python3.9/site-packages (from scikit-learn) (1.13.1)\n",
      "Requirement already satisfied: joblib>=1.2.0 in /home/leo/miniconda3/envs/deepschool_gencv/lib/python3.9/site-packages (from scikit-learn) (1.4.2)\n",
      "Requirement already satisfied: threadpoolctl>=3.1.0 in /home/leo/miniconda3/envs/deepschool_gencv/lib/python3.9/site-packages (from scikit-learn) (3.5.0)\n",
      "Requirement already satisfied: requests in /home/leo/miniconda3/envs/deepschool_gencv/lib/python3.9/site-packages (from torchvision) (2.32.3)\n",
      "Requirement already satisfied: torch==2.0.1 in /home/leo/miniconda3/envs/deepschool_gencv/lib/python3.9/site-packages (from torchvision) (2.0.1)\n",
      "Requirement already satisfied: filelock in /home/leo/miniconda3/envs/deepschool_gencv/lib/python3.9/site-packages (from torch==2.0.1->torchvision) (3.13.1)\n",
      "Requirement already satisfied: typing-extensions in /home/leo/miniconda3/envs/deepschool_gencv/lib/python3.9/site-packages (from torch==2.0.1->torchvision) (4.9.0)\n",
      "Requirement already satisfied: sympy in /home/leo/miniconda3/envs/deepschool_gencv/lib/python3.9/site-packages (from torch==2.0.1->torchvision) (1.12)\n",
      "Requirement already satisfied: networkx in /home/leo/miniconda3/envs/deepschool_gencv/lib/python3.9/site-packages (from torch==2.0.1->torchvision) (3.2.1)\n",
      "Requirement already satisfied: jinja2 in /home/leo/miniconda3/envs/deepschool_gencv/lib/python3.9/site-packages (from torch==2.0.1->torchvision) (3.1.3)\n",
      "Requirement already satisfied: nvidia-cuda-nvrtc-cu11==11.7.99 in /home/leo/miniconda3/envs/deepschool_gencv/lib/python3.9/site-packages (from torch==2.0.1->torchvision) (11.7.99)\n",
      "Requirement already satisfied: nvidia-cuda-runtime-cu11==11.7.99 in /home/leo/miniconda3/envs/deepschool_gencv/lib/python3.9/site-packages (from torch==2.0.1->torchvision) (11.7.99)\n",
      "Requirement already satisfied: nvidia-cuda-cupti-cu11==11.7.101 in /home/leo/miniconda3/envs/deepschool_gencv/lib/python3.9/site-packages (from torch==2.0.1->torchvision) (11.7.101)\n",
      "Requirement already satisfied: nvidia-cudnn-cu11==8.5.0.96 in /home/leo/miniconda3/envs/deepschool_gencv/lib/python3.9/site-packages (from torch==2.0.1->torchvision) (8.5.0.96)\n",
      "Requirement already satisfied: nvidia-cublas-cu11==11.10.3.66 in /home/leo/miniconda3/envs/deepschool_gencv/lib/python3.9/site-packages (from torch==2.0.1->torchvision) (11.10.3.66)\n",
      "Requirement already satisfied: nvidia-cufft-cu11==10.9.0.58 in /home/leo/miniconda3/envs/deepschool_gencv/lib/python3.9/site-packages (from torch==2.0.1->torchvision) (10.9.0.58)\n",
      "Requirement already satisfied: nvidia-curand-cu11==10.2.10.91 in /home/leo/miniconda3/envs/deepschool_gencv/lib/python3.9/site-packages (from torch==2.0.1->torchvision) (10.2.10.91)\n",
      "Requirement already satisfied: nvidia-cusolver-cu11==11.4.0.1 in /home/leo/miniconda3/envs/deepschool_gencv/lib/python3.9/site-packages (from torch==2.0.1->torchvision) (11.4.0.1)\n",
      "Requirement already satisfied: nvidia-cusparse-cu11==11.7.4.91 in /home/leo/miniconda3/envs/deepschool_gencv/lib/python3.9/site-packages (from torch==2.0.1->torchvision) (11.7.4.91)\n",
      "Requirement already satisfied: nvidia-nccl-cu11==2.14.3 in /home/leo/miniconda3/envs/deepschool_gencv/lib/python3.9/site-packages (from torch==2.0.1->torchvision) (2.14.3)\n",
      "Requirement already satisfied: nvidia-nvtx-cu11==11.7.91 in /home/leo/miniconda3/envs/deepschool_gencv/lib/python3.9/site-packages (from torch==2.0.1->torchvision) (11.7.91)\n",
      "Requirement already satisfied: triton==2.0.0 in /home/leo/miniconda3/envs/deepschool_gencv/lib/python3.9/site-packages (from torch==2.0.1->torchvision) (2.0.0)\n",
      "Requirement already satisfied: setuptools in /home/leo/miniconda3/envs/deepschool_gencv/lib/python3.9/site-packages (from nvidia-cublas-cu11==11.10.3.66->torch==2.0.1->torchvision) (69.5.1)\n",
      "Requirement already satisfied: wheel in /home/leo/miniconda3/envs/deepschool_gencv/lib/python3.9/site-packages (from nvidia-cublas-cu11==11.10.3.66->torch==2.0.1->torchvision) (0.43.0)\n",
      "Requirement already satisfied: cmake in /home/leo/miniconda3/envs/deepschool_gencv/lib/python3.9/site-packages (from triton==2.0.0->torch==2.0.1->torchvision) (3.30.2)\n",
      "Requirement already satisfied: lit in /home/leo/miniconda3/envs/deepschool_gencv/lib/python3.9/site-packages (from triton==2.0.0->torch==2.0.1->torchvision) (18.1.8)\n",
      "Requirement already satisfied: contourpy>=1.0.1 in /home/leo/miniconda3/envs/deepschool_gencv/lib/python3.9/site-packages (from matplotlib) (1.2.1)\n",
      "Requirement already satisfied: cycler>=0.10 in /home/leo/miniconda3/envs/deepschool_gencv/lib/python3.9/site-packages (from matplotlib) (0.12.1)\n",
      "Requirement already satisfied: fonttools>=4.22.0 in /home/leo/miniconda3/envs/deepschool_gencv/lib/python3.9/site-packages (from matplotlib) (4.53.0)\n",
      "Requirement already satisfied: kiwisolver>=1.3.1 in /home/leo/miniconda3/envs/deepschool_gencv/lib/python3.9/site-packages (from matplotlib) (1.4.5)\n",
      "Requirement already satisfied: packaging>=20.0 in /home/leo/miniconda3/envs/deepschool_gencv/lib/python3.9/site-packages (from matplotlib) (24.1)\n",
      "Requirement already satisfied: pyparsing>=2.3.1 in /home/leo/miniconda3/envs/deepschool_gencv/lib/python3.9/site-packages (from matplotlib) (3.1.2)\n",
      "Requirement already satisfied: python-dateutil>=2.7 in /home/leo/miniconda3/envs/deepschool_gencv/lib/python3.9/site-packages (from matplotlib) (2.9.0.post0)\n",
      "Requirement already satisfied: importlib-resources>=3.2.0 in /home/leo/miniconda3/envs/deepschool_gencv/lib/python3.9/site-packages (from matplotlib) (6.4.0)\n",
      "Requirement already satisfied: pytz>=2020.1 in /home/leo/miniconda3/envs/deepschool_gencv/lib/python3.9/site-packages (from pandas) (2024.1)\n",
      "Requirement already satisfied: tzdata>=2022.7 in /home/leo/miniconda3/envs/deepschool_gencv/lib/python3.9/site-packages (from pandas) (2024.1)\n",
      "Requirement already satisfied: zipp>=3.1.0 in /home/leo/miniconda3/envs/deepschool_gencv/lib/python3.9/site-packages (from importlib-resources>=3.2.0->matplotlib) (3.19.2)\n",
      "Requirement already satisfied: six>=1.5 in /home/leo/miniconda3/envs/deepschool_gencv/lib/python3.9/site-packages (from python-dateutil>=2.7->matplotlib) (1.16.0)\n",
      "Requirement already satisfied: charset-normalizer<4,>=2 in /home/leo/miniconda3/envs/deepschool_gencv/lib/python3.9/site-packages (from requests->torchvision) (3.3.2)\n",
      "Requirement already satisfied: idna<4,>=2.5 in /home/leo/miniconda3/envs/deepschool_gencv/lib/python3.9/site-packages (from requests->torchvision) (3.7)\n",
      "Requirement already satisfied: urllib3<3,>=1.21.1 in /home/leo/miniconda3/envs/deepschool_gencv/lib/python3.9/site-packages (from requests->torchvision) (2.2.2)\n",
      "Requirement already satisfied: certifi>=2017.4.17 in /home/leo/miniconda3/envs/deepschool_gencv/lib/python3.9/site-packages (from requests->torchvision) (2024.6.2)\n",
      "Requirement already satisfied: MarkupSafe>=2.0 in /home/leo/miniconda3/envs/deepschool_gencv/lib/python3.9/site-packages (from jinja2->torch==2.0.1->torchvision) (2.1.5)\n",
      "Requirement already satisfied: mpmath>=0.19 in /home/leo/miniconda3/envs/deepschool_gencv/lib/python3.9/site-packages (from sympy->torch==2.0.1->torchvision) (1.3.0)\n",
      "\n",
      "\u001b[1m[\u001b[0m\u001b[34;49mnotice\u001b[0m\u001b[1;39;49m]\u001b[0m\u001b[39;49m A new release of pip is available: \u001b[0m\u001b[31;49m24.1.1\u001b[0m\u001b[39;49m -> \u001b[0m\u001b[32;49m24.2\u001b[0m\n",
      "\u001b[1m[\u001b[0m\u001b[34;49mnotice\u001b[0m\u001b[1;39;49m]\u001b[0m\u001b[39;49m To update, run: \u001b[0m\u001b[32;49mpip install --upgrade pip\u001b[0m\n"
     ]
    }
   ],
   "source": [
    "# Установим библиотеки, требуемые для запуска решения\n",
    "!pip install scikit-learn Pillow torchvision matplotlib pandas tqdm "
   ]
  },
  {
   "cell_type": "code",
   "execution_count": 3,
   "id": "initial_id",
   "metadata": {
    "ExecuteTime": {
     "end_time": "2024-08-20T07:41:27.056590Z",
     "start_time": "2024-08-20T07:41:27.027535Z"
    }
   },
   "outputs": [],
   "source": [
    "import random\n",
    "from pathlib import Path\n",
    "\n",
    "import matplotlib.pyplot as plt\n",
    "import numpy as np\n",
    "import pandas as pd\n",
    "import torch\n",
    "import torch.optim as optim\n",
    "import torchvision\n",
    "import torchvision.transforms as tt\n",
    "\n",
    "from PIL import Image\n",
    "from sklearn.metrics import f1_score\n",
    "from sklearn.model_selection import train_test_split\n",
    "from torch import nn\n",
    "from torch.utils.data import DataLoader, Dataset\n",
    "from torchvision.models import ResNet18_Weights\n",
    "from tqdm.notebook import tqdm\n",
    "\n",
    "\n",
    "# Зафиксируем сиды, чтобы обучение было воспроизводимым.\n",
    "def set_seed(seed):\n",
    "    random.seed(seed)\n",
    "    np.random.seed(seed)\n",
    "    torch.manual_seed(seed)\n",
    "    \n",
    "    if torch.cuda.is_available():\n",
    "        torch.cuda.manual_seed(seed)\n",
    "        torch.cuda.manual_seed_all(seed)\n",
    "    \n",
    "    torch.backends.cudnn.deterministic = True\n",
    "    torch.backends.cudnn.benchmark = False\n",
    "\n",
    "set_seed(1001)"
   ]
  },
  {
   "cell_type": "markdown",
   "id": "3a0797fa-0bdb-49bf-82c3-022a439bd9dc",
   "metadata": {},
   "source": [
    "## Подготовка данных для обучения"
   ]
  },
  {
   "cell_type": "code",
   "execution_count": 4,
   "id": "b634b25aa5f8bc69",
   "metadata": {
    "ExecuteTime": {
     "end_time": "2024-08-20T07:41:31.571367Z",
     "start_time": "2024-08-20T07:41:31.491110Z"
    }
   },
   "outputs": [
    {
     "name": "stdout",
     "output_type": "stream",
     "text": [
      "(19610, 3) (8405, 3)\n"
     ]
    }
   ],
   "source": [
    "# Мы подразумеваем, что данные будут лежать в рамках следующей структуры:\n",
    "# .\n",
    "# ├── baseline.ipynb\n",
    "# └── data/\n",
    "#     ├── train.csv\n",
    "#     ├── train/\n",
    "#     │   ├── ***.JPG\n",
    "#     │   ├── ...\n",
    "#     │   └── ***.JPG\n",
    "#     └── test/\n",
    "#         ├── ***.JPG\n",
    "#         ├── ...\n",
    "#         └── ***.JPG\n",
    "\n",
    "\n",
    "base_path = Path(\"data/\")\n",
    "data = pd.read_csv(base_path / \"train.csv\")\n",
    "images_path = base_path / \"train\"\n",
    "\n",
    "# Разобъем данные на тренировочную и отложенную (на которой мы будем проверять качество работы) части\n",
    "train, val = train_test_split(data, test_size=0.3, random_state=1)\n",
    "\n",
    "train = train.reset_index(drop=True)\n",
    "val = val.reset_index(drop=True)\n",
    "\n",
    "# Получилось примерно 19.6к картинок для тренировки и 8.4к картинок для подсчета метрик\n",
    "print(train.shape, val.shape)"
   ]
  },
  {
   "cell_type": "code",
   "execution_count": 5,
   "id": "4e6c5bffe284a2a6",
   "metadata": {
    "ExecuteTime": {
     "end_time": "2024-08-20T07:41:33.448007Z",
     "start_time": "2024-08-20T07:41:33.435571Z"
    }
   },
   "outputs": [
    {
     "data": {
      "text/html": [
       "<div>\n",
       "<style scoped>\n",
       "    .dataframe tbody tr th:only-of-type {\n",
       "        vertical-align: middle;\n",
       "    }\n",
       "\n",
       "    .dataframe tbody tr th {\n",
       "        vertical-align: top;\n",
       "    }\n",
       "\n",
       "    .dataframe thead th {\n",
       "        text-align: right;\n",
       "    }\n",
       "</style>\n",
       "<table border=\"1\" class=\"dataframe\">\n",
       "  <thead>\n",
       "    <tr style=\"text-align: right;\">\n",
       "      <th></th>\n",
       "      <th>unified_class</th>\n",
       "      <th>class_id</th>\n",
       "      <th>image_name</th>\n",
       "    </tr>\n",
       "  </thead>\n",
       "  <tbody>\n",
       "    <tr>\n",
       "      <th>0</th>\n",
       "      <td>Оленевые</td>\n",
       "      <td>5</td>\n",
       "      <td>3cf4207b958eade893a2f1618cf062b8.JPG</td>\n",
       "    </tr>\n",
       "    <tr>\n",
       "      <th>1</th>\n",
       "      <td>Кошки</td>\n",
       "      <td>2</td>\n",
       "      <td>37698901280c871f426d40afe5c373cd.JPG</td>\n",
       "    </tr>\n",
       "    <tr>\n",
       "      <th>2</th>\n",
       "      <td>Заяц</td>\n",
       "      <td>0</td>\n",
       "      <td>20e7b30026001cbfe0b5c0ee16c9ff56.JPG</td>\n",
       "    </tr>\n",
       "    <tr>\n",
       "      <th>3</th>\n",
       "      <td>Кошки</td>\n",
       "      <td>2</td>\n",
       "      <td>a1bc8ea546206ee8fc0f1836fda9a5c1.JPG</td>\n",
       "    </tr>\n",
       "    <tr>\n",
       "      <th>4</th>\n",
       "      <td>Оленевые</td>\n",
       "      <td>5</td>\n",
       "      <td>54eb76914b84db8a0d56f98125abf588.JPG</td>\n",
       "    </tr>\n",
       "  </tbody>\n",
       "</table>\n",
       "</div>"
      ],
      "text/plain": [
       "  unified_class  class_id                            image_name\n",
       "0      Оленевые         5  3cf4207b958eade893a2f1618cf062b8.JPG\n",
       "1         Кошки         2  37698901280c871f426d40afe5c373cd.JPG\n",
       "2          Заяц         0  20e7b30026001cbfe0b5c0ee16c9ff56.JPG\n",
       "3         Кошки         2  a1bc8ea546206ee8fc0f1836fda9a5c1.JPG\n",
       "4      Оленевые         5  54eb76914b84db8a0d56f98125abf588.JPG"
      ]
     },
     "execution_count": 5,
     "metadata": {},
     "output_type": "execute_result"
    }
   ],
   "source": [
    "# Что значат колонки:\n",
    "# unified_class - имя класса кириллицей\n",
    "# class_id - численный идентификатор класса для удобства работы\n",
    "# image_name - название файла изобаржения в папке train.\n",
    "\n",
    "data.head()"
   ]
  },
  {
   "cell_type": "markdown",
   "id": "52a9bafc-8764-4291-927e-b2e9f676364f",
   "metadata": {},
   "source": [
    "## Инициализация нужных объектов и обучение базовой модели"
   ]
  },
  {
   "cell_type": "code",
   "execution_count": 6,
   "id": "2d1163ee108d69bb",
   "metadata": {
    "ExecuteTime": {
     "end_time": "2024-08-20T07:42:02.341717Z",
     "start_time": "2024-08-20T07:42:02.336393Z"
    }
   },
   "outputs": [],
   "source": [
    "# В качестве стартовой модели возьмем ResNet18, предобученный на датасете ImageNet1K\n",
    "# Но поменяем количество предсказываемых классов, так как вместо тысячи у нас десять классов.\n",
    "# Можно было бы взять модель побольше и получить результаты лучше, но сейчас ограничимся ResNet18\n",
    "\n",
    "class ResNet18(nn.Module):\n",
    "    def __init__(self, num_classes: int):\n",
    "        super().__init__()\n",
    "        # Инициализируем модель\n",
    "        self.model = torchvision.models.resnet18(weights=ResNet18_Weights.IMAGENET1K_V1)\n",
    "        # Подменим классмификационный слой на наш собственный\n",
    "        self.model.fc = torch.nn.Linear(self.model.fc.in_features, num_classes)\n",
    "\n",
    "    def forward(self, batch):\n",
    "        inputs, _ = batch\n",
    "        return self.model(inputs)"
   ]
  },
  {
   "cell_type": "code",
   "execution_count": 7,
   "id": "d65ddc54c3dd65b1",
   "metadata": {
    "ExecuteTime": {
     "end_time": "2024-08-20T07:42:08.720594Z",
     "start_time": "2024-08-20T07:42:08.716857Z"
    }
   },
   "outputs": [],
   "source": [
    "# Теперь подготовим класс датасет, в котором укажем насколько он большой (метод __len__) и\n",
    "# как нам получить один элемент датасета (пару картинка - класс, которому эта картинка соответствует)\n",
    "\n",
    "# Обращу внимание на transforms (они же аугментации) - способ, позволящий искусственно расширить датасет\n",
    "# за счет того, что мы, обращаясь к датасету, каждый раз немного изменяем изображение разными способами (делаем из цветного черно-белое,\n",
    "# вырезаем часть изображения, поворачиваем вокруг оси и т.д.). Часто это позволяет обучить модель более высокого качества, а так же сделать её\n",
    "# устойчивее к непривычным ей данным\n",
    "\n",
    "class AnimalsDataset(Dataset):\n",
    "    def __init__(self, dataframe: pd.DataFrame, path_to_images: Path, transforms: tt.Compose) -> None:\n",
    "        self.df = dataframe\n",
    "        self.path_to_images = path_to_images\n",
    "        self.transforms = transforms\n",
    "        \n",
    "    def __len__(self):\n",
    "        return len(self.df)\n",
    "    \n",
    "    def __getitem__(self, idx):\n",
    "        row = self.df.iloc[idx]\n",
    "        image = Image.open(self.path_to_images / row[\"image_name\"]).convert('RGB')\n",
    "        if self.transforms is not None:\n",
    "            image = self.transforms(image)\n",
    "        return image, row[\"class_id\"]"
   ]
  },
  {
   "cell_type": "code",
   "execution_count": 8,
   "id": "ad37cd1139ecf631",
   "metadata": {
    "ExecuteTime": {
     "end_time": "2024-08-20T07:42:12.264636Z",
     "start_time": "2024-08-20T07:42:12.245751Z"
    }
   },
   "outputs": [],
   "source": [
    "# Инициализируем агументации. В нашем примере я не использую ничего, кроме изменения разрешения изображения в квадрат 224 на 224 пикселя\n",
    "# и нормализации (перевода пикселей от диапазона 0-255 к распределению с заданными средним и дисперсией).\n",
    "\n",
    "train_transform = tt.Compose([\n",
    "    tt.Resize((224, 224)),\n",
    "    tt.ToTensor(),\n",
    "    tt.Normalize(mean=[0.485, 0.456, 0.406], std=[0.229, 0.224, 0.225]),\n",
    "])\n",
    "\n",
    "val_transform = tt.Compose([\n",
    "    tt.Resize((224, 224)),\n",
    "    tt.ToTensor(),\n",
    "    tt.Normalize(mean=[0.485, 0.456, 0.406], std=[0.229, 0.224, 0.225]),\n",
    "])\n",
    "\n",
    "train_dataset = AnimalsDataset(train, images_path, transforms=train_transform)\n",
    "val_dataset = AnimalsDataset(val, images_path, transforms=val_transform)\n",
    "\n",
    "\n",
    "# Обратите внимание на \n",
    "# num_workers - во сколько отдельных потоков мы будем готовить данные (вызывать AnimalsDataset), можете поставить своё значение, посмотрев количество ядер на вашем компьютере\n",
    "# batch_size - сколько картинок одновременно мы подадим на вход нашей модели.\n",
    "train_dataloader = DataLoader(train_dataset, batch_size=32, num_workers=0, shuffle=True)\n",
    "valid_dataloader = DataLoader(val_dataset, batch_size=32, num_workers=0, shuffle=False)"
   ]
  },
  {
   "cell_type": "code",
   "execution_count": 9,
   "id": "bb51b4a6aeaf2a5f",
   "metadata": {
    "ExecuteTime": {
     "start_time": "2024-08-20T07:42:42.256049Z"
    },
    "jupyter": {
     "is_executing": true
    }
   },
   "outputs": [
    {
     "name": "stdout",
     "output_type": "stream",
     "text": [
      "Для обучения выбран девайс cuda\n"
     ]
    },
    {
     "data": {
      "application/vnd.jupyter.widget-view+json": {
       "model_id": "cab97b20327242738735c433cec264d6",
       "version_major": 2,
       "version_minor": 0
      },
      "text/plain": [
       "  0%|          | 0/613 [00:00<?, ?it/s]"
      ]
     },
     "metadata": {},
     "output_type": "display_data"
    },
    {
     "data": {
      "application/vnd.jupyter.widget-view+json": {
       "model_id": "e4473f0f3d914460ae04df8633623cf8",
       "version_major": 2,
       "version_minor": 0
      },
      "text/plain": [
       "  0%|          | 0/263 [00:00<?, ?it/s]"
      ]
     },
     "metadata": {},
     "output_type": "display_data"
    },
    {
     "name": "stdout",
     "output_type": "stream",
     "text": [
      "New best model saved with F1: 0.6956\n",
      "Epoch [1/10], Train Loss: 0.6745, Train F1: 0.6708, Val Loss: 0.6588, Val F1: 0.6956\n"
     ]
    },
    {
     "data": {
      "application/vnd.jupyter.widget-view+json": {
       "model_id": "1ce930c5cdb846708b123f2671c23969",
       "version_major": 2,
       "version_minor": 0
      },
      "text/plain": [
       "  0%|          | 0/613 [00:00<?, ?it/s]"
      ]
     },
     "metadata": {},
     "output_type": "display_data"
    },
    {
     "data": {
      "application/vnd.jupyter.widget-view+json": {
       "model_id": "d8c8360ab9474640bfbfae77f83f66a9",
       "version_major": 2,
       "version_minor": 0
      },
      "text/plain": [
       "  0%|          | 0/263 [00:00<?, ?it/s]"
      ]
     },
     "metadata": {},
     "output_type": "display_data"
    },
    {
     "name": "stdout",
     "output_type": "stream",
     "text": [
      "New best model saved with F1: 0.7851\n",
      "Epoch [2/10], Train Loss: 0.3960, Train F1: 0.8038, Val Loss: 0.4714, Val F1: 0.7851\n"
     ]
    },
    {
     "data": {
      "application/vnd.jupyter.widget-view+json": {
       "model_id": "29543ebe95df40369c6bbec2ef1658ab",
       "version_major": 2,
       "version_minor": 0
      },
      "text/plain": [
       "  0%|          | 0/613 [00:00<?, ?it/s]"
      ]
     },
     "metadata": {},
     "output_type": "display_data"
    },
    {
     "data": {
      "application/vnd.jupyter.widget-view+json": {
       "model_id": "1c860831c7174440b4182b265710ba6f",
       "version_major": 2,
       "version_minor": 0
      },
      "text/plain": [
       "  0%|          | 0/263 [00:00<?, ?it/s]"
      ]
     },
     "metadata": {},
     "output_type": "display_data"
    },
    {
     "name": "stdout",
     "output_type": "stream",
     "text": [
      "New best model saved with F1: 0.8641\n",
      "Epoch [3/10], Train Loss: 0.2746, Train F1: 0.8605, Val Loss: 0.3061, Val F1: 0.8641\n"
     ]
    },
    {
     "data": {
      "application/vnd.jupyter.widget-view+json": {
       "model_id": "f772b067df264109866edf977af430f4",
       "version_major": 2,
       "version_minor": 0
      },
      "text/plain": [
       "  0%|          | 0/613 [00:00<?, ?it/s]"
      ]
     },
     "metadata": {},
     "output_type": "display_data"
    },
    {
     "data": {
      "application/vnd.jupyter.widget-view+json": {
       "model_id": "932bb3ee96634c98a78f0b410bd02e56",
       "version_major": 2,
       "version_minor": 0
      },
      "text/plain": [
       "  0%|          | 0/263 [00:00<?, ?it/s]"
      ]
     },
     "metadata": {},
     "output_type": "display_data"
    },
    {
     "name": "stdout",
     "output_type": "stream",
     "text": [
      "Epoch [4/10], Train Loss: 0.2159, Train F1: 0.8936, Val Loss: 0.3122, Val F1: 0.8508\n"
     ]
    },
    {
     "data": {
      "application/vnd.jupyter.widget-view+json": {
       "model_id": "63a60c7b94214f72bc33af3dabe4beb6",
       "version_major": 2,
       "version_minor": 0
      },
      "text/plain": [
       "  0%|          | 0/613 [00:00<?, ?it/s]"
      ]
     },
     "metadata": {},
     "output_type": "display_data"
    },
    {
     "data": {
      "application/vnd.jupyter.widget-view+json": {
       "model_id": "02f21d8a685b478b871f7596e772d483",
       "version_major": 2,
       "version_minor": 0
      },
      "text/plain": [
       "  0%|          | 0/263 [00:00<?, ?it/s]"
      ]
     },
     "metadata": {},
     "output_type": "display_data"
    },
    {
     "name": "stdout",
     "output_type": "stream",
     "text": [
      "New best model saved with F1: 0.8688\n",
      "Epoch [5/10], Train Loss: 0.1812, Train F1: 0.9096, Val Loss: 0.2763, Val F1: 0.8688\n"
     ]
    },
    {
     "data": {
      "application/vnd.jupyter.widget-view+json": {
       "model_id": "ea53f807d9e24bea91c6cd270bdea78a",
       "version_major": 2,
       "version_minor": 0
      },
      "text/plain": [
       "  0%|          | 0/613 [00:00<?, ?it/s]"
      ]
     },
     "metadata": {},
     "output_type": "display_data"
    },
    {
     "data": {
      "application/vnd.jupyter.widget-view+json": {
       "model_id": "f763d19d2aec4e57aa7e8fbba6d25560",
       "version_major": 2,
       "version_minor": 0
      },
      "text/plain": [
       "  0%|          | 0/263 [00:00<?, ?it/s]"
      ]
     },
     "metadata": {},
     "output_type": "display_data"
    },
    {
     "name": "stdout",
     "output_type": "stream",
     "text": [
      "Epoch [6/10], Train Loss: 0.1414, Train F1: 0.9302, Val Loss: 0.3516, Val F1: 0.8433\n"
     ]
    },
    {
     "data": {
      "application/vnd.jupyter.widget-view+json": {
       "model_id": "95b3944b626e4b2e9619a3cbb44e8c65",
       "version_major": 2,
       "version_minor": 0
      },
      "text/plain": [
       "  0%|          | 0/613 [00:00<?, ?it/s]"
      ]
     },
     "metadata": {},
     "output_type": "display_data"
    },
    {
     "data": {
      "application/vnd.jupyter.widget-view+json": {
       "model_id": "111b775a67a34e53a59ea2dd7090a9d1",
       "version_major": 2,
       "version_minor": 0
      },
      "text/plain": [
       "  0%|          | 0/263 [00:00<?, ?it/s]"
      ]
     },
     "metadata": {},
     "output_type": "display_data"
    },
    {
     "name": "stdout",
     "output_type": "stream",
     "text": [
      "Epoch [7/10], Train Loss: 0.1189, Train F1: 0.9459, Val Loss: 0.3431, Val F1: 0.8660\n"
     ]
    },
    {
     "data": {
      "application/vnd.jupyter.widget-view+json": {
       "model_id": "cb469b71ed7b42ae9ae73299d281b37b",
       "version_major": 2,
       "version_minor": 0
      },
      "text/plain": [
       "  0%|          | 0/613 [00:00<?, ?it/s]"
      ]
     },
     "metadata": {},
     "output_type": "display_data"
    },
    {
     "data": {
      "application/vnd.jupyter.widget-view+json": {
       "model_id": "885935202377449ba7b8a1dd2b771eae",
       "version_major": 2,
       "version_minor": 0
      },
      "text/plain": [
       "  0%|          | 0/263 [00:00<?, ?it/s]"
      ]
     },
     "metadata": {},
     "output_type": "display_data"
    },
    {
     "name": "stdout",
     "output_type": "stream",
     "text": [
      "Epoch [8/10], Train Loss: 0.1036, Train F1: 0.9520, Val Loss: 0.3430, Val F1: 0.8445\n"
     ]
    },
    {
     "data": {
      "application/vnd.jupyter.widget-view+json": {
       "model_id": "77d4744dd15f4d40947391f0595566e8",
       "version_major": 2,
       "version_minor": 0
      },
      "text/plain": [
       "  0%|          | 0/613 [00:00<?, ?it/s]"
      ]
     },
     "metadata": {},
     "output_type": "display_data"
    },
    {
     "data": {
      "application/vnd.jupyter.widget-view+json": {
       "model_id": "5564ed5319004eed80de7df240b7dd52",
       "version_major": 2,
       "version_minor": 0
      },
      "text/plain": [
       "  0%|          | 0/263 [00:00<?, ?it/s]"
      ]
     },
     "metadata": {},
     "output_type": "display_data"
    },
    {
     "name": "stdout",
     "output_type": "stream",
     "text": [
      "Epoch [9/10], Train Loss: 0.0904, Train F1: 0.9558, Val Loss: 0.3800, Val F1: 0.8624\n"
     ]
    },
    {
     "data": {
      "application/vnd.jupyter.widget-view+json": {
       "model_id": "69b1425157774847a7300166f3eba9d6",
       "version_major": 2,
       "version_minor": 0
      },
      "text/plain": [
       "  0%|          | 0/613 [00:00<?, ?it/s]"
      ]
     },
     "metadata": {},
     "output_type": "display_data"
    },
    {
     "data": {
      "application/vnd.jupyter.widget-view+json": {
       "model_id": "631f49112fd74623af5b0a3cf6e98a30",
       "version_major": 2,
       "version_minor": 0
      },
      "text/plain": [
       "  0%|          | 0/263 [00:00<?, ?it/s]"
      ]
     },
     "metadata": {},
     "output_type": "display_data"
    },
    {
     "name": "stdout",
     "output_type": "stream",
     "text": [
      "New best model saved with F1: 0.8793\n",
      "Epoch [10/10], Train Loss: 0.0771, Train F1: 0.9673, Val Loss: 0.3182, Val F1: 0.8793\n"
     ]
    }
   ],
   "source": [
    "# Напишем код для обучения нашей нейронной сети:\n",
    "\n",
    "device = torch.device(\"cuda\" if torch.cuda.is_available() else \"cpu\")\n",
    "print(\"Для обучения выбран девайс {}\".format(device))\n",
    "\n",
    "model = ResNet18(num_classes=data[\"unified_class\"].nunique()).to(device)\n",
    "\n",
    "# Инициализируем функцию потерь (loss/criterion), а так же оптимизатор, который будет регулировать обновление весов нашей модели\n",
    "optimizer = optim.Adam(model.parameters(), lr=0.001)\n",
    "criterion = nn.CrossEntropyLoss()\n",
    "\n",
    "# Переменные для визуализации метрик и функции потерь\n",
    "train_losses = []\n",
    "val_losses = []\n",
    "# Для удобства оценивать качество модели будем той же метрику, что на лидерборде - F1 score\n",
    "train_f1_scores = []\n",
    "val_f1_scores = []\n",
    "\n",
    "best_val_f1 = 0.0\n",
    "best_model_path = 'best_model.pth'\n",
    "\n",
    "# Определим, сколько раз мы пройдёмся по всему датасету, прежде, чем закончим обучение модели и выберем лучшую версию\n",
    "num_epochs = 10\n",
    "\n",
    "# Напишем свой train_loop\n",
    "for epoch in range(num_epochs):\n",
    "    model.train()\n",
    "    running_loss = 0.0\n",
    "    train_true = []\n",
    "    train_pred = []\n",
    "    \n",
    "    for batch in tqdm(train_dataloader):\n",
    "        inputs, labels = batch\n",
    "        inputs, labels = inputs.to(device), labels.to(device)\n",
    "        \n",
    "        optimizer.zero_grad()\n",
    "        \n",
    "        outputs = model((inputs, labels))\n",
    "        loss = criterion(outputs, labels)\n",
    "        loss.backward()\n",
    "        optimizer.step()\n",
    "        \n",
    "        running_loss += loss.item()\n",
    "        \n",
    "        preds = torch.argmax(outputs, dim=1)\n",
    "        train_true.extend(labels.cpu().numpy())\n",
    "        train_pred.extend(preds.cpu().numpy())\n",
    "    \n",
    "    train_f1 = f1_score(train_true, train_pred, average='macro')\n",
    "    train_losses.append(running_loss / len(train_dataloader))\n",
    "    train_f1_scores.append(train_f1)\n",
    "    \n",
    "    model.eval()\n",
    "    val_running_loss = 0.0\n",
    "    val_true = []\n",
    "    val_pred = []\n",
    "    \n",
    "    # валидационный цикл, когда мы оцениваем качество работы модели на отложенной выборке\n",
    "    with torch.no_grad():\n",
    "        for batch in tqdm(valid_dataloader):\n",
    "            inputs, labels = batch\n",
    "            inputs, labels = inputs.to(device), labels.to(device)\n",
    "            \n",
    "            outputs = model((inputs, labels))\n",
    "            loss = criterion(outputs, labels)\n",
    "            \n",
    "            val_running_loss += loss.item()\n",
    "            \n",
    "            preds = torch.argmax(outputs, dim=1)\n",
    "            val_true.extend(labels.cpu().numpy())\n",
    "            val_pred.extend(preds.cpu().numpy())\n",
    "    \n",
    "    val_f1 = f1_score(val_true, val_pred, average='macro')\n",
    "    val_losses.append(val_running_loss / len(valid_dataloader))\n",
    "    val_f1_scores.append(val_f1)\n",
    "\n",
    "    # если получившаяся модель лучше предыдущей, сохраним чекпоинт\n",
    "    if val_f1 > best_val_f1:\n",
    "        best_val_f1 = val_f1\n",
    "        torch.save(model.state_dict(), best_model_path)\n",
    "        print(f'New best model saved with F1: {best_val_f1:.4f}')\n",
    "\n",
    "    \n",
    "    # выведем в консоль получившиеся результаты на отдельной эпохе\n",
    "    print(f'Epoch [{epoch+1}/{num_epochs}], '\n",
    "          f'Train Loss: {train_losses[-1]:.4f}, Train F1: {train_f1:.4f}, '\n",
    "          f'Val Loss: {val_losses[-1]:.4f}, Val F1: {val_f1:.4f}')\n"
   ]
  },
  {
   "cell_type": "code",
   "execution_count": 10,
   "id": "928bb55f2e2cc00f",
   "metadata": {
    "ExecuteTime": {
     "end_time": "2024-08-13T14:14:39.440609Z",
     "start_time": "2024-08-13T14:14:39.440485Z"
    }
   },
   "outputs": [
    {
     "data": {
      "image/png": "[encoded data removed]",
      "text/plain": [
       "<Figure size 1400x500 with 2 Axes>"
      ]
     },
     "metadata": {},
     "output_type": "display_data"
    }
   ],
   "source": [
    "# После эксперимента важно оценить полученные кривые обучения, чтобы сформировать новые гипотезы\n",
    "# Визуализируем их!\n",
    "\n",
    "plt.figure(figsize=(14, 5))\n",
    "\n",
    "plt.subplot(1, 2, 1)\n",
    "plt.plot(train_losses, label='Train Loss')\n",
    "plt.plot(val_losses, label='Validation Loss')\n",
    "plt.title('Loss')\n",
    "plt.xlabel('Epoch')\n",
    "plt.ylabel('Loss')\n",
    "plt.legend()\n",
    "\n",
    "plt.subplot(1, 2, 2)\n",
    "plt.plot(train_f1_scores, label='Train F1')\n",
    "plt.plot(val_f1_scores, label='Validation F1')\n",
    "plt.title('F1 Score')\n",
    "plt.xlabel('Epoch')\n",
    "plt.ylabel('F1 Score')\n",
    "plt.legend()\n",
    "\n",
    "plt.show()"
   ]
  },
  {
   "cell_type": "markdown",
   "id": "eb0399f9-4617-4d08-9b81-53c7c8fca64c",
   "metadata": {},
   "source": [
    "## Инференс модели и формирование сабмита"
   ]
  },
  {
   "cell_type": "code",
   "execution_count": 11,
   "id": "eda82f277c5b1b59",
   "metadata": {
    "ExecuteTime": {
     "end_time": "2024-08-13T13:58:20.350343Z",
     "start_time": "2024-08-13T13:57:48.728662Z"
    }
   },
   "outputs": [
    {
     "data": {
      "application/vnd.jupyter.widget-view+json": {
       "model_id": "2d5e360ed403478da6d361366e2875f9",
       "version_major": 2,
       "version_minor": 0
      },
      "text/plain": [
       "  0%|          | 0/203 [00:00<?, ?it/s]"
      ]
     },
     "metadata": {},
     "output_type": "display_data"
    },
    {
     "name": "stdout",
     "output_type": "stream",
     "text": [
      "                             image_name  predicted_class\n",
      "0  cc27b9b56583a615fb8501e352402eb9.JPG                8\n",
      "1  87872711fe672676fd34a97e997f9c47.JPG                5\n",
      "2  424aa1aa8eb5bbdd07275f88077bc86c.JPG                0\n",
      "3  c5537eaa60525efd7bad4a5560607e83.JPG                1\n",
      "4  e9f15b67ca49453e281b2b4f245eac13.JPG                6\n"
     ]
    }
   ],
   "source": [
    "# У нас есть обученная модель! Теперь сделаем инференс модели на тестовых данных и подготовим файл сабмита!\n",
    "\n",
    "# Немного перепишем наш датасет, ведь для тестовой части у нас нет меток классов, но нам нужны имена файлов для сабмита\n",
    "class InferenceDataset(Dataset):\n",
    "    def __init__(self, image_paths, transforms=None):\n",
    "        self.image_paths = image_paths\n",
    "        self.transforms = transforms\n",
    "    \n",
    "    def __len__(self):\n",
    "        return len(self.image_paths)\n",
    "    \n",
    "    def __getitem__(self, idx):\n",
    "        image_path = self.image_paths[idx]\n",
    "        image = Image.open(image_path).convert('RGB')\n",
    "        if self.transforms is not None:\n",
    "            image = self.transforms(image)\n",
    "        return image, image_path.name\n",
    "\n",
    "\n",
    "# Тут важно не ошибиться и не использовать тренировочные трансформы\n",
    "infer_transform = tt.Compose([\n",
    "    tt.Resize((224, 224)),\n",
    "    tt.ToTensor(),\n",
    "    tt.Normalize(mean=[0.485, 0.456, 0.406], std=[0.229, 0.224, 0.225]),\n",
    "])\n",
    "\n",
    "# Найдем все тестовые картинки\n",
    "test_image_paths = base_path / \"test\"\n",
    "test_image_paths = list(test_image_paths.glob(\"*.JPG\"))\n",
    "\n",
    "infer_dataset = InferenceDataset(test_image_paths, transforms=infer_transform)\n",
    "infer_dataloader = DataLoader(infer_dataset, batch_size=64, shuffle=False)\n",
    "\n",
    "# Инициализируем нашу модель и загрузим в неё лучшие после эксперимента веса \n",
    "model = ResNet18(num_classes=data[\"unified_class\"].nunique()).to(device)\n",
    "model.load_state_dict(torch.load(best_model_path))\n",
    "# Не забудем перевести модель в режим предсказания, а не обучения.\n",
    "model.eval()\n",
    "\n",
    "# Для ускорения инференса будем подавать в модель картинки батчами (по несколько картинок за раз) и сохраним предсказанные метки классов.\n",
    "results = []\n",
    "for images, image_names in tqdm(infer_dataloader):\n",
    "    images = images.to(device)\n",
    "    \n",
    "    with torch.no_grad():\n",
    "        outputs = model((images, None))\n",
    "        preds = torch.argmax(outputs, dim=1).cpu().numpy()\n",
    "    \n",
    "    for image_name, pred_class in zip(image_names, preds):\n",
    "        results.append({\"image_name\": image_name, \"predicted_class\": pred_class})\n",
    "\n",
    "\n",
    "\n",
    "# Для удобства объединим все пары \"имя файла - предсказанный класс\" в датафрейм (таблицу) с колонками image_name, predicted_class\n",
    "df_results = pd.DataFrame(results)\n",
    "\n",
    "# Вывод DataFrame\n",
    "print(df_results.head())"
   ]
  },
  {
   "cell_type": "code",
   "execution_count": 12,
   "id": "f42c5bb8a6833ae7",
   "metadata": {
    "ExecuteTime": {
     "end_time": "2024-08-13T13:41:48.262899Z",
     "start_time": "2024-08-13T13:41:48.261292Z"
    }
   },
   "outputs": [],
   "source": [
    "# Сохраним результат предсказаний в файл и всё! Можно отправлять!\n",
    "df_results.to_csv(\"submission.csv\", index=False)"
   ]
  },
  {
   "cell_type": "code",
   "execution_count": null,
   "id": "a9490952-bb48-41c7-a674-fed8bf1d0ed7",
   "metadata": {},
   "outputs": [],
   "source": []
  }
 ],
 "metadata": {
  "kernelspec": {
   "display_name": "Python 3",
   "language": "python",
   "name": "python3"
  },
  "language_info": {
   "codemirror_mode": {
    "name": "ipython",
    "version": 3
   },
   "file_extension": ".py",
   "mimetype": "text/x-python",
   "name": "python",
   "nbconvert_exporter": "python",
   "pygments_lexer": "ipython3",
   "version": "3.11.3"
  }
 },
 "nbformat": 4,
 "nbformat_minor": 5
}
