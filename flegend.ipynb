{
 "cells": [
  {
   "cell_type": "code",
   "execution_count": 1,
   "metadata": {},
   "outputs": [],
   "source": [
    "import pandas as pd\n",
    "import numpy as np\n",
    "from tqdm.notebook import tqdm\n",
    "from collections import Counter\n",
    "\n",
    "from sklearn.preprocessing import LabelEncoder\n",
    "from sklearn.model_selection import train_test_split\n",
    "\n",
    "from catboost import CatBoostClassifier\n",
    "from sklearn.metrics import accuracy_score, f1_score\n",
    "\n",
    "from sklearn.model_selection import GridSearchCV\n",
    "from sklearn.model_selection import PredefinedSplit"
   ]
  },
  {
   "cell_type": "code",
   "execution_count": 2,
   "metadata": {},
   "outputs": [
    {
     "data": {
      "text/html": [
       "<div>\n",
       "<style scoped>\n",
       "    .dataframe tbody tr th:only-of-type {\n",
       "        vertical-align: middle;\n",
       "    }\n",
       "\n",
       "    .dataframe tbody tr th {\n",
       "        vertical-align: top;\n",
       "    }\n",
       "\n",
       "    .dataframe thead th {\n",
       "        text-align: right;\n",
       "    }\n",
       "</style>\n",
       "<table border=\"1\" class=\"dataframe\">\n",
       "  <thead>\n",
       "    <tr style=\"text-align: right;\">\n",
       "      <th></th>\n",
       "      <th>video_id</th>\n",
       "      <th>v_pub_datetime</th>\n",
       "      <th>v_total_comments</th>\n",
       "      <th>v_year_views</th>\n",
       "      <th>v_month_views</th>\n",
       "      <th>v_week_views</th>\n",
       "      <th>v_day_views</th>\n",
       "      <th>v_likes</th>\n",
       "      <th>v_dislikes</th>\n",
       "      <th>v_duration</th>\n",
       "      <th>...</th>\n",
       "      <th>v_category_popularity_percent_7_days</th>\n",
       "      <th>v_category_popularity_percent_30_days</th>\n",
       "      <th>v_long_views_1_days</th>\n",
       "      <th>v_long_views_7_days</th>\n",
       "      <th>v_long_views_30_days</th>\n",
       "      <th>row_number</th>\n",
       "      <th>title</th>\n",
       "      <th>description</th>\n",
       "      <th>category_id</th>\n",
       "      <th>author_id</th>\n",
       "    </tr>\n",
       "  </thead>\n",
       "  <tbody>\n",
       "    <tr>\n",
       "      <th>0</th>\n",
       "      <td>5b98a8f2-99b6-4730-b3a2-33fc6791eefd</td>\n",
       "      <td>2009-12-31 21:00:01</td>\n",
       "      <td>0</td>\n",
       "      <td>18947</td>\n",
       "      <td>23</td>\n",
       "      <td>23</td>\n",
       "      <td>23</td>\n",
       "      <td>62</td>\n",
       "      <td>6</td>\n",
       "      <td>42.025</td>\n",
       "      <td>...</td>\n",
       "      <td>0.917423</td>\n",
       "      <td>0.917423</td>\n",
       "      <td>6</td>\n",
       "      <td>6</td>\n",
       "      <td>6</td>\n",
       "      <td>1</td>\n",
       "      <td>найк</td>\n",
       "      <td>найк дрессура</td>\n",
       "      <td>Животные</td>\n",
       "      <td>e4bf220f-3c8a-4804-88ee-8f76303a0415</td>\n",
       "    </tr>\n",
       "  </tbody>\n",
       "</table>\n",
       "<p>1 rows × 43 columns</p>\n",
       "</div>"
      ],
      "text/plain": [
       "                               video_id      v_pub_datetime  v_total_comments  \\\n",
       "0  5b98a8f2-99b6-4730-b3a2-33fc6791eefd 2009-12-31 21:00:01                 0   \n",
       "\n",
       "   v_year_views  v_month_views  v_week_views  v_day_views  v_likes  \\\n",
       "0         18947             23            23           23       62   \n",
       "\n",
       "   v_dislikes  v_duration  ...  v_category_popularity_percent_7_days  \\\n",
       "0           6      42.025  ...                              0.917423   \n",
       "\n",
       "   v_category_popularity_percent_30_days  v_long_views_1_days  \\\n",
       "0                               0.917423                    6   \n",
       "\n",
       "   v_long_views_7_days  v_long_views_30_days  row_number  title  \\\n",
       "0                    6                     6           1   найк   \n",
       "\n",
       "      description  category_id                             author_id  \n",
       "0  найк дрессура      Животные  e4bf220f-3c8a-4804-88ee-8f76303a0415  \n",
       "\n",
       "[1 rows x 43 columns]"
      ]
     },
     "execution_count": 2,
     "metadata": {},
     "output_type": "execute_result"
    }
   ],
   "source": [
    "stat = pd.read_parquet('video_stat.parquet')\n",
    "stat.head(1)"
   ]
  },
  {
   "cell_type": "code",
   "execution_count": 3,
   "metadata": {},
   "outputs": [
    {
     "data": {
      "application/vnd.jupyter.widget-view+json": {
       "model_id": "eac483fb5cfe40c2a23e214902d6ce74",
       "version_major": 2,
       "version_minor": 0
      },
      "text/plain": [
       "  0%|          | 0/43 [00:00<?, ?it/s]"
      ]
     },
     "metadata": {},
     "output_type": "display_data"
    }
   ],
   "source": [
    "for col in tqdm(stat.columns):\n",
    "    if len(Counter(stat[col]))==1: \n",
    "        stat.drop(columns=[col], inplace=True)"
   ]
  },
  {
   "cell_type": "code",
   "execution_count": 4,
   "metadata": {},
   "outputs": [
    {
     "data": {
      "text/plain": [
       "40"
      ]
     },
     "execution_count": 4,
     "metadata": {},
     "output_type": "execute_result"
    }
   ],
   "source": [
    "len(stat.columns)"
   ]
  },
  {
   "cell_type": "code",
   "execution_count": 5,
   "metadata": {},
   "outputs": [
    {
     "data": {
      "text/html": [
       "<div>\n",
       "<style scoped>\n",
       "    .dataframe tbody tr th:only-of-type {\n",
       "        vertical-align: middle;\n",
       "    }\n",
       "\n",
       "    .dataframe tbody tr th {\n",
       "        vertical-align: top;\n",
       "    }\n",
       "\n",
       "    .dataframe thead th {\n",
       "        text-align: right;\n",
       "    }\n",
       "</style>\n",
       "<table border=\"1\" class=\"dataframe\">\n",
       "  <thead>\n",
       "    <tr style=\"text-align: right;\">\n",
       "      <th></th>\n",
       "      <th>event_timestamp</th>\n",
       "      <th>user_id</th>\n",
       "      <th>region</th>\n",
       "      <th>city</th>\n",
       "      <th>video_id</th>\n",
       "      <th>watchtime</th>\n",
       "    </tr>\n",
       "  </thead>\n",
       "  <tbody>\n",
       "    <tr>\n",
       "      <th>0</th>\n",
       "      <td>2024-08-10 20:13:12+03:00</td>\n",
       "      <td>73dadec9-9189-43a8-a32f-906e549af7e0</td>\n",
       "      <td>13925c13-0e77-4548-acdc-09aa728e31d4</td>\n",
       "      <td>faeecbed-060a-4d40-be81-ce3bac90804c</td>\n",
       "      <td>98380888-2d8a-4d2f-9660-a00c3c5c0512</td>\n",
       "      <td>0</td>\n",
       "    </tr>\n",
       "  </tbody>\n",
       "</table>\n",
       "</div>"
      ],
      "text/plain": [
       "            event_timestamp                               user_id  \\\n",
       "0 2024-08-10 20:13:12+03:00  73dadec9-9189-43a8-a32f-906e549af7e0   \n",
       "\n",
       "                                 region                                  city  \\\n",
       "0  13925c13-0e77-4548-acdc-09aa728e31d4  faeecbed-060a-4d40-be81-ce3bac90804c   \n",
       "\n",
       "                               video_id  watchtime  \n",
       "0  98380888-2d8a-4d2f-9660-a00c3c5c0512          0  "
      ]
     },
     "execution_count": 5,
     "metadata": {},
     "output_type": "execute_result"
    }
   ],
   "source": [
    "train =pd.read_parquet('train.parquet')\n",
    "train.head(1)"
   ]
  },
  {
   "cell_type": "code",
   "execution_count": 6,
   "metadata": {},
   "outputs": [],
   "source": [
    "train.drop_duplicates(inplace=True)"
   ]
  },
  {
   "cell_type": "code",
   "execution_count": 32,
   "metadata": {},
   "outputs": [
    {
     "data": {
      "text/html": [
       "<div>\n",
       "<style scoped>\n",
       "    .dataframe tbody tr th:only-of-type {\n",
       "        vertical-align: middle;\n",
       "    }\n",
       "\n",
       "    .dataframe tbody tr th {\n",
       "        vertical-align: top;\n",
       "    }\n",
       "\n",
       "    .dataframe thead th {\n",
       "        text-align: right;\n",
       "    }\n",
       "</style>\n",
       "<table border=\"1\" class=\"dataframe\">\n",
       "  <thead>\n",
       "    <tr style=\"text-align: right;\">\n",
       "      <th></th>\n",
       "      <th>event_timestamp</th>\n",
       "      <th>user_id</th>\n",
       "      <th>region</th>\n",
       "      <th>city</th>\n",
       "      <th>video_id</th>\n",
       "    </tr>\n",
       "  </thead>\n",
       "  <tbody>\n",
       "    <tr>\n",
       "      <th>0</th>\n",
       "      <td>2024-08-10 11:45:52+03:00</td>\n",
       "      <td>00000a62-336d-4b71-bb8b-991c877ac678</td>\n",
       "      <td>e7a113d7-5be1-44c0-9e97-78fd27df336f</td>\n",
       "      <td>7a193a03-5883-4ef2-b69d-873f397ec104</td>\n",
       "      <td>62a44a87-29e5-464d-a9ff-78de16d4a7d7</td>\n",
       "    </tr>\n",
       "  </tbody>\n",
       "</table>\n",
       "</div>"
      ],
      "text/plain": [
       "            event_timestamp                               user_id  \\\n",
       "0 2024-08-10 11:45:52+03:00  00000a62-336d-4b71-bb8b-991c877ac678   \n",
       "\n",
       "                                 region                                  city  \\\n",
       "0  e7a113d7-5be1-44c0-9e97-78fd27df336f  7a193a03-5883-4ef2-b69d-873f397ec104   \n",
       "\n",
       "                               video_id  \n",
       "0  62a44a87-29e5-464d-a9ff-78de16d4a7d7  "
      ]
     },
     "execution_count": 32,
     "metadata": {},
     "output_type": "execute_result"
    }
   ],
   "source": [
    "test = pd.read_parquet('test.parquet')\n",
    "test.head(1)"
   ]
  },
  {
   "cell_type": "code",
   "execution_count": 8,
   "metadata": {},
   "outputs": [
    {
     "data": {
      "text/html": [
       "<div>\n",
       "<style scoped>\n",
       "    .dataframe tbody tr th:only-of-type {\n",
       "        vertical-align: middle;\n",
       "    }\n",
       "\n",
       "    .dataframe tbody tr th {\n",
       "        vertical-align: top;\n",
       "    }\n",
       "\n",
       "    .dataframe thead th {\n",
       "        text-align: right;\n",
       "    }\n",
       "</style>\n",
       "<table border=\"1\" class=\"dataframe\">\n",
       "  <thead>\n",
       "    <tr style=\"text-align: right;\">\n",
       "      <th></th>\n",
       "      <th>target</th>\n",
       "    </tr>\n",
       "  </thead>\n",
       "  <tbody>\n",
       "    <tr>\n",
       "      <th>0</th>\n",
       "      <td>0</td>\n",
       "    </tr>\n",
       "    <tr>\n",
       "      <th>1</th>\n",
       "      <td>1</td>\n",
       "    </tr>\n",
       "    <tr>\n",
       "      <th>2</th>\n",
       "      <td>1</td>\n",
       "    </tr>\n",
       "    <tr>\n",
       "      <th>3</th>\n",
       "      <td>1</td>\n",
       "    </tr>\n",
       "    <tr>\n",
       "      <th>4</th>\n",
       "      <td>0</td>\n",
       "    </tr>\n",
       "    <tr>\n",
       "      <th>...</th>\n",
       "      <td>...</td>\n",
       "    </tr>\n",
       "    <tr>\n",
       "      <th>1334127</th>\n",
       "      <td>1</td>\n",
       "    </tr>\n",
       "    <tr>\n",
       "      <th>1334128</th>\n",
       "      <td>1</td>\n",
       "    </tr>\n",
       "    <tr>\n",
       "      <th>1334129</th>\n",
       "      <td>1</td>\n",
       "    </tr>\n",
       "    <tr>\n",
       "      <th>1334130</th>\n",
       "      <td>1</td>\n",
       "    </tr>\n",
       "    <tr>\n",
       "      <th>1334131</th>\n",
       "      <td>1</td>\n",
       "    </tr>\n",
       "  </tbody>\n",
       "</table>\n",
       "<p>1334132 rows × 1 columns</p>\n",
       "</div>"
      ],
      "text/plain": [
       "         target\n",
       "0             0\n",
       "1             1\n",
       "2             1\n",
       "3             1\n",
       "4             0\n",
       "...         ...\n",
       "1334127       1\n",
       "1334128       1\n",
       "1334129       1\n",
       "1334130       1\n",
       "1334131       1\n",
       "\n",
       "[1334132 rows x 1 columns]"
      ]
     },
     "execution_count": 8,
     "metadata": {},
     "output_type": "execute_result"
    }
   ],
   "source": [
    "sub = pd.read_csv('sample_submission.csv', index_col=0)\n",
    "sub"
   ]
  },
  {
   "cell_type": "code",
   "execution_count": 9,
   "metadata": {},
   "outputs": [],
   "source": [
    "train = pd.merge(train, stat, on='video_id', how='left')"
   ]
  },
  {
   "cell_type": "code",
   "execution_count": 33,
   "metadata": {},
   "outputs": [],
   "source": [
    "test = pd.merge(test, stat, on='video_id', how='left')"
   ]
  },
  {
   "cell_type": "code",
   "execution_count": 11,
   "metadata": {},
   "outputs": [],
   "source": [
    "train['target'] = 0  # Инициализируем столбец target нулями\n",
    "\n",
    "# Условие для v_duration > 300\n",
    "mask_long = train['v_duration'] > 300\n",
    "train.loc[mask_long, 'target'] = (train.loc[mask_long, 'watchtime'] > 0.25 * train.loc[mask_long, 'v_duration']).astype(int)\n",
    "\n",
    "# Условие для v_duration <= 300\n",
    "mask_short = train['v_duration'] <= 300\n",
    "train.loc[mask_short, 'target'] = (train.loc[mask_short, 'watchtime'] > 30).astype(int)\n",
    "\n",
    "train.drop(['watchtime'], axis=1, inplace=True)"
   ]
  },
  {
   "cell_type": "code",
   "execution_count": 12,
   "metadata": {},
   "outputs": [],
   "source": [
    "train.drop(columns=['video_id', 'title', 'description', 'v_pub_datetime'], inplace=True)"
   ]
  },
  {
   "cell_type": "code",
   "execution_count": 13,
   "metadata": {},
   "outputs": [],
   "source": [
    "cat_train = ['category_id', 'author_id', 'user_id', 'city', 'region']"
   ]
  },
  {
   "cell_type": "code",
   "execution_count": 14,
   "metadata": {},
   "outputs": [],
   "source": [
    "lst=[]\n",
    "\n",
    "for i in cat_train:\n",
    "    for j in train[i]:\n",
    "        lst.append(j)\n",
    "\n",
    "for i in cat_train:\n",
    "    for j in test[i]:\n",
    "        lst.append(j)"
   ]
  },
  {
   "cell_type": "code",
   "execution_count": 15,
   "metadata": {},
   "outputs": [],
   "source": [
    "le = LabelEncoder()\n",
    "\n",
    "le.fit(lst)\n",
    "\n",
    "for col in cat_train:\n",
    "    train[col] = le.transform(train[col])"
   ]
  },
  {
   "cell_type": "code",
   "execution_count": 16,
   "metadata": {},
   "outputs": [],
   "source": [
    "train['event_timestamp'] = pd.to_datetime(train['event_timestamp']).dt.tz_localize(None).astype('datetime64[ns]')"
   ]
  },
  {
   "cell_type": "code",
   "execution_count": 17,
   "metadata": {},
   "outputs": [
    {
     "data": {
      "text/plain": [
       "Counter({1: 7468789, 0: 6685751})"
      ]
     },
     "execution_count": 17,
     "metadata": {},
     "output_type": "execute_result"
    }
   ],
   "source": [
    "Counter(train.target)"
   ]
  },
  {
   "cell_type": "code",
   "execution_count": 18,
   "metadata": {},
   "outputs": [],
   "source": [
    "X = train.drop(columns=['target'])\n",
    "y = train['target']"
   ]
  },
  {
   "cell_type": "code",
   "execution_count": 19,
   "metadata": {},
   "outputs": [],
   "source": [
    "# Разделение данных на обучающую и валидационную выборки\n",
    "X_train, X_val, y_train, y_val = train_test_split(X, y, test_size=0.2, stratify=y)"
   ]
  },
  {
   "cell_type": "code",
   "execution_count": 20,
   "metadata": {},
   "outputs": [],
   "source": [
    "model = CatBoostClassifier(iterations=1000, od_wait=500, depth=11, task_type='GPU')"
   ]
  },
  {
   "cell_type": "code",
   "execution_count": 21,
   "metadata": {},
   "outputs": [
    {
     "name": "stdout",
     "output_type": "stream",
     "text": [
      "Learning rate set to 0.032206\n",
      "0:\tlearn: 0.6827168\ttest: 0.6827026\tbest: 0.6827026 (0)\ttotal: 434ms\tremaining: 7m 13s\n",
      "200:\tlearn: 0.5497213\ttest: 0.5499387\tbest: 0.5499387 (200)\ttotal: 1m 1s\tremaining: 4m 2s\n",
      "400:\tlearn: 0.5472550\ttest: 0.5479317\tbest: 0.5479317 (400)\ttotal: 2m 4s\tremaining: 3m 5s\n",
      "600:\tlearn: 0.5458469\ttest: 0.5469394\tbest: 0.5469394 (600)\ttotal: 3m 5s\tremaining: 2m 3s\n",
      "800:\tlearn: 0.5447337\ttest: 0.5462962\tbest: 0.5462962 (800)\ttotal: 4m 8s\tremaining: 1m 1s\n",
      "999:\tlearn: 0.5437757\ttest: 0.5458608\tbest: 0.5458608 (999)\ttotal: 5m 9s\tremaining: 0us\n",
      "bestTest = 0.5458607715\n",
      "bestIteration = 999\n"
     ]
    },
    {
     "data": {
      "text/plain": [
       "(0.7107804280464077, 0.7513470470651047)"
      ]
     },
     "execution_count": 21,
     "metadata": {},
     "output_type": "execute_result"
    }
   ],
   "source": [
    "# Инициализация и обучение модели\n",
    "model.fit(X_train, y_train, eval_set=(X_val, y_val), verbose=200)\n",
    "\n",
    "# Оценка модели\n",
    "accuracy_score(y_val, model.predict(X_val)), f1_score(y_val, model.predict(X_val))"
   ]
  },
  {
   "cell_type": "code",
   "execution_count": 22,
   "metadata": {},
   "outputs": [],
   "source": [
    "# визуализация валидационной выборки для обучения\n",
    "# ps = PredefinedSplit(test_fold=[-1 if i in X_train.index else 0 for i in X.index])\n",
    "# ps"
   ]
  },
  {
   "cell_type": "code",
   "execution_count": 23,
   "metadata": {},
   "outputs": [],
   "source": [
    "# model = GridSearchCV(\n",
    "#     estimator=CatBoostClassifier(),\n",
    "#     param_grid={\n",
    "#         'verbose': [500],\n",
    "#         'task_type': ['GPU'],\n",
    "#         'depth': [7, 9, None],\n",
    "#         # 'loss_function': ['Logloss', None],\n",
    "#         # 'learning_rate': [1e-3, None],\n",
    "#         # 'class_weights': [dict(enumerate(weights)), None]\n",
    "#     },\n",
    "#     scoring='f1',\n",
    "#     verbose=52,\n",
    "#     cv=ps, \n",
    "# )"
   ]
  },
  {
   "cell_type": "code",
   "execution_count": 24,
   "metadata": {},
   "outputs": [],
   "source": [
    "# model.fit(X, y)"
   ]
  },
  {
   "cell_type": "code",
   "execution_count": 25,
   "metadata": {},
   "outputs": [],
   "source": [
    "# params = model.best_params_\n",
    "# params"
   ]
  },
  {
   "cell_type": "code",
   "execution_count": 26,
   "metadata": {},
   "outputs": [],
   "source": [
    "# accuracy_score(y_val, model.predict(X_val)), f1_score(y_val, model.predict(X_val))"
   ]
  },
  {
   "cell_type": "code",
   "execution_count": 27,
   "metadata": {},
   "outputs": [],
   "source": [
    "# model.save_model('cat.cbm', format=\"cbm\")"
   ]
  },
  {
   "cell_type": "code",
   "execution_count": 28,
   "metadata": {},
   "outputs": [],
   "source": [
    "# model.load_model('cat.cbm', format=\"cbm\")"
   ]
  },
  {
   "cell_type": "code",
   "execution_count": 34,
   "metadata": {},
   "outputs": [],
   "source": [
    "test.drop(columns=['video_id', 'title', 'description', 'v_pub_datetime'], inplace=True)"
   ]
  },
  {
   "cell_type": "code",
   "execution_count": 35,
   "metadata": {},
   "outputs": [],
   "source": [
    "test['event_timestamp'] = pd.to_datetime(test['event_timestamp']).dt.tz_localize(None).astype('datetime64[ns]')"
   ]
  },
  {
   "cell_type": "code",
   "execution_count": 36,
   "metadata": {},
   "outputs": [],
   "source": [
    "for col in cat_train:\n",
    "    test[col] = le.transform(test[col])"
   ]
  },
  {
   "cell_type": "code",
   "execution_count": 37,
   "metadata": {},
   "outputs": [
    {
     "data": {
      "text/html": [
       "<div>\n",
       "<style scoped>\n",
       "    .dataframe tbody tr th:only-of-type {\n",
       "        vertical-align: middle;\n",
       "    }\n",
       "\n",
       "    .dataframe tbody tr th {\n",
       "        vertical-align: top;\n",
       "    }\n",
       "\n",
       "    .dataframe thead th {\n",
       "        text-align: right;\n",
       "    }\n",
       "</style>\n",
       "<table border=\"1\" class=\"dataframe\">\n",
       "  <thead>\n",
       "    <tr style=\"text-align: right;\">\n",
       "      <th></th>\n",
       "      <th>target</th>\n",
       "    </tr>\n",
       "  </thead>\n",
       "  <tbody>\n",
       "    <tr>\n",
       "      <th>0</th>\n",
       "      <td>1</td>\n",
       "    </tr>\n",
       "    <tr>\n",
       "      <th>1</th>\n",
       "      <td>1</td>\n",
       "    </tr>\n",
       "    <tr>\n",
       "      <th>2</th>\n",
       "      <td>1</td>\n",
       "    </tr>\n",
       "    <tr>\n",
       "      <th>3</th>\n",
       "      <td>1</td>\n",
       "    </tr>\n",
       "    <tr>\n",
       "      <th>4</th>\n",
       "      <td>1</td>\n",
       "    </tr>\n",
       "    <tr>\n",
       "      <th>...</th>\n",
       "      <td>...</td>\n",
       "    </tr>\n",
       "    <tr>\n",
       "      <th>1334127</th>\n",
       "      <td>0</td>\n",
       "    </tr>\n",
       "    <tr>\n",
       "      <th>1334128</th>\n",
       "      <td>0</td>\n",
       "    </tr>\n",
       "    <tr>\n",
       "      <th>1334129</th>\n",
       "      <td>0</td>\n",
       "    </tr>\n",
       "    <tr>\n",
       "      <th>1334130</th>\n",
       "      <td>0</td>\n",
       "    </tr>\n",
       "    <tr>\n",
       "      <th>1334131</th>\n",
       "      <td>1</td>\n",
       "    </tr>\n",
       "  </tbody>\n",
       "</table>\n",
       "<p>1334132 rows × 1 columns</p>\n",
       "</div>"
      ],
      "text/plain": [
       "         target\n",
       "0             1\n",
       "1             1\n",
       "2             1\n",
       "3             1\n",
       "4             1\n",
       "...         ...\n",
       "1334127       0\n",
       "1334128       0\n",
       "1334129       0\n",
       "1334130       0\n",
       "1334131       1\n",
       "\n",
       "[1334132 rows x 1 columns]"
      ]
     },
     "execution_count": 37,
     "metadata": {},
     "output_type": "execute_result"
    }
   ],
   "source": [
    "sub['target'] = model.predict(test)\n",
    "sub"
   ]
  },
  {
   "cell_type": "code",
   "execution_count": 38,
   "metadata": {},
   "outputs": [],
   "source": [
    "sub.to_csv('sub_ml.csv')"
   ]
  },
  {
   "cell_type": "code",
   "execution_count": null,
   "metadata": {},
   "outputs": [],
   "source": []
  }
 ],
 "metadata": {
  "kernelspec": {
   "display_name": "Python 3",
   "language": "python",
   "name": "python3"
  },
  "language_info": {
   "codemirror_mode": {
    "name": "ipython",
    "version": 3
   },
   "file_extension": ".py",
   "mimetype": "text/x-python",
   "name": "python",
   "nbconvert_exporter": "python",
   "pygments_lexer": "ipython3",
   "version": "3.11.3"
  }
 },
 "nbformat": 4,
 "nbformat_minor": 2
}
