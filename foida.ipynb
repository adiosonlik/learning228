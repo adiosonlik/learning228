{
 "cells": [
  {
   "cell_type": "code",
   "execution_count": 5,
   "metadata": {},
   "outputs": [],
   "source": [
    "import pandas as pd\n",
    "import numpy as np\n",
    "from tqdm.notebook import tqdm"
   ]
  },
  {
   "cell_type": "code",
   "execution_count": 20,
   "metadata": {},
   "outputs": [
    {
     "data": {
      "application/vnd.jupyter.widget-view+json": {
       "model_id": "af0e3f5405ce4bac8c3e50b6c392bdd0",
       "version_major": 2,
       "version_minor": 0
      },
      "text/plain": [
       "  0%|          | 0/5 [00:00<?, ?it/s]"
      ]
     },
     "metadata": {},
     "output_type": "display_data"
    }
   ],
   "source": [
    "for s in tqdm(range(2975, 3000, 5)):\n",
    "    stat = pd.read_parquet('video_stat.parquet')\n",
    "    test = pd.read_parquet('test.parquet')\n",
    "    sub = pd.read_csv('sample_submission.csv', index_col=0)\n",
    "\n",
    "    merged_data = pd.merge(test, stat, on='video_id', how='left')\n",
    "\n",
    "    def create_target(row):\n",
    "        if row['v_duration'] > 300:  # 5 минут\n",
    "            if row['v_avg_watchtime_1_day'] >= 0.3099 * row['v_duration']: return 1\n",
    "            else: return 0\n",
    "        else:\n",
    "            if row['v_avg_watchtime_1_day'] >= (s/100): return 1 \n",
    "            else: return 0\n",
    "\n",
    "    merged_data['target'] = merged_data.apply(create_target, axis=1)\n",
    "\n",
    "    sub['target'] = merged_data['target']\n",
    "    sub.to_csv('subs/sub'+str(s)+'.csv')\n"
   ]
  },
  {
   "cell_type": "code",
   "execution_count": 16,
   "metadata": {},
   "outputs": [],
   "source": [
    "stat = pd.read_parquet('video_stat.parquet')\n",
    "test = pd.read_parquet('test.parquet')\n",
    "sub = pd.read_csv('sample_submission.csv', index_col=0)\n",
    "\n",
    "merged_data = pd.merge(test, stat, on='video_id', how='left')\n",
    "\n",
    "def create_target(row):\n",
    "    if row['v_duration'] > 300:  # 5 минут\n",
    "        if row['v_avg_watchtime_1_day'] >= 0.3099 * row['v_duration']: return 1\n",
    "        else: return 0\n",
    "    else:\n",
    "        if row['v_avg_watchtime_1_day'] >= 30: return 1 \n",
    "        else: return 0\n",
    "\n",
    "merged_data['target'] = merged_data.apply(create_target, axis=1)\n",
    "\n",
    "sub['target'] = merged_data['target']\n",
    "sub.to_csv('subs/sub'+'.csv')"
   ]
  },
  {
   "cell_type": "code",
   "execution_count": null,
   "metadata": {},
   "outputs": [],
   "source": []
  }
 ],
 "metadata": {
  "kernelspec": {
   "display_name": "Python 3",
   "language": "python",
   "name": "python3"
  },
  "language_info": {
   "codemirror_mode": {
    "name": "ipython",
    "version": 3
   },
   "file_extension": ".py",
   "mimetype": "text/x-python",
   "name": "python",
   "nbconvert_exporter": "python",
   "pygments_lexer": "ipython3",
   "version": "3.11.3"
  }
 },
 "nbformat": 4,
 "nbformat_minor": 2
}
