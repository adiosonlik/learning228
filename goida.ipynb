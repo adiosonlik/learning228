{
 "cells": [
  {
   "cell_type": "code",
   "execution_count": 7,
   "metadata": {},
   "outputs": [],
   "source": [
    "import pandas as pd\n",
    "import numpy as np\n",
    "from sklearn.preprocessing import LabelEncoder\n",
    "\n",
    "from sklearn.model_selection import train_test_split\n",
    "from catboost import CatBoostClassifier\n",
    "\n",
    "from tqdm.notebook import tqdm"
   ]
  },
  {
   "cell_type": "code",
   "execution_count": 8,
   "metadata": {},
   "outputs": [
    {
     "data": {
      "application/vnd.jupyter.widget-view+json": {
       "model_id": "62633b0e69c946e58d17957c721bf687",
       "version_major": 2,
       "version_minor": 0
      },
      "text/plain": [
       "  0%|          | 0/48 [00:00<?, ?it/s]"
      ]
     },
     "metadata": {},
     "output_type": "display_data"
    }
   ],
   "source": [
    "for s in tqdm(range(48)):\n",
    "    train = pd.read_csv('train.csv')\n",
    "    train['retro_date'] = pd.to_datetime(train['retro_date'])\n",
    "\n",
    "    test = pd.read_csv('test.csv')\n",
    "    test['retro_date'] = pd.to_datetime(test['retro_date'])\n",
    "\n",
    "    sub = pd.read_csv('sample_submission.csv', index_col=0)\n",
    "\n",
    "    cat_train = ['cc_2', 'cc_4', 'cc_6']\n",
    "    lst=[]\n",
    "    for i in cat_train:\n",
    "        for j in train[i]:\n",
    "            lst.append(j)\n",
    "\n",
    "    le = LabelEncoder()\n",
    "    le.fit(lst)\n",
    "    for col in cat_train:\n",
    "        train[col] = le.transform(train[col])\n",
    "    \n",
    "    X = train.drop(['successful_utilization'], axis = 1)\n",
    "    y = train.successful_utilization.values\n",
    "    X_train, X_test, y_train, y_test = train_test_split(X, y, test_size=0.2, stratify=y)\n",
    "\n",
    "    cat = CatBoostClassifier(task_type='GPU')\n",
    "    cat.fit(X, y, verbose=0)\n",
    "\n",
    "    model = cat\n",
    "    for col in cat_train:\n",
    "        test[col] = le.transform(test[col])\n",
    "    \n",
    "    test_0 = test.copy()\n",
    "    test_0['treatment'] = 0\n",
    "    test_1 = test.copy()\n",
    "    test_1['treatment'] = 1\n",
    "\n",
    "    pred_0 = model.predict_proba(test_0)[:,1]\n",
    "    pred_1 = model.predict_proba(test_1)[:,1]\n",
    "    uplift = pred_1 - pred_0\n",
    "\n",
    "    sub['successful_utilization'] = uplift\n",
    "    sub.to_csv('subs1/sample'+str(s)+'.csv')"
   ]
  },
  {
   "cell_type": "code",
   "execution_count": null,
   "metadata": {},
   "outputs": [],
   "source": []
  }
 ],
 "metadata": {
  "kernelspec": {
   "display_name": "Python 3",
   "language": "python",
   "name": "python3"
  },
  "language_info": {
   "codemirror_mode": {
    "name": "ipython",
    "version": 3
   },
   "file_extension": ".py",
   "mimetype": "text/x-python",
   "name": "python",
   "nbconvert_exporter": "python",
   "pygments_lexer": "ipython3",
   "version": "3.11.3"
  }
 },
 "nbformat": 4,
 "nbformat_minor": 2
}
