{
  "cells": [
    {
      "cell_type": "markdown",
      "metadata": {},
      "source": [
        "## Загрузка данных и библиотек\n"
      ]
    },
    {
      "cell_type": "code",
      "execution_count": 3,
      "metadata": {
        "id": "PS0wdIHkoEB7"
      },
      "outputs": [],
      "source": [
        "# Загрузка библиотек\n",
        "import pandas as pd  # Для работы с данными в виде таблиц (DataFrame), удобное манипулирование и анализ данных\n",
        "import numpy as np  # Для выполнения числовых операций, работа с массивами и матрицами\n",
        "import matplotlib.pyplot as plt  # Для построения графиков и визуализации данных\n",
        "from sklearn.model_selection import train_test_split  # Для разделения данных на обучающую и тестовую выборки\n",
        "from sklearn.feature_extraction.text import TfidfVectorizer  # Для преобразования текстов в векторы с использованием TF-IDF\n",
        "from keras.models import Sequential  # Для создания и обучения нейронных сетей\n",
        "from keras.layers import LSTM, Dense, Dropout  # Для добавления слоев в нейронную сеть (LSTM, Dense, Dropout)\n",
        "import keras  # Основной модуль для работы с нейронными \n",
        "import keras_tuner as kt # Модуль для побора гиперпараметров нейронной сети\n",
        "from sklearn.metrics import mean_absolute_error, mean_squared_error, r2_score  # Для оценки качества модели (MAE, MSE, R²)\n",
        "from keras.preprocessing.sequence import pad_sequences  # Для выравнивания последовательностей (паддинг) перед подачей в нейронную сеть\n",
        "from datetime import datetime  # Для работы с датами и временем\n",
        "import seaborn as sns  # Для создания красивых статистических графиков и визуализаций\n",
        "from sklearn.feature_extraction.text import CountVectorizer  # Для преобразования текстов в векторы с использованием подсчета частоты слов\n",
        "from catboost import CatBoostRegressor # Модель машинного обучения, регрессии\n",
        "import warnings # модуль для игнорирования предупреждений\n",
        "warnings.filterwarnings(\"ignore\") # Игнорирование предупреждений"
      ]
    },
    {
      "cell_type": "code",
      "execution_count": 4,
      "metadata": {
        "id": "QB37hfqUoJOC"
      },
      "outputs": [],
      "source": [
        "# Загрузка обучающих данных\n",
        "train = pd.read_csv(r'C:\\Users\\ffedo\\Desktop\\data_science\\aiijc_2024\\train.csv', sep=';')\n",
        "news = pd.read_csv(r'C:\\Users\\ffedo\\Desktop\\data_science\\aiijc_2024\\news.csv')"
      ]
    },
    {
      "cell_type": "code",
      "execution_count": 5,
      "metadata": {
        "id": "E97lvp9sqKVr"
      },
      "outputs": [],
      "source": [
        "# Загрузка тестовых данных\n",
        "test = pd.read_csv(r'C:\\Users\\ffedo\\Desktop\\data_science\\aiijc_2024\\test.csv', sep=';')"
      ]
    },
    {
      "cell_type": "markdown",
      "metadata": {},
      "source": [
        "## Просматриваем данные\n"
      ]
    },
    {
      "cell_type": "code",
      "execution_count": 6,
      "metadata": {
        "colab": {
          "base_uri": "https://localhost:8080/",
          "height": 424
        },
        "id": "y__AuypMoKvI",
        "outputId": "39cad12d-cccd-4347-8876-3eada03f1b80"
      },
      "outputs": [
        {
          "data": {
            "text/html": [
              "<div>\n",
              "<style scoped>\n",
              "    .dataframe tbody tr th:only-of-type {\n",
              "        vertical-align: middle;\n",
              "    }\n",
              "\n",
              "    .dataframe tbody tr th {\n",
              "        vertical-align: top;\n",
              "    }\n",
              "\n",
              "    .dataframe thead th {\n",
              "        text-align: right;\n",
              "    }\n",
              "</style>\n",
              "<table border=\"1\" class=\"dataframe\">\n",
              "  <thead>\n",
              "    <tr style=\"text-align: right;\">\n",
              "      <th></th>\n",
              "      <th>TICKER</th>\n",
              "      <th>PER</th>\n",
              "      <th>DATE</th>\n",
              "      <th>TIME</th>\n",
              "      <th>OPEN</th>\n",
              "      <th>HIGH</th>\n",
              "      <th>LOW</th>\n",
              "      <th>CLOSE</th>\n",
              "      <th>VOL</th>\n",
              "    </tr>\n",
              "  </thead>\n",
              "  <tbody>\n",
              "    <tr>\n",
              "      <th>0</th>\n",
              "      <td>VKCO</td>\n",
              "      <td>1</td>\n",
              "      <td>2024-02-01</td>\n",
              "      <td>10:00:00</td>\n",
              "      <td>698.20</td>\n",
              "      <td>698.20</td>\n",
              "      <td>696.20</td>\n",
              "      <td>696.60</td>\n",
              "      <td>7099</td>\n",
              "    </tr>\n",
              "    <tr>\n",
              "      <th>1</th>\n",
              "      <td>VKCO</td>\n",
              "      <td>1</td>\n",
              "      <td>2024-02-01</td>\n",
              "      <td>10:01:00</td>\n",
              "      <td>696.60</td>\n",
              "      <td>698.00</td>\n",
              "      <td>696.00</td>\n",
              "      <td>698.00</td>\n",
              "      <td>7629</td>\n",
              "    </tr>\n",
              "    <tr>\n",
              "      <th>2</th>\n",
              "      <td>VKCO</td>\n",
              "      <td>1</td>\n",
              "      <td>2024-02-01</td>\n",
              "      <td>10:02:00</td>\n",
              "      <td>697.60</td>\n",
              "      <td>697.60</td>\n",
              "      <td>695.80</td>\n",
              "      <td>696.60</td>\n",
              "      <td>5726</td>\n",
              "    </tr>\n",
              "    <tr>\n",
              "      <th>3</th>\n",
              "      <td>VKCO</td>\n",
              "      <td>1</td>\n",
              "      <td>2024-02-01</td>\n",
              "      <td>10:03:00</td>\n",
              "      <td>696.40</td>\n",
              "      <td>696.80</td>\n",
              "      <td>695.80</td>\n",
              "      <td>695.80</td>\n",
              "      <td>3972</td>\n",
              "    </tr>\n",
              "    <tr>\n",
              "      <th>4</th>\n",
              "      <td>VKCO</td>\n",
              "      <td>1</td>\n",
              "      <td>2024-02-01</td>\n",
              "      <td>10:04:00</td>\n",
              "      <td>695.80</td>\n",
              "      <td>696.00</td>\n",
              "      <td>695.00</td>\n",
              "      <td>695.20</td>\n",
              "      <td>5956</td>\n",
              "    </tr>\n",
              "    <tr>\n",
              "      <th>...</th>\n",
              "      <td>...</td>\n",
              "      <td>...</td>\n",
              "      <td>...</td>\n",
              "      <td>...</td>\n",
              "      <td>...</td>\n",
              "      <td>...</td>\n",
              "      <td>...</td>\n",
              "      <td>...</td>\n",
              "      <td>...</td>\n",
              "    </tr>\n",
              "    <tr>\n",
              "      <th>434784</th>\n",
              "      <td>SIBN</td>\n",
              "      <td>1</td>\n",
              "      <td>2024-05-10</td>\n",
              "      <td>23:45:00</td>\n",
              "      <td>751.50</td>\n",
              "      <td>751.55</td>\n",
              "      <td>751.50</td>\n",
              "      <td>751.55</td>\n",
              "      <td>44</td>\n",
              "    </tr>\n",
              "    <tr>\n",
              "      <th>434785</th>\n",
              "      <td>SIBN</td>\n",
              "      <td>1</td>\n",
              "      <td>2024-05-10</td>\n",
              "      <td>23:46:00</td>\n",
              "      <td>751.55</td>\n",
              "      <td>751.70</td>\n",
              "      <td>751.00</td>\n",
              "      <td>751.20</td>\n",
              "      <td>1996</td>\n",
              "    </tr>\n",
              "    <tr>\n",
              "      <th>434786</th>\n",
              "      <td>SIBN</td>\n",
              "      <td>1</td>\n",
              "      <td>2024-05-10</td>\n",
              "      <td>23:47:00</td>\n",
              "      <td>751.20</td>\n",
              "      <td>751.25</td>\n",
              "      <td>751.00</td>\n",
              "      <td>751.00</td>\n",
              "      <td>801</td>\n",
              "    </tr>\n",
              "    <tr>\n",
              "      <th>434787</th>\n",
              "      <td>SIBN</td>\n",
              "      <td>1</td>\n",
              "      <td>2024-05-10</td>\n",
              "      <td>23:48:00</td>\n",
              "      <td>751.00</td>\n",
              "      <td>751.00</td>\n",
              "      <td>750.95</td>\n",
              "      <td>751.00</td>\n",
              "      <td>230</td>\n",
              "    </tr>\n",
              "    <tr>\n",
              "      <th>434788</th>\n",
              "      <td>SIBN</td>\n",
              "      <td>1</td>\n",
              "      <td>2024-05-10</td>\n",
              "      <td>23:49:00</td>\n",
              "      <td>750.95</td>\n",
              "      <td>751.00</td>\n",
              "      <td>750.95</td>\n",
              "      <td>751.00</td>\n",
              "      <td>76</td>\n",
              "    </tr>\n",
              "  </tbody>\n",
              "</table>\n",
              "<p>434789 rows × 9 columns</p>\n",
              "</div>"
            ],
            "text/plain": [
              "       TICKER  PER        DATE      TIME    OPEN    HIGH     LOW   CLOSE   VOL\n",
              "0        VKCO    1  2024-02-01  10:00:00  698.20  698.20  696.20  696.60  7099\n",
              "1        VKCO    1  2024-02-01  10:01:00  696.60  698.00  696.00  698.00  7629\n",
              "2        VKCO    1  2024-02-01  10:02:00  697.60  697.60  695.80  696.60  5726\n",
              "3        VKCO    1  2024-02-01  10:03:00  696.40  696.80  695.80  695.80  3972\n",
              "4        VKCO    1  2024-02-01  10:04:00  695.80  696.00  695.00  695.20  5956\n",
              "...       ...  ...         ...       ...     ...     ...     ...     ...   ...\n",
              "434784   SIBN    1  2024-05-10  23:45:00  751.50  751.55  751.50  751.55    44\n",
              "434785   SIBN    1  2024-05-10  23:46:00  751.55  751.70  751.00  751.20  1996\n",
              "434786   SIBN    1  2024-05-10  23:47:00  751.20  751.25  751.00  751.00   801\n",
              "434787   SIBN    1  2024-05-10  23:48:00  751.00  751.00  750.95  751.00   230\n",
              "434788   SIBN    1  2024-05-10  23:49:00  750.95  751.00  750.95  751.00    76\n",
              "\n",
              "[434789 rows x 9 columns]"
            ]
          },
          "execution_count": 6,
          "metadata": {},
          "output_type": "execute_result"
        }
      ],
      "source": [
        "# вывод тренировочного датафрейма\n",
        "train"
      ]
    },
    {
      "cell_type": "code",
      "execution_count": 7,
      "metadata": {
        "colab": {
          "base_uri": "https://localhost:8080/",
          "height": 424
        },
        "id": "yTacWazWoMIK",
        "outputId": "13bb898f-147d-4527-bd62-7d156a4ce2c7"
      },
      "outputs": [
        {
          "data": {
            "text/html": [
              "<div>\n",
              "<style scoped>\n",
              "    .dataframe tbody tr th:only-of-type {\n",
              "        vertical-align: middle;\n",
              "    }\n",
              "\n",
              "    .dataframe tbody tr th {\n",
              "        vertical-align: top;\n",
              "    }\n",
              "\n",
              "    .dataframe thead th {\n",
              "        text-align: right;\n",
              "    }\n",
              "</style>\n",
              "<table border=\"1\" class=\"dataframe\">\n",
              "  <thead>\n",
              "    <tr style=\"text-align: right;\">\n",
              "      <th></th>\n",
              "      <th>TICKER</th>\n",
              "      <th>DATE</th>\n",
              "      <th>TIME</th>\n",
              "    </tr>\n",
              "  </thead>\n",
              "  <tbody>\n",
              "    <tr>\n",
              "      <th>0</th>\n",
              "      <td>CHMF</td>\n",
              "      <td>2024-06-07</td>\n",
              "      <td>10:00:00</td>\n",
              "    </tr>\n",
              "    <tr>\n",
              "      <th>1</th>\n",
              "      <td>CHMF</td>\n",
              "      <td>2024-06-07</td>\n",
              "      <td>11:00:00</td>\n",
              "    </tr>\n",
              "    <tr>\n",
              "      <th>2</th>\n",
              "      <td>CHMF</td>\n",
              "      <td>2024-06-07</td>\n",
              "      <td>12:00:00</td>\n",
              "    </tr>\n",
              "    <tr>\n",
              "      <th>3</th>\n",
              "      <td>CHMF</td>\n",
              "      <td>2024-06-07</td>\n",
              "      <td>13:00:00</td>\n",
              "    </tr>\n",
              "    <tr>\n",
              "      <th>4</th>\n",
              "      <td>CHMF</td>\n",
              "      <td>2024-06-07</td>\n",
              "      <td>14:00:00</td>\n",
              "    </tr>\n",
              "    <tr>\n",
              "      <th>...</th>\n",
              "      <td>...</td>\n",
              "      <td>...</td>\n",
              "      <td>...</td>\n",
              "    </tr>\n",
              "    <tr>\n",
              "      <th>2125</th>\n",
              "      <td>SBER</td>\n",
              "      <td>2024-06-10</td>\n",
              "      <td>18:00:00</td>\n",
              "    </tr>\n",
              "    <tr>\n",
              "      <th>2126</th>\n",
              "      <td>SBER</td>\n",
              "      <td>2024-06-10</td>\n",
              "      <td>20:00:00</td>\n",
              "    </tr>\n",
              "    <tr>\n",
              "      <th>2127</th>\n",
              "      <td>SBER</td>\n",
              "      <td>2024-06-10</td>\n",
              "      <td>21:00:00</td>\n",
              "    </tr>\n",
              "    <tr>\n",
              "      <th>2128</th>\n",
              "      <td>SBER</td>\n",
              "      <td>2024-06-10</td>\n",
              "      <td>22:00:00</td>\n",
              "    </tr>\n",
              "    <tr>\n",
              "      <th>2129</th>\n",
              "      <td>SBER</td>\n",
              "      <td>2024-06-10</td>\n",
              "      <td>23:00:00</td>\n",
              "    </tr>\n",
              "  </tbody>\n",
              "</table>\n",
              "<p>2130 rows × 3 columns</p>\n",
              "</div>"
            ],
            "text/plain": [
              "     TICKER        DATE      TIME\n",
              "0      CHMF  2024-06-07  10:00:00\n",
              "1      CHMF  2024-06-07  11:00:00\n",
              "2      CHMF  2024-06-07  12:00:00\n",
              "3      CHMF  2024-06-07  13:00:00\n",
              "4      CHMF  2024-06-07  14:00:00\n",
              "...     ...         ...       ...\n",
              "2125   SBER  2024-06-10  18:00:00\n",
              "2126   SBER  2024-06-10  20:00:00\n",
              "2127   SBER  2024-06-10  21:00:00\n",
              "2128   SBER  2024-06-10  22:00:00\n",
              "2129   SBER  2024-06-10  23:00:00\n",
              "\n",
              "[2130 rows x 3 columns]"
            ]
          },
          "execution_count": 7,
          "metadata": {},
          "output_type": "execute_result"
        }
      ],
      "source": [
        "# вывод тестового датафрейма\n",
        "test"
      ]
    },
    {
      "cell_type": "code",
      "execution_count": 8,
      "metadata": {
        "colab": {
          "base_uri": "https://localhost:8080/",
          "height": 424
        },
        "id": "lNtXkSmmoMsC",
        "outputId": "e832a636-10c3-4c60-8819-518a5144a5d6"
      },
      "outputs": [
        {
          "data": {
            "text/html": [
              "<div>\n",
              "<style scoped>\n",
              "    .dataframe tbody tr th:only-of-type {\n",
              "        vertical-align: middle;\n",
              "    }\n",
              "\n",
              "    .dataframe tbody tr th {\n",
              "        vertical-align: top;\n",
              "    }\n",
              "\n",
              "    .dataframe thead th {\n",
              "        text-align: right;\n",
              "    }\n",
              "</style>\n",
              "<table border=\"1\" class=\"dataframe\">\n",
              "  <thead>\n",
              "    <tr style=\"text-align: right;\">\n",
              "      <th></th>\n",
              "      <th>title</th>\n",
              "      <th>created_at</th>\n",
              "      <th>source</th>\n",
              "      <th>url</th>\n",
              "      <th>content</th>\n",
              "    </tr>\n",
              "  </thead>\n",
              "  <tbody>\n",
              "    <tr>\n",
              "      <th>0</th>\n",
              "      <td>ЦБ Армении снизил ставку рефинансирования до 8...</td>\n",
              "      <td>2024-04-30 08:49:25+00:00</td>\n",
              "      <td>TradingView</td>\n",
              "      <td>https:\\/\\/ru.tradingview.com\\/news\\/reuters.co...</td>\n",
              "      <td>Центробанк Армении сообщил во вторник, что сни...</td>\n",
              "    </tr>\n",
              "    <tr>\n",
              "      <th>1</th>\n",
              "      <td>Рынок акций  США закрылся падением, Dow Jones ...</td>\n",
              "      <td>2024-05-23 20:30:00+00:00</td>\n",
              "      <td>Investing</td>\n",
              "      <td>https:\\/\\/ru.investing.com\\/news\\/stock-market...</td>\n",
              "      <td>Investing.com – Фондовый рынок США завершил то...</td>\n",
              "    </tr>\n",
              "    <tr>\n",
              "      <th>2</th>\n",
              "      <td>Активность в промпроизводстве КНР в апр росла ...</td>\n",
              "      <td>2024-04-30 06:43:27+00:00</td>\n",
              "      <td>TradingView</td>\n",
              "      <td>https:\\/\\/ru.tradingview.com\\/news\\/reuters.co...</td>\n",
              "      <td>Активность в промышленном секторе Китая в апре...</td>\n",
              "    </tr>\n",
              "    <tr>\n",
              "      <th>3</th>\n",
              "      <td>Рынок акций  США закрылся ростом, Dow Jones пр...</td>\n",
              "      <td>2024-06-05 20:30:00+00:00</td>\n",
              "      <td>Investing</td>\n",
              "      <td>https:\\/\\/ru.investing.com\\/news\\/stock-market...</td>\n",
              "      <td>Investing.com – Фондовый рынок США завершил то...</td>\n",
              "    </tr>\n",
              "    <tr>\n",
              "      <th>4</th>\n",
              "      <td>Активность в секторе услуг КНР замедлила рост ...</td>\n",
              "      <td>2024-04-30 06:39:27+00:00</td>\n",
              "      <td>TradingView</td>\n",
              "      <td>https:\\/\\/ru.tradingview.com\\/news\\/reuters.co...</td>\n",
              "      <td>Деловая активность в секторе услуг Китая снизи...</td>\n",
              "    </tr>\n",
              "    <tr>\n",
              "      <th>...</th>\n",
              "      <td>...</td>\n",
              "      <td>...</td>\n",
              "      <td>...</td>\n",
              "      <td>...</td>\n",
              "      <td>...</td>\n",
              "    </tr>\n",
              "    <tr>\n",
              "      <th>4146</th>\n",
              "      <td>РФ начала регулярный выкуп алмазов Алросы в го...</td>\n",
              "      <td>2024-03-28 17:29:12+00:00</td>\n",
              "      <td>TradingView</td>\n",
              "      <td>https:\\/\\/ru.tradingview.com\\/news\\/reuters.co...</td>\n",
              "      <td>Российский Минфин подтвердил договоренность о ...</td>\n",
              "    </tr>\n",
              "    <tr>\n",
              "      <th>4147</th>\n",
              "      <td>У FTX остались токены Solana на $7,5 млрд. Кто...</td>\n",
              "      <td>2024-03-28 17:21:42+00:00</td>\n",
              "      <td>TradingView</td>\n",
              "      <td>https:\\/\\/ru.tradingview.com\\/news\\/rbc_crypto...</td>\n",
              "      <td>Покупка 41 млн токенов Solana (SOL) у биржи-ба...</td>\n",
              "    </tr>\n",
              "    <tr>\n",
              "      <th>4148</th>\n",
              "      <td>Покупка этих альткоинов сейчас равносильна пок...</td>\n",
              "      <td>2024-06-08 15:03:24+00:00</td>\n",
              "      <td>Investing</td>\n",
              "      <td>https:\\/\\/ru.investing.com\\/news\\/cryptocurren...</td>\n",
              "      <td>Happycoin.club - Cобытия, которые сейчас проис...</td>\n",
              "    </tr>\n",
              "    <tr>\n",
              "      <th>4149</th>\n",
              "      <td>Золото скорректируется к $2200–2300 за унцию в...</td>\n",
              "      <td>2024-05-20 12:00:00+00:00</td>\n",
              "      <td>Finam</td>\n",
              "      <td>https:\\/\\/www.finam.ru\\/publications\\/item\\/zo...</td>\n",
              "      <td>Торги 17 мая на американских фондовых биржах х...</td>\n",
              "    </tr>\n",
              "    <tr>\n",
              "      <th>4150</th>\n",
              "      <td>Момент для разворота ДКП ЦБ РФ появится не ран...</td>\n",
              "      <td>2024-05-20 11:40:00+00:00</td>\n",
              "      <td>Finam</td>\n",
              "      <td>https:\\/\\/www.finam.ru\\/publications\\/item\\/mo...</td>\n",
              "      <td>Инфляция лишила главных надежд 2024 г. По данн...</td>\n",
              "    </tr>\n",
              "  </tbody>\n",
              "</table>\n",
              "<p>4151 rows × 5 columns</p>\n",
              "</div>"
            ],
            "text/plain": [
              "                                                  title  \\\n",
              "0     ЦБ Армении снизил ставку рефинансирования до 8...   \n",
              "1     Рынок акций  США закрылся падением, Dow Jones ...   \n",
              "2     Активность в промпроизводстве КНР в апр росла ...   \n",
              "3     Рынок акций  США закрылся ростом, Dow Jones пр...   \n",
              "4     Активность в секторе услуг КНР замедлила рост ...   \n",
              "...                                                 ...   \n",
              "4146  РФ начала регулярный выкуп алмазов Алросы в го...   \n",
              "4147  У FTX остались токены Solana на $7,5 млрд. Кто...   \n",
              "4148  Покупка этих альткоинов сейчас равносильна пок...   \n",
              "4149  Золото скорректируется к $2200–2300 за унцию в...   \n",
              "4150  Момент для разворота ДКП ЦБ РФ появится не ран...   \n",
              "\n",
              "                     created_at       source  \\\n",
              "0     2024-04-30 08:49:25+00:00  TradingView   \n",
              "1     2024-05-23 20:30:00+00:00    Investing   \n",
              "2     2024-04-30 06:43:27+00:00  TradingView   \n",
              "3     2024-06-05 20:30:00+00:00    Investing   \n",
              "4     2024-04-30 06:39:27+00:00  TradingView   \n",
              "...                         ...          ...   \n",
              "4146  2024-03-28 17:29:12+00:00  TradingView   \n",
              "4147  2024-03-28 17:21:42+00:00  TradingView   \n",
              "4148  2024-06-08 15:03:24+00:00    Investing   \n",
              "4149  2024-05-20 12:00:00+00:00        Finam   \n",
              "4150  2024-05-20 11:40:00+00:00        Finam   \n",
              "\n",
              "                                                    url  \\\n",
              "0     https:\\/\\/ru.tradingview.com\\/news\\/reuters.co...   \n",
              "1     https:\\/\\/ru.investing.com\\/news\\/stock-market...   \n",
              "2     https:\\/\\/ru.tradingview.com\\/news\\/reuters.co...   \n",
              "3     https:\\/\\/ru.investing.com\\/news\\/stock-market...   \n",
              "4     https:\\/\\/ru.tradingview.com\\/news\\/reuters.co...   \n",
              "...                                                 ...   \n",
              "4146  https:\\/\\/ru.tradingview.com\\/news\\/reuters.co...   \n",
              "4147  https:\\/\\/ru.tradingview.com\\/news\\/rbc_crypto...   \n",
              "4148  https:\\/\\/ru.investing.com\\/news\\/cryptocurren...   \n",
              "4149  https:\\/\\/www.finam.ru\\/publications\\/item\\/zo...   \n",
              "4150  https:\\/\\/www.finam.ru\\/publications\\/item\\/mo...   \n",
              "\n",
              "                                                content  \n",
              "0     Центробанк Армении сообщил во вторник, что сни...  \n",
              "1     Investing.com – Фондовый рынок США завершил то...  \n",
              "2     Активность в промышленном секторе Китая в апре...  \n",
              "3     Investing.com – Фондовый рынок США завершил то...  \n",
              "4     Деловая активность в секторе услуг Китая снизи...  \n",
              "...                                                 ...  \n",
              "4146  Российский Минфин подтвердил договоренность о ...  \n",
              "4147  Покупка 41 млн токенов Solana (SOL) у биржи-ба...  \n",
              "4148  Happycoin.club - Cобытия, которые сейчас проис...  \n",
              "4149  Торги 17 мая на американских фондовых биржах х...  \n",
              "4150  Инфляция лишила главных надежд 2024 г. По данн...  \n",
              "\n",
              "[4151 rows x 5 columns]"
            ]
          },
          "execution_count": 8,
          "metadata": {},
          "output_type": "execute_result"
        }
      ],
      "source": [
        "# вывод датафрейма с новостями\n",
        "news"
      ]
    },
    {
      "cell_type": "markdown",
      "metadata": {},
      "source": [
        "## Разведочный анализ данных"
      ]
    },
    {
      "cell_type": "code",
      "execution_count": 9,
      "metadata": {},
      "outputs": [
        {
          "name": "stdout",
          "output_type": "stream",
          "text": [
            "<class 'pandas.core.frame.DataFrame'>\n",
            "RangeIndex: 434789 entries, 0 to 434788\n",
            "Data columns (total 9 columns):\n",
            " #   Column  Non-Null Count   Dtype  \n",
            "---  ------  --------------   -----  \n",
            " 0   TICKER  434789 non-null  object \n",
            " 1   PER     434789 non-null  int64  \n",
            " 2   DATE    434789 non-null  object \n",
            " 3   TIME    434789 non-null  object \n",
            " 4   OPEN    434789 non-null  float64\n",
            " 5   HIGH    434789 non-null  float64\n",
            " 6   LOW     434789 non-null  float64\n",
            " 7   CLOSE   434789 non-null  float64\n",
            " 8   VOL     434789 non-null  int64  \n",
            "dtypes: float64(4), int64(2), object(3)\n",
            "memory usage: 29.9+ MB\n"
          ]
        }
      ],
      "source": [
        "train.info()# проверка типов данных"
      ]
    },
    {
      "cell_type": "code",
      "execution_count": 10,
      "metadata": {},
      "outputs": [
        {
          "data": {
            "text/plain": [
              "0"
            ]
          },
          "execution_count": 10,
          "metadata": {},
          "output_type": "execute_result"
        }
      ],
      "source": [
        "train.isna().sum().sum() # пропусков не обнаружено"
      ]
    },
    {
      "cell_type": "code",
      "execution_count": 11,
      "metadata": {},
      "outputs": [
        {
          "data": {
            "text/plain": [
              "0"
            ]
          },
          "execution_count": 11,
          "metadata": {},
          "output_type": "execute_result"
        }
      ],
      "source": [
        "train.duplicated().sum() # дубликатов не обнаружено"
      ]
    },
    {
      "cell_type": "code",
      "execution_count": 12,
      "metadata": {},
      "outputs": [
        {
          "data": {
            "text/html": [
              "<div>\n",
              "<style scoped>\n",
              "    .dataframe tbody tr th:only-of-type {\n",
              "        vertical-align: middle;\n",
              "    }\n",
              "\n",
              "    .dataframe tbody tr th {\n",
              "        vertical-align: top;\n",
              "    }\n",
              "\n",
              "    .dataframe thead th {\n",
              "        text-align: right;\n",
              "    }\n",
              "</style>\n",
              "<table border=\"1\" class=\"dataframe\">\n",
              "  <thead>\n",
              "    <tr style=\"text-align: right;\">\n",
              "      <th></th>\n",
              "      <th>PER</th>\n",
              "      <th>OPEN</th>\n",
              "      <th>HIGH</th>\n",
              "      <th>LOW</th>\n",
              "      <th>CLOSE</th>\n",
              "      <th>VOL</th>\n",
              "    </tr>\n",
              "  </thead>\n",
              "  <tbody>\n",
              "    <tr>\n",
              "      <th>count</th>\n",
              "      <td>434789.0</td>\n",
              "      <td>434789.000000</td>\n",
              "      <td>434789.000000</td>\n",
              "      <td>434789.000000</td>\n",
              "      <td>434789.000000</td>\n",
              "      <td>4.347890e+05</td>\n",
              "    </tr>\n",
              "    <tr>\n",
              "      <th>mean</th>\n",
              "      <td>1.0</td>\n",
              "      <td>1575.680011</td>\n",
              "      <td>1576.124076</td>\n",
              "      <td>1575.183374</td>\n",
              "      <td>1575.674370</td>\n",
              "      <td>6.338320e+03</td>\n",
              "    </tr>\n",
              "    <tr>\n",
              "      <th>std</th>\n",
              "      <td>0.0</td>\n",
              "      <td>1334.975535</td>\n",
              "      <td>1335.378412</td>\n",
              "      <td>1334.538765</td>\n",
              "      <td>1334.973512</td>\n",
              "      <td>3.477737e+04</td>\n",
              "    </tr>\n",
              "    <tr>\n",
              "      <th>min</th>\n",
              "      <td>1.0</td>\n",
              "      <td>273.000000</td>\n",
              "      <td>273.300000</td>\n",
              "      <td>272.600000</td>\n",
              "      <td>273.000000</td>\n",
              "      <td>1.000000e+00</td>\n",
              "    </tr>\n",
              "    <tr>\n",
              "      <th>25%</th>\n",
              "      <td>1.0</td>\n",
              "      <td>318.950000</td>\n",
              "      <td>319.050000</td>\n",
              "      <td>318.850000</td>\n",
              "      <td>318.950000</td>\n",
              "      <td>9.500000e+01</td>\n",
              "    </tr>\n",
              "    <tr>\n",
              "      <th>50%</th>\n",
              "      <td>1.0</td>\n",
              "      <td>834.400000</td>\n",
              "      <td>834.550000</td>\n",
              "      <td>834.200000</td>\n",
              "      <td>834.400000</td>\n",
              "      <td>4.940000e+02</td>\n",
              "    </tr>\n",
              "    <tr>\n",
              "      <th>75%</th>\n",
              "      <td>1.0</td>\n",
              "      <td>1957.000000</td>\n",
              "      <td>1957.200000</td>\n",
              "      <td>1956.800000</td>\n",
              "      <td>1957.000000</td>\n",
              "      <td>2.391000e+03</td>\n",
              "    </tr>\n",
              "    <tr>\n",
              "      <th>max</th>\n",
              "      <td>1.0</td>\n",
              "      <td>4386.600000</td>\n",
              "      <td>4390.000000</td>\n",
              "      <td>4385.800000</td>\n",
              "      <td>4386.600000</td>\n",
              "      <td>8.002170e+06</td>\n",
              "    </tr>\n",
              "  </tbody>\n",
              "</table>\n",
              "</div>"
            ],
            "text/plain": [
              "            PER           OPEN           HIGH            LOW          CLOSE  \\\n",
              "count  434789.0  434789.000000  434789.000000  434789.000000  434789.000000   \n",
              "mean        1.0    1575.680011    1576.124076    1575.183374    1575.674370   \n",
              "std         0.0    1334.975535    1335.378412    1334.538765    1334.973512   \n",
              "min         1.0     273.000000     273.300000     272.600000     273.000000   \n",
              "25%         1.0     318.950000     319.050000     318.850000     318.950000   \n",
              "50%         1.0     834.400000     834.550000     834.200000     834.400000   \n",
              "75%         1.0    1957.000000    1957.200000    1956.800000    1957.000000   \n",
              "max         1.0    4386.600000    4390.000000    4385.800000    4386.600000   \n",
              "\n",
              "                VOL  \n",
              "count  4.347890e+05  \n",
              "mean   6.338320e+03  \n",
              "std    3.477737e+04  \n",
              "min    1.000000e+00  \n",
              "25%    9.500000e+01  \n",
              "50%    4.940000e+02  \n",
              "75%    2.391000e+03  \n",
              "max    8.002170e+06  "
            ]
          },
          "execution_count": 12,
          "metadata": {},
          "output_type": "execute_result"
        }
      ],
      "source": [
        "train.describe() # Статистический анализ"
      ]
    },
    {
      "cell_type": "markdown",
      "metadata": {},
      "source": [
        "### Визуализация данных"
      ]
    },
    {
      "cell_type": "code",
      "execution_count": 51,
      "metadata": {},
      "outputs": [
        {
          "data": {
            "image/png": "[encoded data removed]",
            "text/plain": [
              "<Figure size 1000x600 with 1 Axes>"
            ]
          },
          "metadata": {},
          "output_type": "display_data"
        }
      ],
      "source": [
        "#построим график зависимости количества акций от компаний\n",
        "\n",
        "# Считаем количество акций от каждой компании\n",
        "source_counts = train['TICKER'].value_counts().reset_index()\n",
        "source_counts.columns = ['TICKER', 'count']\n",
        "\n",
        "# Строим график с использованием seaborn\n",
        "plt.figure(figsize=(10, 6))\n",
        "sns.barplot(x='TICKER', y='count', data=source_counts, palette='viridis')\n",
        "plt.xlabel('Компания')\n",
        "plt.ylabel('Количество акций')\n",
        "plt.title('Количество акций от компаний')\n",
        "plt.xticks(rotation=45)  # Поворот меток на оси X для лучшей читаемости\n",
        "plt.show()"
      ]
    },
    {
      "cell_type": "code",
      "execution_count": 13,
      "metadata": {},
      "outputs": [
        {
          "data": {
            "image/png": "[encoded data removed]",
            "text/plain": [
              "<Figure size 1000x600 with 1 Axes>"
            ]
          },
          "metadata": {},
          "output_type": "display_data"
        }
      ],
      "source": [
        "#построим график зависимости количества новостей от источника\n",
        "\n",
        "# Считаем количество новостей от каждого источника\n",
        "source_counts = news['source'].value_counts().reset_index()\n",
        "source_counts.columns = ['source', 'count']\n",
        "\n",
        "# Строим график с использованием seaborn\n",
        "plt.figure(figsize=(10, 6))\n",
        "sns.barplot(x='source', y='count', data=source_counts, palette='viridis')\n",
        "plt.xlabel('Источник')\n",
        "plt.ylabel('Количество новостей')\n",
        "plt.title('Количество новостей от источников')\n",
        "plt.xticks(rotation=45)  # Поворот меток на оси X для лучшей читаемости\n",
        "plt.show()"
      ]
    },
    {
      "cell_type": "markdown",
      "metadata": {},
      "source": [
        "### Обработка данных"
      ]
    },
    {
      "cell_type": "code",
      "execution_count": 14,
      "metadata": {
        "id": "h6yGltrdoNEp"
      },
      "outputs": [],
      "source": [
        "# Объединение DATE и TIME в один столбец для удобства\n",
        "train['DATETIME'] = pd.to_datetime(train['DATE'] + ' ' + train['TIME'])\n",
        "news['created_at'] = pd.to_datetime(news['created_at'])"
      ]
    },
    {
      "cell_type": "code",
      "execution_count": 15,
      "metadata": {},
      "outputs": [],
      "source": [
        "# Округлим колонку с датой и временем в датасетах до часов\n",
        "train['DATETIME'] = train['DATETIME'].dt.round('H')\n",
        "news['created_at'] = news['created_at'].dt.round('H').dt.tz_localize(None)"
      ]
    },
    {
      "cell_type": "code",
      "execution_count": 16,
      "metadata": {
        "colab": {
          "base_uri": "https://localhost:8080/",
          "height": 424
        },
        "id": "aGTdypJYoOpC",
        "outputId": "f9325047-f3fd-4b63-cd3b-a4360660ef33"
      },
      "outputs": [
        {
          "data": {
            "text/html": [
              "<div>\n",
              "<style scoped>\n",
              "    .dataframe tbody tr th:only-of-type {\n",
              "        vertical-align: middle;\n",
              "    }\n",
              "\n",
              "    .dataframe tbody tr th {\n",
              "        vertical-align: top;\n",
              "    }\n",
              "\n",
              "    .dataframe thead th {\n",
              "        text-align: right;\n",
              "    }\n",
              "</style>\n",
              "<table border=\"1\" class=\"dataframe\">\n",
              "  <thead>\n",
              "    <tr style=\"text-align: right;\">\n",
              "      <th></th>\n",
              "      <th>TICKER</th>\n",
              "      <th>PER</th>\n",
              "      <th>DATE</th>\n",
              "      <th>TIME</th>\n",
              "      <th>OPEN</th>\n",
              "      <th>HIGH</th>\n",
              "      <th>LOW</th>\n",
              "      <th>CLOSE</th>\n",
              "      <th>VOL</th>\n",
              "      <th>DATETIME</th>\n",
              "    </tr>\n",
              "  </thead>\n",
              "  <tbody>\n",
              "    <tr>\n",
              "      <th>0</th>\n",
              "      <td>VKCO</td>\n",
              "      <td>1</td>\n",
              "      <td>2024-02-01</td>\n",
              "      <td>10:00:00</td>\n",
              "      <td>698.20</td>\n",
              "      <td>698.20</td>\n",
              "      <td>696.20</td>\n",
              "      <td>696.60</td>\n",
              "      <td>7099</td>\n",
              "      <td>2024-02-01 10:00:00</td>\n",
              "    </tr>\n",
              "    <tr>\n",
              "      <th>1</th>\n",
              "      <td>VKCO</td>\n",
              "      <td>1</td>\n",
              "      <td>2024-02-01</td>\n",
              "      <td>10:01:00</td>\n",
              "      <td>696.60</td>\n",
              "      <td>698.00</td>\n",
              "      <td>696.00</td>\n",
              "      <td>698.00</td>\n",
              "      <td>7629</td>\n",
              "      <td>2024-02-01 10:00:00</td>\n",
              "    </tr>\n",
              "    <tr>\n",
              "      <th>2</th>\n",
              "      <td>VKCO</td>\n",
              "      <td>1</td>\n",
              "      <td>2024-02-01</td>\n",
              "      <td>10:02:00</td>\n",
              "      <td>697.60</td>\n",
              "      <td>697.60</td>\n",
              "      <td>695.80</td>\n",
              "      <td>696.60</td>\n",
              "      <td>5726</td>\n",
              "      <td>2024-02-01 10:00:00</td>\n",
              "    </tr>\n",
              "    <tr>\n",
              "      <th>3</th>\n",
              "      <td>VKCO</td>\n",
              "      <td>1</td>\n",
              "      <td>2024-02-01</td>\n",
              "      <td>10:03:00</td>\n",
              "      <td>696.40</td>\n",
              "      <td>696.80</td>\n",
              "      <td>695.80</td>\n",
              "      <td>695.80</td>\n",
              "      <td>3972</td>\n",
              "      <td>2024-02-01 10:00:00</td>\n",
              "    </tr>\n",
              "    <tr>\n",
              "      <th>4</th>\n",
              "      <td>VKCO</td>\n",
              "      <td>1</td>\n",
              "      <td>2024-02-01</td>\n",
              "      <td>10:04:00</td>\n",
              "      <td>695.80</td>\n",
              "      <td>696.00</td>\n",
              "      <td>695.00</td>\n",
              "      <td>695.20</td>\n",
              "      <td>5956</td>\n",
              "      <td>2024-02-01 10:00:00</td>\n",
              "    </tr>\n",
              "    <tr>\n",
              "      <th>...</th>\n",
              "      <td>...</td>\n",
              "      <td>...</td>\n",
              "      <td>...</td>\n",
              "      <td>...</td>\n",
              "      <td>...</td>\n",
              "      <td>...</td>\n",
              "      <td>...</td>\n",
              "      <td>...</td>\n",
              "      <td>...</td>\n",
              "      <td>...</td>\n",
              "    </tr>\n",
              "    <tr>\n",
              "      <th>434784</th>\n",
              "      <td>SIBN</td>\n",
              "      <td>1</td>\n",
              "      <td>2024-05-10</td>\n",
              "      <td>23:45:00</td>\n",
              "      <td>751.50</td>\n",
              "      <td>751.55</td>\n",
              "      <td>751.50</td>\n",
              "      <td>751.55</td>\n",
              "      <td>44</td>\n",
              "      <td>2024-05-11 00:00:00</td>\n",
              "    </tr>\n",
              "    <tr>\n",
              "      <th>434785</th>\n",
              "      <td>SIBN</td>\n",
              "      <td>1</td>\n",
              "      <td>2024-05-10</td>\n",
              "      <td>23:46:00</td>\n",
              "      <td>751.55</td>\n",
              "      <td>751.70</td>\n",
              "      <td>751.00</td>\n",
              "      <td>751.20</td>\n",
              "      <td>1996</td>\n",
              "      <td>2024-05-11 00:00:00</td>\n",
              "    </tr>\n",
              "    <tr>\n",
              "      <th>434786</th>\n",
              "      <td>SIBN</td>\n",
              "      <td>1</td>\n",
              "      <td>2024-05-10</td>\n",
              "      <td>23:47:00</td>\n",
              "      <td>751.20</td>\n",
              "      <td>751.25</td>\n",
              "      <td>751.00</td>\n",
              "      <td>751.00</td>\n",
              "      <td>801</td>\n",
              "      <td>2024-05-11 00:00:00</td>\n",
              "    </tr>\n",
              "    <tr>\n",
              "      <th>434787</th>\n",
              "      <td>SIBN</td>\n",
              "      <td>1</td>\n",
              "      <td>2024-05-10</td>\n",
              "      <td>23:48:00</td>\n",
              "      <td>751.00</td>\n",
              "      <td>751.00</td>\n",
              "      <td>750.95</td>\n",
              "      <td>751.00</td>\n",
              "      <td>230</td>\n",
              "      <td>2024-05-11 00:00:00</td>\n",
              "    </tr>\n",
              "    <tr>\n",
              "      <th>434788</th>\n",
              "      <td>SIBN</td>\n",
              "      <td>1</td>\n",
              "      <td>2024-05-10</td>\n",
              "      <td>23:49:00</td>\n",
              "      <td>750.95</td>\n",
              "      <td>751.00</td>\n",
              "      <td>750.95</td>\n",
              "      <td>751.00</td>\n",
              "      <td>76</td>\n",
              "      <td>2024-05-11 00:00:00</td>\n",
              "    </tr>\n",
              "  </tbody>\n",
              "</table>\n",
              "<p>434789 rows × 10 columns</p>\n",
              "</div>"
            ],
            "text/plain": [
              "       TICKER  PER        DATE      TIME    OPEN    HIGH     LOW   CLOSE  \\\n",
              "0        VKCO    1  2024-02-01  10:00:00  698.20  698.20  696.20  696.60   \n",
              "1        VKCO    1  2024-02-01  10:01:00  696.60  698.00  696.00  698.00   \n",
              "2        VKCO    1  2024-02-01  10:02:00  697.60  697.60  695.80  696.60   \n",
              "3        VKCO    1  2024-02-01  10:03:00  696.40  696.80  695.80  695.80   \n",
              "4        VKCO    1  2024-02-01  10:04:00  695.80  696.00  695.00  695.20   \n",
              "...       ...  ...         ...       ...     ...     ...     ...     ...   \n",
              "434784   SIBN    1  2024-05-10  23:45:00  751.50  751.55  751.50  751.55   \n",
              "434785   SIBN    1  2024-05-10  23:46:00  751.55  751.70  751.00  751.20   \n",
              "434786   SIBN    1  2024-05-10  23:47:00  751.20  751.25  751.00  751.00   \n",
              "434787   SIBN    1  2024-05-10  23:48:00  751.00  751.00  750.95  751.00   \n",
              "434788   SIBN    1  2024-05-10  23:49:00  750.95  751.00  750.95  751.00   \n",
              "\n",
              "         VOL            DATETIME  \n",
              "0       7099 2024-02-01 10:00:00  \n",
              "1       7629 2024-02-01 10:00:00  \n",
              "2       5726 2024-02-01 10:00:00  \n",
              "3       3972 2024-02-01 10:00:00  \n",
              "4       5956 2024-02-01 10:00:00  \n",
              "...      ...                 ...  \n",
              "434784    44 2024-05-11 00:00:00  \n",
              "434785  1996 2024-05-11 00:00:00  \n",
              "434786   801 2024-05-11 00:00:00  \n",
              "434787   230 2024-05-11 00:00:00  \n",
              "434788    76 2024-05-11 00:00:00  \n",
              "\n",
              "[434789 rows x 10 columns]"
            ]
          },
          "execution_count": 16,
          "metadata": {},
          "output_type": "execute_result"
        }
      ],
      "source": [
        "# вывод тренировочного датафрейма\n",
        "train"
      ]
    },
    {
      "cell_type": "code",
      "execution_count": 17,
      "metadata": {
        "colab": {
          "base_uri": "https://localhost:8080/",
          "height": 424
        },
        "id": "cwRLvnGgoQJa",
        "outputId": "9df75758-e9bb-4af1-c672-eb58c69144bb"
      },
      "outputs": [
        {
          "data": {
            "text/html": [
              "<div>\n",
              "<style scoped>\n",
              "    .dataframe tbody tr th:only-of-type {\n",
              "        vertical-align: middle;\n",
              "    }\n",
              "\n",
              "    .dataframe tbody tr th {\n",
              "        vertical-align: top;\n",
              "    }\n",
              "\n",
              "    .dataframe thead th {\n",
              "        text-align: right;\n",
              "    }\n",
              "</style>\n",
              "<table border=\"1\" class=\"dataframe\">\n",
              "  <thead>\n",
              "    <tr style=\"text-align: right;\">\n",
              "      <th></th>\n",
              "      <th>title</th>\n",
              "      <th>created_at</th>\n",
              "      <th>source</th>\n",
              "      <th>url</th>\n",
              "      <th>content</th>\n",
              "    </tr>\n",
              "  </thead>\n",
              "  <tbody>\n",
              "    <tr>\n",
              "      <th>0</th>\n",
              "      <td>ЦБ Армении снизил ставку рефинансирования до 8...</td>\n",
              "      <td>2024-04-30 09:00:00</td>\n",
              "      <td>TradingView</td>\n",
              "      <td>https:\\/\\/ru.tradingview.com\\/news\\/reuters.co...</td>\n",
              "      <td>Центробанк Армении сообщил во вторник, что сни...</td>\n",
              "    </tr>\n",
              "    <tr>\n",
              "      <th>1</th>\n",
              "      <td>Рынок акций  США закрылся падением, Dow Jones ...</td>\n",
              "      <td>2024-05-23 20:00:00</td>\n",
              "      <td>Investing</td>\n",
              "      <td>https:\\/\\/ru.investing.com\\/news\\/stock-market...</td>\n",
              "      <td>Investing.com – Фондовый рынок США завершил то...</td>\n",
              "    </tr>\n",
              "    <tr>\n",
              "      <th>2</th>\n",
              "      <td>Активность в промпроизводстве КНР в апр росла ...</td>\n",
              "      <td>2024-04-30 07:00:00</td>\n",
              "      <td>TradingView</td>\n",
              "      <td>https:\\/\\/ru.tradingview.com\\/news\\/reuters.co...</td>\n",
              "      <td>Активность в промышленном секторе Китая в апре...</td>\n",
              "    </tr>\n",
              "    <tr>\n",
              "      <th>3</th>\n",
              "      <td>Рынок акций  США закрылся ростом, Dow Jones пр...</td>\n",
              "      <td>2024-06-05 20:00:00</td>\n",
              "      <td>Investing</td>\n",
              "      <td>https:\\/\\/ru.investing.com\\/news\\/stock-market...</td>\n",
              "      <td>Investing.com – Фондовый рынок США завершил то...</td>\n",
              "    </tr>\n",
              "    <tr>\n",
              "      <th>4</th>\n",
              "      <td>Активность в секторе услуг КНР замедлила рост ...</td>\n",
              "      <td>2024-04-30 07:00:00</td>\n",
              "      <td>TradingView</td>\n",
              "      <td>https:\\/\\/ru.tradingview.com\\/news\\/reuters.co...</td>\n",
              "      <td>Деловая активность в секторе услуг Китая снизи...</td>\n",
              "    </tr>\n",
              "    <tr>\n",
              "      <th>...</th>\n",
              "      <td>...</td>\n",
              "      <td>...</td>\n",
              "      <td>...</td>\n",
              "      <td>...</td>\n",
              "      <td>...</td>\n",
              "    </tr>\n",
              "    <tr>\n",
              "      <th>4146</th>\n",
              "      <td>РФ начала регулярный выкуп алмазов Алросы в го...</td>\n",
              "      <td>2024-03-28 17:00:00</td>\n",
              "      <td>TradingView</td>\n",
              "      <td>https:\\/\\/ru.tradingview.com\\/news\\/reuters.co...</td>\n",
              "      <td>Российский Минфин подтвердил договоренность о ...</td>\n",
              "    </tr>\n",
              "    <tr>\n",
              "      <th>4147</th>\n",
              "      <td>У FTX остались токены Solana на $7,5 млрд. Кто...</td>\n",
              "      <td>2024-03-28 17:00:00</td>\n",
              "      <td>TradingView</td>\n",
              "      <td>https:\\/\\/ru.tradingview.com\\/news\\/rbc_crypto...</td>\n",
              "      <td>Покупка 41 млн токенов Solana (SOL) у биржи-ба...</td>\n",
              "    </tr>\n",
              "    <tr>\n",
              "      <th>4148</th>\n",
              "      <td>Покупка этих альткоинов сейчас равносильна пок...</td>\n",
              "      <td>2024-06-08 15:00:00</td>\n",
              "      <td>Investing</td>\n",
              "      <td>https:\\/\\/ru.investing.com\\/news\\/cryptocurren...</td>\n",
              "      <td>Happycoin.club - Cобытия, которые сейчас проис...</td>\n",
              "    </tr>\n",
              "    <tr>\n",
              "      <th>4149</th>\n",
              "      <td>Золото скорректируется к $2200–2300 за унцию в...</td>\n",
              "      <td>2024-05-20 12:00:00</td>\n",
              "      <td>Finam</td>\n",
              "      <td>https:\\/\\/www.finam.ru\\/publications\\/item\\/zo...</td>\n",
              "      <td>Торги 17 мая на американских фондовых биржах х...</td>\n",
              "    </tr>\n",
              "    <tr>\n",
              "      <th>4150</th>\n",
              "      <td>Момент для разворота ДКП ЦБ РФ появится не ран...</td>\n",
              "      <td>2024-05-20 12:00:00</td>\n",
              "      <td>Finam</td>\n",
              "      <td>https:\\/\\/www.finam.ru\\/publications\\/item\\/mo...</td>\n",
              "      <td>Инфляция лишила главных надежд 2024 г. По данн...</td>\n",
              "    </tr>\n",
              "  </tbody>\n",
              "</table>\n",
              "<p>4151 rows × 5 columns</p>\n",
              "</div>"
            ],
            "text/plain": [
              "                                                  title          created_at  \\\n",
              "0     ЦБ Армении снизил ставку рефинансирования до 8... 2024-04-30 09:00:00   \n",
              "1     Рынок акций  США закрылся падением, Dow Jones ... 2024-05-23 20:00:00   \n",
              "2     Активность в промпроизводстве КНР в апр росла ... 2024-04-30 07:00:00   \n",
              "3     Рынок акций  США закрылся ростом, Dow Jones пр... 2024-06-05 20:00:00   \n",
              "4     Активность в секторе услуг КНР замедлила рост ... 2024-04-30 07:00:00   \n",
              "...                                                 ...                 ...   \n",
              "4146  РФ начала регулярный выкуп алмазов Алросы в го... 2024-03-28 17:00:00   \n",
              "4147  У FTX остались токены Solana на $7,5 млрд. Кто... 2024-03-28 17:00:00   \n",
              "4148  Покупка этих альткоинов сейчас равносильна пок... 2024-06-08 15:00:00   \n",
              "4149  Золото скорректируется к $2200–2300 за унцию в... 2024-05-20 12:00:00   \n",
              "4150  Момент для разворота ДКП ЦБ РФ появится не ран... 2024-05-20 12:00:00   \n",
              "\n",
              "           source                                                url  \\\n",
              "0     TradingView  https:\\/\\/ru.tradingview.com\\/news\\/reuters.co...   \n",
              "1       Investing  https:\\/\\/ru.investing.com\\/news\\/stock-market...   \n",
              "2     TradingView  https:\\/\\/ru.tradingview.com\\/news\\/reuters.co...   \n",
              "3       Investing  https:\\/\\/ru.investing.com\\/news\\/stock-market...   \n",
              "4     TradingView  https:\\/\\/ru.tradingview.com\\/news\\/reuters.co...   \n",
              "...           ...                                                ...   \n",
              "4146  TradingView  https:\\/\\/ru.tradingview.com\\/news\\/reuters.co...   \n",
              "4147  TradingView  https:\\/\\/ru.tradingview.com\\/news\\/rbc_crypto...   \n",
              "4148    Investing  https:\\/\\/ru.investing.com\\/news\\/cryptocurren...   \n",
              "4149        Finam  https:\\/\\/www.finam.ru\\/publications\\/item\\/zo...   \n",
              "4150        Finam  https:\\/\\/www.finam.ru\\/publications\\/item\\/mo...   \n",
              "\n",
              "                                                content  \n",
              "0     Центробанк Армении сообщил во вторник, что сни...  \n",
              "1     Investing.com – Фондовый рынок США завершил то...  \n",
              "2     Активность в промышленном секторе Китая в апре...  \n",
              "3     Investing.com – Фондовый рынок США завершил то...  \n",
              "4     Деловая активность в секторе услуг Китая снизи...  \n",
              "...                                                 ...  \n",
              "4146  Российский Минфин подтвердил договоренность о ...  \n",
              "4147  Покупка 41 млн токенов Solana (SOL) у биржи-ба...  \n",
              "4148  Happycoin.club - Cобытия, которые сейчас проис...  \n",
              "4149  Торги 17 мая на американских фондовых биржах х...  \n",
              "4150  Инфляция лишила главных надежд 2024 г. По данн...  \n",
              "\n",
              "[4151 rows x 5 columns]"
            ]
          },
          "execution_count": 17,
          "metadata": {},
          "output_type": "execute_result"
        }
      ],
      "source": [
        "# вывод датафрейма с новостями\n",
        "news"
      ]
    },
    {
      "cell_type": "code",
      "execution_count": 18,
      "metadata": {
        "id": "uzRdEn7VoSHc"
      },
      "outputs": [],
      "source": [
        "# Векторизируем новости\n",
        "vectorizer = TfidfVectorizer(max_features=100, max_df=0.7)\n",
        "X_news = vectorizer.fit_transform(news['content']).toarray()"
      ]
    },
    {
      "cell_type": "code",
      "execution_count": 19,
      "metadata": {
        "colab": {
          "base_uri": "https://localhost:8080/"
        },
        "id": "q797NeWIotI7",
        "outputId": "51fb18c9-a82c-41b8-f047-485e645c6c8a"
      },
      "outputs": [
        {
          "data": {
            "text/plain": [
              "array([[0.        , 0.        , 0.        , ..., 0.        , 0.        ,\n",
              "        0.        ],\n",
              "       [0.03535508, 0.03817808, 0.08432938, ..., 0.        , 0.        ,\n",
              "        0.        ],\n",
              "       [0.        , 0.        , 0.        , ..., 0.        , 0.        ,\n",
              "        0.        ],\n",
              "       ...,\n",
              "       [0.19930805, 0.        , 0.        , ..., 0.11195484, 0.05291574,\n",
              "        0.        ],\n",
              "       [0.        , 0.15521539, 0.        , ..., 0.06055526, 0.05724319,\n",
              "        0.14923479],\n",
              "       [0.06779994, 0.        , 0.        , ..., 0.05712663, 0.05400209,\n",
              "        0.        ]])"
            ]
          },
          "execution_count": 19,
          "metadata": {},
          "output_type": "execute_result"
        }
      ],
      "source": [
        "# вывод векторизированных новостей\n",
        "X_news"
      ]
    },
    {
      "cell_type": "code",
      "execution_count": 20,
      "metadata": {
        "id": "rbtXXxzooXvX"
      },
      "outputs": [],
      "source": [
        "# Создание признаков на основе новостей\n",
        "def create_features_from_news(train_data, news_data):\n",
        "    news_data['DATETIME'] = pd.to_datetime(news_data['created_at'])#.dt.time\n",
        "    news_count = news_data.groupby('DATETIME').count()['title'].reset_index()\n",
        "    news_count.columns = ['DATETIME', 'NEWS_COUNT']\n",
        "\n",
        "    train_data = pd.merge(train_data, news_count, how='left', on='DATETIME')\n",
        "\n",
        "    # Заполнение пропущенных значений\n",
        "    train_data['NEWS_COUNT'].fillna(0, inplace=True)\n",
        "\n",
        "    return train_data"
      ]
    },
    {
      "cell_type": "code",
      "execution_count": 21,
      "metadata": {
        "id": "GPBNtF7woape"
      },
      "outputs": [],
      "source": [
        "# применение функции\n",
        "train = create_features_from_news(train, news)"
      ]
    },
    {
      "cell_type": "code",
      "execution_count": 22,
      "metadata": {},
      "outputs": [
        {
          "data": {
            "text/html": [
              "<div>\n",
              "<style scoped>\n",
              "    .dataframe tbody tr th:only-of-type {\n",
              "        vertical-align: middle;\n",
              "    }\n",
              "\n",
              "    .dataframe tbody tr th {\n",
              "        vertical-align: top;\n",
              "    }\n",
              "\n",
              "    .dataframe thead th {\n",
              "        text-align: right;\n",
              "    }\n",
              "</style>\n",
              "<table border=\"1\" class=\"dataframe\">\n",
              "  <thead>\n",
              "    <tr style=\"text-align: right;\">\n",
              "      <th></th>\n",
              "      <th>TICKER</th>\n",
              "      <th>PER</th>\n",
              "      <th>DATE</th>\n",
              "      <th>TIME</th>\n",
              "      <th>OPEN</th>\n",
              "      <th>HIGH</th>\n",
              "      <th>LOW</th>\n",
              "      <th>CLOSE</th>\n",
              "      <th>VOL</th>\n",
              "      <th>DATETIME</th>\n",
              "      <th>NEWS_COUNT</th>\n",
              "    </tr>\n",
              "  </thead>\n",
              "  <tbody>\n",
              "    <tr>\n",
              "      <th>0</th>\n",
              "      <td>VKCO</td>\n",
              "      <td>1</td>\n",
              "      <td>2024-02-01</td>\n",
              "      <td>10:00:00</td>\n",
              "      <td>698.20</td>\n",
              "      <td>698.20</td>\n",
              "      <td>696.20</td>\n",
              "      <td>696.60</td>\n",
              "      <td>7099</td>\n",
              "      <td>2024-02-01 10:00:00</td>\n",
              "      <td>0.0</td>\n",
              "    </tr>\n",
              "    <tr>\n",
              "      <th>1</th>\n",
              "      <td>VKCO</td>\n",
              "      <td>1</td>\n",
              "      <td>2024-02-01</td>\n",
              "      <td>10:01:00</td>\n",
              "      <td>696.60</td>\n",
              "      <td>698.00</td>\n",
              "      <td>696.00</td>\n",
              "      <td>698.00</td>\n",
              "      <td>7629</td>\n",
              "      <td>2024-02-01 10:00:00</td>\n",
              "      <td>0.0</td>\n",
              "    </tr>\n",
              "    <tr>\n",
              "      <th>2</th>\n",
              "      <td>VKCO</td>\n",
              "      <td>1</td>\n",
              "      <td>2024-02-01</td>\n",
              "      <td>10:02:00</td>\n",
              "      <td>697.60</td>\n",
              "      <td>697.60</td>\n",
              "      <td>695.80</td>\n",
              "      <td>696.60</td>\n",
              "      <td>5726</td>\n",
              "      <td>2024-02-01 10:00:00</td>\n",
              "      <td>0.0</td>\n",
              "    </tr>\n",
              "    <tr>\n",
              "      <th>3</th>\n",
              "      <td>VKCO</td>\n",
              "      <td>1</td>\n",
              "      <td>2024-02-01</td>\n",
              "      <td>10:03:00</td>\n",
              "      <td>696.40</td>\n",
              "      <td>696.80</td>\n",
              "      <td>695.80</td>\n",
              "      <td>695.80</td>\n",
              "      <td>3972</td>\n",
              "      <td>2024-02-01 10:00:00</td>\n",
              "      <td>0.0</td>\n",
              "    </tr>\n",
              "    <tr>\n",
              "      <th>4</th>\n",
              "      <td>VKCO</td>\n",
              "      <td>1</td>\n",
              "      <td>2024-02-01</td>\n",
              "      <td>10:04:00</td>\n",
              "      <td>695.80</td>\n",
              "      <td>696.00</td>\n",
              "      <td>695.00</td>\n",
              "      <td>695.20</td>\n",
              "      <td>5956</td>\n",
              "      <td>2024-02-01 10:00:00</td>\n",
              "      <td>0.0</td>\n",
              "    </tr>\n",
              "    <tr>\n",
              "      <th>...</th>\n",
              "      <td>...</td>\n",
              "      <td>...</td>\n",
              "      <td>...</td>\n",
              "      <td>...</td>\n",
              "      <td>...</td>\n",
              "      <td>...</td>\n",
              "      <td>...</td>\n",
              "      <td>...</td>\n",
              "      <td>...</td>\n",
              "      <td>...</td>\n",
              "      <td>...</td>\n",
              "    </tr>\n",
              "    <tr>\n",
              "      <th>434784</th>\n",
              "      <td>SIBN</td>\n",
              "      <td>1</td>\n",
              "      <td>2024-05-10</td>\n",
              "      <td>23:45:00</td>\n",
              "      <td>751.50</td>\n",
              "      <td>751.55</td>\n",
              "      <td>751.50</td>\n",
              "      <td>751.55</td>\n",
              "      <td>44</td>\n",
              "      <td>2024-05-11 00:00:00</td>\n",
              "      <td>0.0</td>\n",
              "    </tr>\n",
              "    <tr>\n",
              "      <th>434785</th>\n",
              "      <td>SIBN</td>\n",
              "      <td>1</td>\n",
              "      <td>2024-05-10</td>\n",
              "      <td>23:46:00</td>\n",
              "      <td>751.55</td>\n",
              "      <td>751.70</td>\n",
              "      <td>751.00</td>\n",
              "      <td>751.20</td>\n",
              "      <td>1996</td>\n",
              "      <td>2024-05-11 00:00:00</td>\n",
              "      <td>0.0</td>\n",
              "    </tr>\n",
              "    <tr>\n",
              "      <th>434786</th>\n",
              "      <td>SIBN</td>\n",
              "      <td>1</td>\n",
              "      <td>2024-05-10</td>\n",
              "      <td>23:47:00</td>\n",
              "      <td>751.20</td>\n",
              "      <td>751.25</td>\n",
              "      <td>751.00</td>\n",
              "      <td>751.00</td>\n",
              "      <td>801</td>\n",
              "      <td>2024-05-11 00:00:00</td>\n",
              "      <td>0.0</td>\n",
              "    </tr>\n",
              "    <tr>\n",
              "      <th>434787</th>\n",
              "      <td>SIBN</td>\n",
              "      <td>1</td>\n",
              "      <td>2024-05-10</td>\n",
              "      <td>23:48:00</td>\n",
              "      <td>751.00</td>\n",
              "      <td>751.00</td>\n",
              "      <td>750.95</td>\n",
              "      <td>751.00</td>\n",
              "      <td>230</td>\n",
              "      <td>2024-05-11 00:00:00</td>\n",
              "      <td>0.0</td>\n",
              "    </tr>\n",
              "    <tr>\n",
              "      <th>434788</th>\n",
              "      <td>SIBN</td>\n",
              "      <td>1</td>\n",
              "      <td>2024-05-10</td>\n",
              "      <td>23:49:00</td>\n",
              "      <td>750.95</td>\n",
              "      <td>751.00</td>\n",
              "      <td>750.95</td>\n",
              "      <td>751.00</td>\n",
              "      <td>76</td>\n",
              "      <td>2024-05-11 00:00:00</td>\n",
              "      <td>0.0</td>\n",
              "    </tr>\n",
              "  </tbody>\n",
              "</table>\n",
              "<p>434789 rows × 11 columns</p>\n",
              "</div>"
            ],
            "text/plain": [
              "       TICKER  PER        DATE      TIME    OPEN    HIGH     LOW   CLOSE  \\\n",
              "0        VKCO    1  2024-02-01  10:00:00  698.20  698.20  696.20  696.60   \n",
              "1        VKCO    1  2024-02-01  10:01:00  696.60  698.00  696.00  698.00   \n",
              "2        VKCO    1  2024-02-01  10:02:00  697.60  697.60  695.80  696.60   \n",
              "3        VKCO    1  2024-02-01  10:03:00  696.40  696.80  695.80  695.80   \n",
              "4        VKCO    1  2024-02-01  10:04:00  695.80  696.00  695.00  695.20   \n",
              "...       ...  ...         ...       ...     ...     ...     ...     ...   \n",
              "434784   SIBN    1  2024-05-10  23:45:00  751.50  751.55  751.50  751.55   \n",
              "434785   SIBN    1  2024-05-10  23:46:00  751.55  751.70  751.00  751.20   \n",
              "434786   SIBN    1  2024-05-10  23:47:00  751.20  751.25  751.00  751.00   \n",
              "434787   SIBN    1  2024-05-10  23:48:00  751.00  751.00  750.95  751.00   \n",
              "434788   SIBN    1  2024-05-10  23:49:00  750.95  751.00  750.95  751.00   \n",
              "\n",
              "         VOL            DATETIME  NEWS_COUNT  \n",
              "0       7099 2024-02-01 10:00:00         0.0  \n",
              "1       7629 2024-02-01 10:00:00         0.0  \n",
              "2       5726 2024-02-01 10:00:00         0.0  \n",
              "3       3972 2024-02-01 10:00:00         0.0  \n",
              "4       5956 2024-02-01 10:00:00         0.0  \n",
              "...      ...                 ...         ...  \n",
              "434784    44 2024-05-11 00:00:00         0.0  \n",
              "434785  1996 2024-05-11 00:00:00         0.0  \n",
              "434786   801 2024-05-11 00:00:00         0.0  \n",
              "434787   230 2024-05-11 00:00:00         0.0  \n",
              "434788    76 2024-05-11 00:00:00         0.0  \n",
              "\n",
              "[434789 rows x 11 columns]"
            ]
          },
          "execution_count": 22,
          "metadata": {},
          "output_type": "execute_result"
        }
      ],
      "source": [
        "# вывод тренировочного датафрейма\n",
        "train"
      ]
    },
    {
      "cell_type": "code",
      "execution_count": 23,
      "metadata": {
        "colab": {
          "base_uri": "https://localhost:8080/",
          "height": 424
        },
        "id": "HUjHzP_poe3b",
        "outputId": "10e6e0cd-0f48-4a15-f1db-34bb4e9c41bb"
      },
      "outputs": [
        {
          "data": {
            "text/plain": [
              "701876.0"
            ]
          },
          "execution_count": 23,
          "metadata": {},
          "output_type": "execute_result"
        }
      ],
      "source": [
        "# Проверим работоспособность функции в тренировочном датафрейме\n",
        "train[\"NEWS_COUNT\"].sum()"
      ]
    },
    {
      "cell_type": "markdown",
      "metadata": {},
      "source": [
        "## Подготовка данных для обучения модели"
      ]
    },
    {
      "cell_type": "code",
      "execution_count": 24,
      "metadata": {
        "id": "uUvu6vF_oe7T"
      },
      "outputs": [],
      "source": [
        "# Разделение на X и Y , удаление ненужных данных\n",
        "X = train[['OPEN', 'HIGH', 'LOW', 'VOL', 'NEWS_COUNT']].values\n",
        "y = train['CLOSE'].values"
      ]
    },
    {
      "cell_type": "code",
      "execution_count": 25,
      "metadata": {
        "colab": {
          "base_uri": "https://localhost:8080/"
        },
        "id": "g5EltSizow_E",
        "outputId": "d519c02c-d31a-4e71-a867-e04790f10d8d"
      },
      "outputs": [
        {
          "data": {
            "text/plain": [
              "array([[ 698.2 ,  698.2 ,  696.2 , 7099.  ,    0.  ],\n",
              "       [ 696.6 ,  698.  ,  696.  , 7629.  ,    0.  ],\n",
              "       [ 697.6 ,  697.6 ,  695.8 , 5726.  ,    0.  ],\n",
              "       ...,\n",
              "       [ 751.2 ,  751.25,  751.  ,  801.  ,    0.  ],\n",
              "       [ 751.  ,  751.  ,  750.95,  230.  ,    0.  ],\n",
              "       [ 750.95,  751.  ,  750.95,   76.  ,    0.  ]])"
            ]
          },
          "execution_count": 25,
          "metadata": {},
          "output_type": "execute_result"
        }
      ],
      "source": [
        "# вывод основных признаков\n",
        "X"
      ]
    },
    {
      "cell_type": "code",
      "execution_count": 26,
      "metadata": {
        "colab": {
          "base_uri": "https://localhost:8080/"
        },
        "id": "US_vi23Wox0y",
        "outputId": "60306816-0432-41d0-f24f-d3422f03eb12"
      },
      "outputs": [
        {
          "data": {
            "text/plain": [
              "array([696.6, 698. , 696.6, ..., 751. , 751. , 751. ])"
            ]
          },
          "execution_count": 26,
          "metadata": {},
          "output_type": "execute_result"
        }
      ],
      "source": [
        "# вывод целевого признака\n",
        "y"
      ]
    },
    {
      "cell_type": "code",
      "execution_count": 27,
      "metadata": {
        "id": "QHOIVvrsoyEl"
      },
      "outputs": [],
      "source": [
        "# Разделяем данные на обучающую и валидационную выборку\n",
        "X_train, X_val, y_train, y_val = train_test_split(X, y, test_size=0.2, random_state=42)"
      ]
    },
    {
      "cell_type": "code",
      "execution_count": 28,
      "metadata": {},
      "outputs": [
        {
          "data": {
            "text/plain": [
              "array([[3592. , 3595. , 3591.5,   81. ,    8. ],\n",
              "       [1880. , 1880. , 1880. ,    5. ,    0. ],\n",
              "       [3438. , 3439.5, 3438. ,   68. ,    0. ],\n",
              "       ...,\n",
              "       [3511.4, 3511.6, 3508. ,  750. ,    0. ],\n",
              "       [3992.8, 3992.8, 3990.4,  196. ,    0. ],\n",
              "       [3302.8, 3303. , 3300.6,  760. ,    0. ]])"
            ]
          },
          "execution_count": 28,
          "metadata": {},
          "output_type": "execute_result"
        }
      ],
      "source": [
        "# проверимм корректность выполнения функции \"train_test_split\"\n",
        "X_train"
      ]
    },
    {
      "cell_type": "markdown",
      "metadata": {},
      "source": [
        "## Разработка модели"
      ]
    },
    {
      "cell_type": "markdown",
      "metadata": {},
      "source": [
        "### CatBoostRegressor"
      ]
    },
    {
      "cell_type": "code",
      "execution_count": 29,
      "metadata": {},
      "outputs": [
        {
          "name": "stderr",
          "output_type": "stream",
          "text": [
            "Default metric period is 5 because MAE is/are not implemented for GPU\n"
          ]
        },
        {
          "name": "stdout",
          "output_type": "stream",
          "text": [
            "0:\tlearn: 1117.5514546\ttest: 1115.5386278\tbest: 1115.5386278 (0)\ttotal: 81ms\tremaining: 1m 37s\n",
            "200:\tlearn: 1052.5525327\ttest: 1050.6921502\tbest: 1050.6921502 (200)\ttotal: 1.99s\tremaining: 9.88s\n",
            "400:\tlearn: 991.4606116\ttest: 989.7398744\tbest: 989.7398744 (400)\ttotal: 3.86s\tremaining: 7.69s\n",
            "600:\tlearn: 933.8944487\ttest: 932.3047908\tbest: 932.3047908 (600)\ttotal: 5.67s\tremaining: 5.65s\n",
            "800:\tlearn: 879.6527509\ttest: 878.1870788\tbest: 878.1870788 (800)\ttotal: 7.73s\tremaining: 3.85s\n",
            "1000:\tlearn: 828.6051560\ttest: 827.2432209\tbest: 827.2432209 (1000)\ttotal: 9.7s\tremaining: 1.93s\n",
            "1199:\tlearn: 780.7715356\ttest: 779.4961246\tbest: 779.4961246 (1199)\ttotal: 11.6s\tremaining: 0us\n",
            "bestTest = 779.4961246\n",
            "bestIteration = 1199\n"
          ]
        },
        {
          "data": {
            "text/plain": [
              "<catboost.core.CatBoostRegressor at 0x1de9f4a0c90>"
            ]
          },
          "execution_count": 29,
          "metadata": {},
          "output_type": "execute_result"
        }
      ],
      "source": [
        "# Разработаем базовую модель машинного обучения на основе алгоритма \"CatBoost\"\n",
        "clf = CatBoostRegressor(\n",
        "    eval_metric = 'MAE',\n",
        "    depth=9,\n",
        "    l2_leaf_reg=2,\n",
        "    task_type = 'GPU',\n",
        "    iterations=1200,\n",
        "    learning_rate=3e-4,\n",
        ")\n",
        "clf.fit(X_train,y_train, eval_set=(X_val,y_val), verbose=200)"
      ]
    },
    {
      "cell_type": "code",
      "execution_count": 30,
      "metadata": {},
      "outputs": [],
      "source": [
        "y_pred =  clf.predict(X_val)# предсказываем валидационную выборку    "
      ]
    },
    {
      "cell_type": "code",
      "execution_count": 31,
      "metadata": {},
      "outputs": [
        {
          "name": "stdout",
          "output_type": "stream",
          "text": [
            "779.4959438075313 868367.6389406631 0.5117619038110007\n"
          ]
        }
      ],
      "source": [
        "#Проведем оценку модели\n",
        "mae = mean_absolute_error(y_val, y_pred)\n",
        "mse = mean_squared_error(y_val, y_pred)\n",
        "r2 = r2_score(y_val, y_pred)\n",
        "print(mae,mse,r2)"
      ]
    },
    {
      "cell_type": "markdown",
      "metadata": {},
      "source": [
        "По метрикам видно , что модели машинного обучения плохо подходят для решения данной задачи, попробуем использовать нейросеть для решения данной задачи "
      ]
    },
    {
      "cell_type": "markdown",
      "metadata": {},
      "source": [
        "## Создание и обучение итоговой модели"
      ]
    },
    {
      "cell_type": "markdown",
      "metadata": {},
      "source": [
        "Архитектура \"LSTM\" специально разработана для обработки данных временных рядов с использованием ячеек памяти, которые сохраняют информацию в течение продолжительных периодов времени. Всвязи с этим мы будем использовать данную архитектуру для решения данной задачи "
      ]
    },
    {
      "cell_type": "code",
      "execution_count": 32,
      "metadata": {},
      "outputs": [],
      "source": [
        "# Изменим размерность для корректной работы модели с архитектурой \"LSTM\"\n",
        "X_train = X_train.reshape((X_train.shape[0], 1, X_train.shape[1]))\n",
        "X_val = X_val.reshape((X_val.shape[0], 1, X_val.shape[1]))"
      ]
    },
    {
      "cell_type": "code",
      "execution_count": 33,
      "metadata": {
        "colab": {
          "base_uri": "https://localhost:8080/"
        },
        "id": "NRpb7WKRo1MN",
        "outputId": "524e3f5f-a544-4e1f-f0cf-3fd52c0b4de0"
      },
      "outputs": [],
      "source": [
        "# Иницилизируем модель\n",
        "model = Sequential()\n",
        "model.add(LSTM(50, activation='relu', input_shape=(X_train.shape[1], X_train.shape[2])))\n",
        "model.add(Dropout(0.2))\n",
        "model.add(Dense(1))\n",
        "model.compile(optimizer='adam', loss='mse')"
      ]
    },
    {
      "cell_type": "code",
      "execution_count": 34,
      "metadata": {},
      "outputs": [],
      "source": [
        "# Сохранение наилучшей модели\n",
        "callbacks = [\n",
        "    keras.callbacks.ModelCheckpoint(\n",
        "        filepath='mymodel.keras',\n",
        "        # Путь по которому нужно сохранить модель\n",
        "        # Два параметра ниже значат что мы перезапишем\n",
        "        # текущий чекпоинт в том и только в том случае, когда\n",
        "        # улучится значение `val_loss`.\n",
        "        save_best_only=True,\n",
        "        monitor='val_loss',\n",
        "        verbose=100)\n",
        "]"
      ]
    },
    {
      "cell_type": "code",
      "execution_count": 35,
      "metadata": {
        "colab": {
          "base_uri": "https://localhost:8080/"
        },
        "id": "bU4LKfOVo4Ey",
        "outputId": "6e6e7ae4-69c6-4b3f-96ab-e454b694e3dd"
      },
      "outputs": [
        {
          "name": "stdout",
          "output_type": "stream",
          "text": [
            "Epoch 1/10\n",
            "\u001b[1m5422/5435\u001b[0m \u001b[32m━━━━━━━━━━━━━━━━━━━\u001b[0m\u001b[37m━\u001b[0m \u001b[1m0s\u001b[0m 839us/step - loss: 473757.3438\n",
            "Epoch 1: val_loss improved from inf to 10341.94824, saving model to mymodel.keras\n",
            "\u001b[1m5435/5435\u001b[0m \u001b[32m━━━━━━━━━━━━━━━━━━━━\u001b[0m\u001b[37m\u001b[0m \u001b[1m7s\u001b[0m 993us/step - loss: 473068.4375 - val_loss: 10341.9482\n",
            "Epoch 2/10\n",
            "\u001b[1m5417/5435\u001b[0m \u001b[32m━━━━━━━━━━━━━━━━━━━\u001b[0m\u001b[37m━\u001b[0m \u001b[1m0s\u001b[0m 878us/step - loss: 119883.6094\n",
            "Epoch 2: val_loss improved from 10341.94824 to 5278.80713, saving model to mymodel.keras\n",
            "\u001b[1m5435/5435\u001b[0m \u001b[32m━━━━━━━━━━━━━━━━━━━━\u001b[0m\u001b[37m\u001b[0m \u001b[1m6s\u001b[0m 1ms/step - loss: 119882.0938 - val_loss: 5278.8071\n",
            "Epoch 3/10\n",
            "\u001b[1m5382/5435\u001b[0m \u001b[32m━━━━━━━━━━━━━━━━━━━\u001b[0m\u001b[37m━\u001b[0m \u001b[1m0s\u001b[0m 903us/step - loss: 116607.1953\n",
            "Epoch 3: val_loss improved from 5278.80713 to 3102.03345, saving model to mymodel.keras\n",
            "\u001b[1m5435/5435\u001b[0m \u001b[32m━━━━━━━━━━━━━━━━━━━━\u001b[0m\u001b[37m\u001b[0m \u001b[1m6s\u001b[0m 1ms/step - loss: 116613.0625 - val_loss: 3102.0334\n",
            "Epoch 4/10\n",
            "\u001b[1m5389/5435\u001b[0m \u001b[32m━━━━━━━━━━━━━━━━━━━\u001b[0m\u001b[37m━\u001b[0m \u001b[1m0s\u001b[0m 837us/step - loss: 118204.9375\n",
            "Epoch 4: val_loss did not improve from 3102.03345\n",
            "\u001b[1m5435/5435\u001b[0m \u001b[32m━━━━━━━━━━━━━━━━━━━━\u001b[0m\u001b[37m\u001b[0m \u001b[1m5s\u001b[0m 969us/step - loss: 118196.1953 - val_loss: 13381.3076\n",
            "Epoch 5/10\n",
            "\u001b[1m5421/5435\u001b[0m \u001b[32m━━━━━━━━━━━━━━━━━━━\u001b[0m\u001b[37m━\u001b[0m \u001b[1m0s\u001b[0m 840us/step - loss: 116309.1094\n",
            "Epoch 5: val_loss did not improve from 3102.03345\n",
            "\u001b[1m5435/5435\u001b[0m \u001b[32m━━━━━━━━━━━━━━━━━━━━\u001b[0m\u001b[37m\u001b[0m \u001b[1m5s\u001b[0m 985us/step - loss: 116308.8906 - val_loss: 3461.6123\n",
            "Epoch 6/10\n",
            "\u001b[1m5400/5435\u001b[0m \u001b[32m━━━━━━━━━━━━━━━━━━━\u001b[0m\u001b[37m━\u001b[0m \u001b[1m0s\u001b[0m 947us/step - loss: 115564.2812\n",
            "Epoch 6: val_loss improved from 3102.03345 to 2132.32153, saving model to mymodel.keras\n",
            "\u001b[1m5435/5435\u001b[0m \u001b[32m━━━━━━━━━━━━━━━━━━━━\u001b[0m\u001b[37m\u001b[0m \u001b[1m6s\u001b[0m 1ms/step - loss: 115560.5859 - val_loss: 2132.3215\n",
            "Epoch 7/10\n",
            "\u001b[1m5427/5435\u001b[0m \u001b[32m━━━━━━━━━━━━━━━━━━━\u001b[0m\u001b[37m━\u001b[0m \u001b[1m0s\u001b[0m 837us/step - loss: 117012.8359\n",
            "Epoch 7: val_loss did not improve from 2132.32153\n",
            "\u001b[1m5435/5435\u001b[0m \u001b[32m━━━━━━━━━━━━━━━━━━━━\u001b[0m\u001b[37m\u001b[0m \u001b[1m5s\u001b[0m 961us/step - loss: 117012.2812 - val_loss: 6467.8271\n",
            "Epoch 8/10\n",
            "\u001b[1m5389/5435\u001b[0m \u001b[32m━━━━━━━━━━━━━━━━━━━\u001b[0m\u001b[37m━\u001b[0m \u001b[1m0s\u001b[0m 882us/step - loss: 116530.9297\n",
            "Epoch 8: val_loss did not improve from 2132.32153\n",
            "\u001b[1m5435/5435\u001b[0m \u001b[32m━━━━━━━━━━━━━━━━━━━━\u001b[0m\u001b[37m\u001b[0m \u001b[1m6s\u001b[0m 1ms/step - loss: 116515.9453 - val_loss: 5423.2842\n",
            "Epoch 9/10\n",
            "\u001b[1m5395/5435\u001b[0m \u001b[32m━━━━━━━━━━━━━━━━━━━\u001b[0m\u001b[37m━\u001b[0m \u001b[1m0s\u001b[0m 871us/step - loss: 114733.3359\n",
            "Epoch 9: val_loss did not improve from 2132.32153\n",
            "\u001b[1m5435/5435\u001b[0m \u001b[32m━━━━━━━━━━━━━━━━━━━━\u001b[0m\u001b[37m\u001b[0m \u001b[1m5s\u001b[0m 995us/step - loss: 114736.6094 - val_loss: 2703.6199\n",
            "Epoch 10/10\n",
            "\u001b[1m5383/5435\u001b[0m \u001b[32m━━━━━━━━━━━━━━━━━━━\u001b[0m\u001b[37m━\u001b[0m \u001b[1m0s\u001b[0m 872us/step - loss: 114508.0859\n",
            "Epoch 10: val_loss did not improve from 2132.32153\n",
            "\u001b[1m5435/5435\u001b[0m \u001b[32m━━━━━━━━━━━━━━━━━━━━\u001b[0m\u001b[37m\u001b[0m \u001b[1m5s\u001b[0m 1ms/step - loss: 114508.5938 - val_loss: 3525.3281\n"
          ]
        },
        {
          "data": {
            "text/plain": [
              "<keras.src.callbacks.history.History at 0x1dea2aeb5d0>"
            ]
          },
          "execution_count": 35,
          "metadata": {},
          "output_type": "execute_result"
        }
      ],
      "source": [
        "# Обучим модель\n",
        "model.fit(X_train, y_train, epochs=10, batch_size=64, callbacks=callbacks, validation_data=(X_val, y_val))"
      ]
    },
    {
      "cell_type": "code",
      "execution_count": 36,
      "metadata": {},
      "outputs": [],
      "source": [
        "# Загрузка лучшей модели\n",
        "model2 = keras.models.load_model('mymodel.keras')"
      ]
    },
    {
      "cell_type": "markdown",
      "metadata": {},
      "source": [
        "### Оценка качества модели"
      ]
    },
    {
      "cell_type": "code",
      "execution_count": 37,
      "metadata": {},
      "outputs": [
        {
          "name": "stdout",
          "output_type": "stream",
          "text": [
            "\u001b[1m2718/2718\u001b[0m \u001b[32m━━━━━━━━━━━━━━━━━━━━\u001b[0m\u001b[37m\u001b[0m \u001b[1m2s\u001b[0m 702us/step\n"
          ]
        }
      ],
      "source": [
        "y_pred =  model2.predict(X_val) # предсказываем валидационную выборку    "
      ]
    },
    {
      "cell_type": "code",
      "execution_count": 38,
      "metadata": {},
      "outputs": [
        {
          "name": "stdout",
          "output_type": "stream",
          "text": [
            "30.664320856345856 2132.3213748164494 0.9988011062575137\n"
          ]
        }
      ],
      "source": [
        "# Проведем оценку модели\n",
        "mae = mean_absolute_error(y_val, y_pred)\n",
        "mse = mean_squared_error(y_val, y_pred)\n",
        "r2 = r2_score(y_val, y_pred)\n",
        "print(mae,mse,r2)"
      ]
    },
    {
      "cell_type": "markdown",
      "metadata": {},
      "source": [
        "В целом, результат хороший, особенно с учетом высокого R² = 0.998. Всвязи с этим будем продолжать использовать архитектуру \"LSTM\" для решения данной задачи. Но проведем подбор основных гиперпараметров с помощью \"KerasTuner\"."
      ]
    },
    {
      "cell_type": "markdown",
      "metadata": {},
      "source": [
        "## Проверка гипотезы"
      ]
    },
    {
      "cell_type": "markdown",
      "metadata": {},
      "source": [
        "В качестве гипотезы рассмотрим обучение нейронной сети без использования новостей. Посмтрим на результаты и оценим насколько гипотеза была оправдана."
      ]
    },
    {
      "cell_type": "code",
      "execution_count": 39,
      "metadata": {},
      "outputs": [],
      "source": [
        "# Разделение на X и Y , удаление ненужных данных\n",
        "X_gip = train[['OPEN', 'HIGH', 'LOW', 'VOL']].values\n",
        "y_gip = train['CLOSE'].values"
      ]
    },
    {
      "cell_type": "code",
      "execution_count": 40,
      "metadata": {},
      "outputs": [
        {
          "data": {
            "text/plain": [
              "array([[ 698.2 ,  698.2 ,  696.2 , 7099.  ],\n",
              "       [ 696.6 ,  698.  ,  696.  , 7629.  ],\n",
              "       [ 697.6 ,  697.6 ,  695.8 , 5726.  ],\n",
              "       ...,\n",
              "       [ 751.2 ,  751.25,  751.  ,  801.  ],\n",
              "       [ 751.  ,  751.  ,  750.95,  230.  ],\n",
              "       [ 750.95,  751.  ,  750.95,   76.  ]])"
            ]
          },
          "execution_count": 40,
          "metadata": {},
          "output_type": "execute_result"
        }
      ],
      "source": [
        "# вывод основных признаков\n",
        "X_gip"
      ]
    },
    {
      "cell_type": "code",
      "execution_count": 41,
      "metadata": {},
      "outputs": [
        {
          "data": {
            "text/plain": [
              "array([696.6, 698. , 696.6, ..., 751. , 751. , 751. ])"
            ]
          },
          "execution_count": 41,
          "metadata": {},
          "output_type": "execute_result"
        }
      ],
      "source": [
        "# вывод целевого признака\n",
        "y_gip"
      ]
    },
    {
      "cell_type": "code",
      "execution_count": 42,
      "metadata": {},
      "outputs": [],
      "source": [
        "# Разделяем данные на обучающую и валидационную выборку\n",
        "X_train_gip, X_val_gip, y_train_gip, y_val_gip = train_test_split(X_gip, y_gip, test_size=0.2, random_state=42)"
      ]
    },
    {
      "cell_type": "code",
      "execution_count": 43,
      "metadata": {},
      "outputs": [
        {
          "data": {
            "text/plain": [
              "array([[3592. , 3595. , 3591.5,   81. ],\n",
              "       [1880. , 1880. , 1880. ,    5. ],\n",
              "       [3438. , 3439.5, 3438. ,   68. ],\n",
              "       ...,\n",
              "       [3511.4, 3511.6, 3508. ,  750. ],\n",
              "       [3992.8, 3992.8, 3990.4,  196. ],\n",
              "       [3302.8, 3303. , 3300.6,  760. ]])"
            ]
          },
          "execution_count": 43,
          "metadata": {},
          "output_type": "execute_result"
        }
      ],
      "source": [
        "# проверимм корректность выполнения функции \"train_test_split\"\n",
        "X_train_gip"
      ]
    },
    {
      "cell_type": "code",
      "execution_count": 44,
      "metadata": {},
      "outputs": [],
      "source": [
        "# Изменим размерность для корректной работы модели с архитектурой \"LSTM\"\n",
        "X_train_gip = X_train_gip.reshape((X_train_gip.shape[0], 1, X_train_gip.shape[1]))\n",
        "X_val_gip = X_val_gip.reshape((X_val_gip.shape[0], 1, X_val_gip.shape[1]))"
      ]
    },
    {
      "cell_type": "code",
      "execution_count": 45,
      "metadata": {},
      "outputs": [],
      "source": [
        "# Иницилизируем модель\n",
        "model_gip = Sequential()\n",
        "model_gip.add(LSTM(50, activation='relu', input_shape=(X_train_gip.shape[1], X_train_gip.shape[2])))\n",
        "model_gip.add(Dropout(0.2))\n",
        "model_gip.add(Dense(1))\n",
        "model_gip.compile(optimizer='adam', loss='mse')"
      ]
    },
    {
      "cell_type": "code",
      "execution_count": 46,
      "metadata": {},
      "outputs": [],
      "source": [
        "# Сохранение наилучшей модели\n",
        "callbacks_gip = [\n",
        "    keras.callbacks.ModelCheckpoint(\n",
        "        filepath='mymodel_gip.keras',\n",
        "        # Путь по которому нужно сохранить модель\n",
        "        # Два параметра ниже значат что мы перезапишем\n",
        "        # текущий чекпоинт в том и только в том случае, когда\n",
        "        # улучится значение `val_loss`.\n",
        "        save_best_only=True,\n",
        "        monitor='val_loss',\n",
        "        verbose=100)\n",
        "]"
      ]
    },
    {
      "cell_type": "code",
      "execution_count": 47,
      "metadata": {},
      "outputs": [
        {
          "name": "stdout",
          "output_type": "stream",
          "text": [
            "Epoch 1/10\n",
            "\u001b[1m5395/5435\u001b[0m \u001b[32m━━━━━━━━━━━━━━━━━━━\u001b[0m\u001b[37m━\u001b[0m \u001b[1m0s\u001b[0m 872us/step - loss: 431357.1562\n",
            "Epoch 1: val_loss improved from inf to 15323.85449, saving model to mymodel_gip.keras\n",
            "\u001b[1m5435/5435\u001b[0m \u001b[32m━━━━━━━━━━━━━━━━━━━━\u001b[0m\u001b[37m\u001b[0m \u001b[1m7s\u001b[0m 1ms/step - loss: 429526.8750 - val_loss: 15323.8545\n",
            "Epoch 2/10\n",
            "\u001b[1m5417/5435\u001b[0m \u001b[32m━━━━━━━━━━━━━━━━━━━\u001b[0m\u001b[37m━\u001b[0m \u001b[1m0s\u001b[0m 859us/step - loss: 99055.7422\n",
            "Epoch 2: val_loss improved from 15323.85449 to 4920.47559, saving model to mymodel_gip.keras\n",
            "\u001b[1m5435/5435\u001b[0m \u001b[32m━━━━━━━━━━━━━━━━━━━━\u001b[0m\u001b[37m\u001b[0m \u001b[1m5s\u001b[0m 985us/step - loss: 99057.8438 - val_loss: 4920.4756\n",
            "Epoch 3/10\n",
            "\u001b[1m5379/5435\u001b[0m \u001b[32m━━━━━━━━━━━━━━━━━━━\u001b[0m\u001b[37m━\u001b[0m \u001b[1m0s\u001b[0m 837us/step - loss: 98005.9609\n",
            "Epoch 3: val_loss did not improve from 4920.47559\n",
            "\u001b[1m5435/5435\u001b[0m \u001b[32m━━━━━━━━━━━━━━━━━━━━\u001b[0m\u001b[37m\u001b[0m \u001b[1m5s\u001b[0m 963us/step - loss: 97990.8438 - val_loss: 4933.3252\n",
            "Epoch 4/10\n",
            "\u001b[1m5394/5435\u001b[0m \u001b[32m━━━━━━━━━━━━━━━━━━━\u001b[0m\u001b[37m━\u001b[0m \u001b[1m0s\u001b[0m 872us/step - loss: 88258.2188\n",
            "Epoch 4: val_loss improved from 4920.47559 to 2220.45776, saving model to mymodel_gip.keras\n",
            "\u001b[1m5435/5435\u001b[0m \u001b[32m━━━━━━━━━━━━━━━━━━━━\u001b[0m\u001b[37m\u001b[0m \u001b[1m5s\u001b[0m 1ms/step - loss: 88254.5078 - val_loss: 2220.4578\n",
            "Epoch 5/10\n",
            "\u001b[1m5403/5435\u001b[0m \u001b[32m━━━━━━━━━━━━━━━━━━━\u001b[0m\u001b[37m━\u001b[0m \u001b[1m0s\u001b[0m 928us/step - loss: 82298.0469\n",
            "Epoch 5: val_loss did not improve from 2220.45776\n",
            "\u001b[1m5435/5435\u001b[0m \u001b[32m━━━━━━━━━━━━━━━━━━━━\u001b[0m\u001b[37m\u001b[0m \u001b[1m6s\u001b[0m 1ms/step - loss: 82298.0234 - val_loss: 3194.4307\n",
            "Epoch 6/10\n",
            "\u001b[1m5404/5435\u001b[0m \u001b[32m━━━━━━━━━━━━━━━━━━━\u001b[0m\u001b[37m━\u001b[0m \u001b[1m0s\u001b[0m 908us/step - loss: 82673.5391\n",
            "Epoch 6: val_loss did not improve from 2220.45776\n",
            "\u001b[1m5435/5435\u001b[0m \u001b[32m━━━━━━━━━━━━━━━━━━━━\u001b[0m\u001b[37m\u001b[0m \u001b[1m6s\u001b[0m 1ms/step - loss: 82674.0781 - val_loss: 2911.9893\n",
            "Epoch 7/10\n",
            "\u001b[1m5428/5435\u001b[0m \u001b[32m━━━━━━━━━━━━━━━━━━━\u001b[0m\u001b[37m━\u001b[0m \u001b[1m0s\u001b[0m 1ms/step - loss: 81333.1172\n",
            "Epoch 7: val_loss did not improve from 2220.45776\n",
            "\u001b[1m5435/5435\u001b[0m \u001b[32m━━━━━━━━━━━━━━━━━━━━\u001b[0m\u001b[37m\u001b[0m \u001b[1m6s\u001b[0m 1ms/step - loss: 81333.7266 - val_loss: 4245.1577\n",
            "Epoch 8/10\n",
            "\u001b[1m5434/5435\u001b[0m \u001b[32m━━━━━━━━━━━━━━━━━━━\u001b[0m\u001b[37m━\u001b[0m \u001b[1m0s\u001b[0m 978us/step - loss: 81241.0547\n",
            "Epoch 8: val_loss did not improve from 2220.45776\n",
            "\u001b[1m5435/5435\u001b[0m \u001b[32m━━━━━━━━━━━━━━━━━━━━\u001b[0m\u001b[37m\u001b[0m \u001b[1m6s\u001b[0m 1ms/step - loss: 81240.6719 - val_loss: 3618.5310\n",
            "Epoch 9/10\n",
            "\u001b[1m5420/5435\u001b[0m \u001b[32m━━━━━━━━━━━━━━━━━━━\u001b[0m\u001b[37m━\u001b[0m \u001b[1m0s\u001b[0m 840us/step - loss: 81134.1328\n",
            "Epoch 9: val_loss did not improve from 2220.45776\n",
            "\u001b[1m5435/5435\u001b[0m \u001b[32m━━━━━━━━━━━━━━━━━━━━\u001b[0m\u001b[37m\u001b[0m \u001b[1m5s\u001b[0m 967us/step - loss: 81133.7891 - val_loss: 3590.8469\n",
            "Epoch 10/10\n",
            "\u001b[1m5406/5435\u001b[0m \u001b[32m━━━━━━━━━━━━━━━━━━━\u001b[0m\u001b[37m━\u001b[0m \u001b[1m0s\u001b[0m 918us/step - loss: 80944.5156\n",
            "Epoch 10: val_loss did not improve from 2220.45776\n",
            "\u001b[1m5435/5435\u001b[0m \u001b[32m━━━━━━━━━━━━━━━━━━━━\u001b[0m\u001b[37m\u001b[0m \u001b[1m6s\u001b[0m 1ms/step - loss: 80942.8984 - val_loss: 4744.6338\n"
          ]
        },
        {
          "data": {
            "text/plain": [
              "<keras.src.callbacks.history.History at 0x1de9e17a710>"
            ]
          },
          "execution_count": 47,
          "metadata": {},
          "output_type": "execute_result"
        }
      ],
      "source": [
        "# Обучим модель\n",
        "model_gip.fit(X_train_gip, y_train_gip, epochs=10, batch_size=64, callbacks=callbacks_gip, validation_data=(X_val_gip, y_val_gip))"
      ]
    },
    {
      "cell_type": "code",
      "execution_count": 48,
      "metadata": {},
      "outputs": [],
      "source": [
        "# Загрузка лучшей модели\n",
        "model_gip = keras.models.load_model('mymodel_gip.keras')"
      ]
    },
    {
      "cell_type": "code",
      "execution_count": 49,
      "metadata": {},
      "outputs": [
        {
          "name": "stdout",
          "output_type": "stream",
          "text": [
            "\u001b[1m2718/2718\u001b[0m \u001b[32m━━━━━━━━━━━━━━━━━━━━\u001b[0m\u001b[37m\u001b[0m \u001b[1m2s\u001b[0m 605us/step\n"
          ]
        }
      ],
      "source": [
        "y_pred_gip =  model_gip.predict(X_val_gip) # предсказываем валидационную выборку    "
      ]
    },
    {
      "cell_type": "code",
      "execution_count": 50,
      "metadata": {},
      "outputs": [
        {
          "name": "stdout",
          "output_type": "stream",
          "text": [
            "26.091076464924885 2220.457077777153 0.9987515521218112\n"
          ]
        }
      ],
      "source": [
        "# Проведем оценку модели\n",
        "mae = mean_absolute_error(y_val_gip, y_pred_gip)\n",
        "mse = mean_squared_error(y_val_gip, y_pred_gip)\n",
        "r2 = r2_score(y_val_gip, y_pred_gip)\n",
        "print(mae,mse,r2)"
      ]
    },
    {
      "cell_type": "markdown",
      "metadata": {},
      "source": [
        "По метрикам по окончанию обучения мы видим, что результат без использования новостей получился хуже, следовательно гипотеза не опрадала себя."
      ]
    },
    {
      "cell_type": "markdown",
      "metadata": {},
      "source": [
        "## Подбор Гиперпараметров"
      ]
    },
    {
      "cell_type": "markdown",
      "metadata": {},
      "source": [
        "ReLU может улучшить скорость обучения и бороться с затухающим градиентом, особенно на больших данных."
      ]
    },
    {
      "cell_type": "code",
      "execution_count": 48,
      "metadata": {},
      "outputs": [
        {
          "name": "stdout",
          "output_type": "stream",
          "text": [
            "Trial 26 Complete [00h 00m 36s]\n",
            "val_loss: 38984.9609375\n",
            "\n",
            "Best val_loss So Far: 450.6872863769531\n",
            "Total elapsed time: 00h 07m 18s\n"
          ]
        }
      ],
      "source": [
        "# Проведём обучение нейронной сети с подбором гиперпараметров\n",
        "\n",
        "def build_model(hp):\n",
        "    model = Sequential()\n",
        "    model.add(LSTM(hp.Int('units', min_value=32, max_value=128, step=32), activation='relu', input_shape=(X_train.shape[1], X_train.shape[2]))) # протестируем с различной выходной размерностью\n",
        "    model.add(Dropout(hp.Float('dropout_rate', min_value=0.1, max_value=0.5, step=0.1))) # Протестируем с различными значениями Dropout от 0.1 до 0.5\n",
        "    model.add(Dense(1))\n",
        "    model.compile(optimizer=hp.Choice('optimizer', ['adam', 'rmsprop', 'sgd']), loss='mse') # Проверим работу нейронной сети с различными оптимайзерами\n",
        "    return model\n",
        "\n",
        "tuner = kt.Hyperband(build_model,\n",
        "                     objective='val_loss',\n",
        "                     max_epochs=10,\n",
        "                     factor=3,\n",
        "                     directory='my_dir',\n",
        "                     project_name='lstm_tuning')\n",
        "\n",
        "# Проведем обучение нейроной сети\n",
        "tuner.search(X_train, y_train, epochs=10, batch_size=64, validation_data=(X_val, y_val), callbacks=callbacks)"
      ]
    },
    {
      "cell_type": "code",
      "execution_count": 49,
      "metadata": {},
      "outputs": [],
      "source": [
        "# В качестве модели будем использовать модель, показавшую себя наилучшим образом по ходу обучения \n",
        "best_model = tuner.get_best_models(num_models=1)[0]"
      ]
    },
    {
      "cell_type": "markdown",
      "metadata": {},
      "source": [
        "## Оценка качества модели после подбора гиперпараметров"
      ]
    },
    {
      "cell_type": "code",
      "execution_count": 50,
      "metadata": {},
      "outputs": [
        {
          "name": "stdout",
          "output_type": "stream",
          "text": [
            "\u001b[1m2718/2718\u001b[0m \u001b[32m━━━━━━━━━━━━━━━━━━━━\u001b[0m\u001b[37m\u001b[0m \u001b[1m1s\u001b[0m 452us/step\n"
          ]
        }
      ],
      "source": [
        "y_pred =  best_model.predict(X_val) # предсказываем валидационную выборку    "
      ]
    },
    {
      "cell_type": "code",
      "execution_count": 51,
      "metadata": {},
      "outputs": [
        {
          "name": "stdout",
          "output_type": "stream",
          "text": [
            "13.720933848587464 450.6873875854992 0.9997466018513086\n"
          ]
        }
      ],
      "source": [
        "# Проведем оценку модели\n",
        "mae = mean_absolute_error(y_val, y_pred)\n",
        "mse = mean_squared_error(y_val, y_pred)\n",
        "r2 = r2_score(y_val, y_pred)\n",
        "print(mae,mse,r2)"
      ]
    },
    {
      "cell_type": "markdown",
      "metadata": {},
      "source": [
        "Мы видим, что результаты модели улучшились, возьмем ее за окончательное решение"
      ]
    },
    {
      "cell_type": "markdown",
      "metadata": {},
      "source": [
        "## Предсказание"
      ]
    },
    {
      "cell_type": "code",
      "execution_count": 53,
      "metadata": {
        "id": "-vU7sqvaqHbz"
      },
      "outputs": [],
      "source": [
        "# Создадим функцию для предобработки тестовых данных\n",
        "def prepare_test_data(test_data, train_data, news_data):\n",
        "    # Преобразуем дату и время в datetime\n",
        "    test_data['DATETIME'] = pd.to_datetime(test_data['DATE'] + ' ' + test_data['TIME'])\n",
        "\n",
        "    # Получаем последние данные для каждого тикера, которые могут быть использованы для теста\n",
        "    last_rows = train_data[train_data['TICKER'].isin(test_data['TICKER'])]\n",
        "    last_rows = last_rows[last_rows['DATETIME'] < test_data['DATETIME'].max()].groupby('TICKER').last().reset_index()\n",
        "\n",
        "    # Объединяем последние данные с тестовой выборкой\n",
        "    test_data = test_data.merge(last_rows[['TICKER', 'OPEN', 'HIGH', 'LOW', 'VOL']], on='TICKER', how='left')\n",
        "\n",
        "    # Создание признаков на основе новостей\n",
        "    news_data['DATETIME'] = pd.to_datetime(news_data['created_at'])#.dt.time\n",
        "    news_count = news_data.groupby('DATETIME').count()['title'].reset_index()\n",
        "    news_count.columns = ['DATETIME', 'NEWS_COUNT']\n",
        "\n",
        "    test_data = pd.merge(test_data, news_count, how='left', on='DATETIME')\n",
        "\n",
        "    # Заполнение пропущенных значений\n",
        "    test_data['NEWS_COUNT'].fillna(0, inplace=True)\n",
        "\n",
        "    return test_data"
      ]
    },
    {
      "cell_type": "code",
      "execution_count": 54,
      "metadata": {
        "id": "gXioEjRDqULy"
      },
      "outputs": [],
      "source": [
        "# применение функции\n",
        "test = prepare_test_data(test, train, news)"
      ]
    },
    {
      "cell_type": "code",
      "execution_count": 55,
      "metadata": {
        "colab": {
          "base_uri": "https://localhost:8080/",
          "height": 424
        },
        "id": "Y2jT059GqWp6",
        "outputId": "0e3f896d-e085-4f76-806f-27ddab35f845"
      },
      "outputs": [
        {
          "data": {
            "text/html": [
              "<div>\n",
              "<style scoped>\n",
              "    .dataframe tbody tr th:only-of-type {\n",
              "        vertical-align: middle;\n",
              "    }\n",
              "\n",
              "    .dataframe tbody tr th {\n",
              "        vertical-align: top;\n",
              "    }\n",
              "\n",
              "    .dataframe thead th {\n",
              "        text-align: right;\n",
              "    }\n",
              "</style>\n",
              "<table border=\"1\" class=\"dataframe\">\n",
              "  <thead>\n",
              "    <tr style=\"text-align: right;\">\n",
              "      <th></th>\n",
              "      <th>TICKER</th>\n",
              "      <th>DATE</th>\n",
              "      <th>TIME</th>\n",
              "      <th>DATETIME</th>\n",
              "      <th>OPEN</th>\n",
              "      <th>HIGH</th>\n",
              "      <th>LOW</th>\n",
              "      <th>VOL</th>\n",
              "      <th>NEWS_COUNT</th>\n",
              "    </tr>\n",
              "  </thead>\n",
              "  <tbody>\n",
              "    <tr>\n",
              "      <th>0</th>\n",
              "      <td>CHMF</td>\n",
              "      <td>2024-06-07</td>\n",
              "      <td>10:00:00</td>\n",
              "      <td>2024-06-07 10:00:00</td>\n",
              "      <td>1960.0</td>\n",
              "      <td>1960.0</td>\n",
              "      <td>1959.60</td>\n",
              "      <td>305</td>\n",
              "      <td>1.0</td>\n",
              "    </tr>\n",
              "    <tr>\n",
              "      <th>1</th>\n",
              "      <td>CHMF</td>\n",
              "      <td>2024-06-07</td>\n",
              "      <td>11:00:00</td>\n",
              "      <td>2024-06-07 11:00:00</td>\n",
              "      <td>1960.0</td>\n",
              "      <td>1960.0</td>\n",
              "      <td>1959.60</td>\n",
              "      <td>305</td>\n",
              "      <td>7.0</td>\n",
              "    </tr>\n",
              "    <tr>\n",
              "      <th>2</th>\n",
              "      <td>CHMF</td>\n",
              "      <td>2024-06-07</td>\n",
              "      <td>12:00:00</td>\n",
              "      <td>2024-06-07 12:00:00</td>\n",
              "      <td>1960.0</td>\n",
              "      <td>1960.0</td>\n",
              "      <td>1959.60</td>\n",
              "      <td>305</td>\n",
              "      <td>7.0</td>\n",
              "    </tr>\n",
              "    <tr>\n",
              "      <th>3</th>\n",
              "      <td>CHMF</td>\n",
              "      <td>2024-06-07</td>\n",
              "      <td>13:00:00</td>\n",
              "      <td>2024-06-07 13:00:00</td>\n",
              "      <td>1960.0</td>\n",
              "      <td>1960.0</td>\n",
              "      <td>1959.60</td>\n",
              "      <td>305</td>\n",
              "      <td>9.0</td>\n",
              "    </tr>\n",
              "    <tr>\n",
              "      <th>4</th>\n",
              "      <td>CHMF</td>\n",
              "      <td>2024-06-07</td>\n",
              "      <td>14:00:00</td>\n",
              "      <td>2024-06-07 14:00:00</td>\n",
              "      <td>1960.0</td>\n",
              "      <td>1960.0</td>\n",
              "      <td>1959.60</td>\n",
              "      <td>305</td>\n",
              "      <td>3.0</td>\n",
              "    </tr>\n",
              "    <tr>\n",
              "      <th>...</th>\n",
              "      <td>...</td>\n",
              "      <td>...</td>\n",
              "      <td>...</td>\n",
              "      <td>...</td>\n",
              "      <td>...</td>\n",
              "      <td>...</td>\n",
              "      <td>...</td>\n",
              "      <td>...</td>\n",
              "      <td>...</td>\n",
              "    </tr>\n",
              "    <tr>\n",
              "      <th>2125</th>\n",
              "      <td>SBER</td>\n",
              "      <td>2024-06-10</td>\n",
              "      <td>18:00:00</td>\n",
              "      <td>2024-06-10 18:00:00</td>\n",
              "      <td>313.4</td>\n",
              "      <td>313.5</td>\n",
              "      <td>313.33</td>\n",
              "      <td>60460</td>\n",
              "      <td>0.0</td>\n",
              "    </tr>\n",
              "    <tr>\n",
              "      <th>2126</th>\n",
              "      <td>SBER</td>\n",
              "      <td>2024-06-10</td>\n",
              "      <td>20:00:00</td>\n",
              "      <td>2024-06-10 20:00:00</td>\n",
              "      <td>313.4</td>\n",
              "      <td>313.5</td>\n",
              "      <td>313.33</td>\n",
              "      <td>60460</td>\n",
              "      <td>0.0</td>\n",
              "    </tr>\n",
              "    <tr>\n",
              "      <th>2127</th>\n",
              "      <td>SBER</td>\n",
              "      <td>2024-06-10</td>\n",
              "      <td>21:00:00</td>\n",
              "      <td>2024-06-10 21:00:00</td>\n",
              "      <td>313.4</td>\n",
              "      <td>313.5</td>\n",
              "      <td>313.33</td>\n",
              "      <td>60460</td>\n",
              "      <td>0.0</td>\n",
              "    </tr>\n",
              "    <tr>\n",
              "      <th>2128</th>\n",
              "      <td>SBER</td>\n",
              "      <td>2024-06-10</td>\n",
              "      <td>22:00:00</td>\n",
              "      <td>2024-06-10 22:00:00</td>\n",
              "      <td>313.4</td>\n",
              "      <td>313.5</td>\n",
              "      <td>313.33</td>\n",
              "      <td>60460</td>\n",
              "      <td>0.0</td>\n",
              "    </tr>\n",
              "    <tr>\n",
              "      <th>2129</th>\n",
              "      <td>SBER</td>\n",
              "      <td>2024-06-10</td>\n",
              "      <td>23:00:00</td>\n",
              "      <td>2024-06-10 23:00:00</td>\n",
              "      <td>313.4</td>\n",
              "      <td>313.5</td>\n",
              "      <td>313.33</td>\n",
              "      <td>60460</td>\n",
              "      <td>0.0</td>\n",
              "    </tr>\n",
              "  </tbody>\n",
              "</table>\n",
              "<p>2130 rows × 9 columns</p>\n",
              "</div>"
            ],
            "text/plain": [
              "     TICKER        DATE      TIME            DATETIME    OPEN    HIGH  \\\n",
              "0      CHMF  2024-06-07  10:00:00 2024-06-07 10:00:00  1960.0  1960.0   \n",
              "1      CHMF  2024-06-07  11:00:00 2024-06-07 11:00:00  1960.0  1960.0   \n",
              "2      CHMF  2024-06-07  12:00:00 2024-06-07 12:00:00  1960.0  1960.0   \n",
              "3      CHMF  2024-06-07  13:00:00 2024-06-07 13:00:00  1960.0  1960.0   \n",
              "4      CHMF  2024-06-07  14:00:00 2024-06-07 14:00:00  1960.0  1960.0   \n",
              "...     ...         ...       ...                 ...     ...     ...   \n",
              "2125   SBER  2024-06-10  18:00:00 2024-06-10 18:00:00   313.4   313.5   \n",
              "2126   SBER  2024-06-10  20:00:00 2024-06-10 20:00:00   313.4   313.5   \n",
              "2127   SBER  2024-06-10  21:00:00 2024-06-10 21:00:00   313.4   313.5   \n",
              "2128   SBER  2024-06-10  22:00:00 2024-06-10 22:00:00   313.4   313.5   \n",
              "2129   SBER  2024-06-10  23:00:00 2024-06-10 23:00:00   313.4   313.5   \n",
              "\n",
              "          LOW    VOL  NEWS_COUNT  \n",
              "0     1959.60    305         1.0  \n",
              "1     1959.60    305         7.0  \n",
              "2     1959.60    305         7.0  \n",
              "3     1959.60    305         9.0  \n",
              "4     1959.60    305         3.0  \n",
              "...       ...    ...         ...  \n",
              "2125   313.33  60460         0.0  \n",
              "2126   313.33  60460         0.0  \n",
              "2127   313.33  60460         0.0  \n",
              "2128   313.33  60460         0.0  \n",
              "2129   313.33  60460         0.0  \n",
              "\n",
              "[2130 rows x 9 columns]"
            ]
          },
          "execution_count": 55,
          "metadata": {},
          "output_type": "execute_result"
        }
      ],
      "source": [
        "test # вывод тестового датафрейма"
      ]
    },
    {
      "cell_type": "code",
      "execution_count": 56,
      "metadata": {},
      "outputs": [
        {
          "data": {
            "text/plain": [
              "7174.0"
            ]
          },
          "execution_count": 56,
          "metadata": {},
          "output_type": "execute_result"
        }
      ],
      "source": [
        "# Проверим работоспособность функции в тестовом датафрейме\n",
        "test[\"NEWS_COUNT\"].sum()"
      ]
    },
    {
      "cell_type": "code",
      "execution_count": 57,
      "metadata": {
        "id": "4cOPBb-PqWmK"
      },
      "outputs": [],
      "source": [
        "# Подготовка тестовой выборки для модели\n",
        "X_pred = test[['OPEN', 'HIGH', 'LOW', 'VOL', 'NEWS_COUNT']].values\n",
        "X_pred = X_pred.reshape((X_pred.shape[0], 1, X_pred.shape[1]))"
      ]
    },
    {
      "cell_type": "code",
      "execution_count": 58,
      "metadata": {
        "colab": {
          "base_uri": "https://localhost:8080/"
        },
        "id": "FkAosOyTqa-C",
        "outputId": "03b68d85-ca34-4c2d-c5d1-82d5a1329b79"
      },
      "outputs": [
        {
          "name": "stdout",
          "output_type": "stream",
          "text": [
            "\u001b[1m67/67\u001b[0m \u001b[32m━━━━━━━━━━━━━━━━━━━━\u001b[0m\u001b[37m\u001b[0m \u001b[1m0s\u001b[0m 1ms/step\n"
          ]
        }
      ],
      "source": [
        "# Предскажем данные\n",
        "predictions = model2.predict(X_pred)"
      ]
    },
    {
      "cell_type": "code",
      "execution_count": 59,
      "metadata": {
        "id": "h14q45eZqdDy"
      },
      "outputs": [],
      "source": [
        "# Сохранение результатов\n",
        "submission = test[['TICKER', 'DATE', 'TIME']].copy()\n",
        "submission['CLOSE'] = predictions"
      ]
    },
    {
      "cell_type": "code",
      "execution_count": 60,
      "metadata": {
        "colab": {
          "base_uri": "https://localhost:8080/",
          "height": 424
        },
        "id": "ZygxA2dSqi0a",
        "outputId": "dfa55f41-6846-4e69-9997-5e1a32760afc"
      },
      "outputs": [
        {
          "data": {
            "text/html": [
              "<div>\n",
              "<style scoped>\n",
              "    .dataframe tbody tr th:only-of-type {\n",
              "        vertical-align: middle;\n",
              "    }\n",
              "\n",
              "    .dataframe tbody tr th {\n",
              "        vertical-align: top;\n",
              "    }\n",
              "\n",
              "    .dataframe thead th {\n",
              "        text-align: right;\n",
              "    }\n",
              "</style>\n",
              "<table border=\"1\" class=\"dataframe\">\n",
              "  <thead>\n",
              "    <tr style=\"text-align: right;\">\n",
              "      <th></th>\n",
              "      <th>TICKER</th>\n",
              "      <th>DATE</th>\n",
              "      <th>TIME</th>\n",
              "      <th>CLOSE</th>\n",
              "    </tr>\n",
              "  </thead>\n",
              "  <tbody>\n",
              "    <tr>\n",
              "      <th>0</th>\n",
              "      <td>CHMF</td>\n",
              "      <td>2024-06-07</td>\n",
              "      <td>10:00:00</td>\n",
              "      <td>1975.773438</td>\n",
              "    </tr>\n",
              "    <tr>\n",
              "      <th>1</th>\n",
              "      <td>CHMF</td>\n",
              "      <td>2024-06-07</td>\n",
              "      <td>11:00:00</td>\n",
              "      <td>1979.455078</td>\n",
              "    </tr>\n",
              "    <tr>\n",
              "      <th>2</th>\n",
              "      <td>CHMF</td>\n",
              "      <td>2024-06-07</td>\n",
              "      <td>12:00:00</td>\n",
              "      <td>1979.455078</td>\n",
              "    </tr>\n",
              "    <tr>\n",
              "      <th>3</th>\n",
              "      <td>CHMF</td>\n",
              "      <td>2024-06-07</td>\n",
              "      <td>13:00:00</td>\n",
              "      <td>1980.682007</td>\n",
              "    </tr>\n",
              "    <tr>\n",
              "      <th>4</th>\n",
              "      <td>CHMF</td>\n",
              "      <td>2024-06-07</td>\n",
              "      <td>14:00:00</td>\n",
              "      <td>1977.000610</td>\n",
              "    </tr>\n",
              "    <tr>\n",
              "      <th>...</th>\n",
              "      <td>...</td>\n",
              "      <td>...</td>\n",
              "      <td>...</td>\n",
              "      <td>...</td>\n",
              "    </tr>\n",
              "    <tr>\n",
              "      <th>2125</th>\n",
              "      <td>SBER</td>\n",
              "      <td>2024-06-10</td>\n",
              "      <td>18:00:00</td>\n",
              "      <td>269.672638</td>\n",
              "    </tr>\n",
              "    <tr>\n",
              "      <th>2126</th>\n",
              "      <td>SBER</td>\n",
              "      <td>2024-06-10</td>\n",
              "      <td>20:00:00</td>\n",
              "      <td>269.672638</td>\n",
              "    </tr>\n",
              "    <tr>\n",
              "      <th>2127</th>\n",
              "      <td>SBER</td>\n",
              "      <td>2024-06-10</td>\n",
              "      <td>21:00:00</td>\n",
              "      <td>269.672638</td>\n",
              "    </tr>\n",
              "    <tr>\n",
              "      <th>2128</th>\n",
              "      <td>SBER</td>\n",
              "      <td>2024-06-10</td>\n",
              "      <td>22:00:00</td>\n",
              "      <td>269.672638</td>\n",
              "    </tr>\n",
              "    <tr>\n",
              "      <th>2129</th>\n",
              "      <td>SBER</td>\n",
              "      <td>2024-06-10</td>\n",
              "      <td>23:00:00</td>\n",
              "      <td>269.672638</td>\n",
              "    </tr>\n",
              "  </tbody>\n",
              "</table>\n",
              "<p>2130 rows × 4 columns</p>\n",
              "</div>"
            ],
            "text/plain": [
              "     TICKER        DATE      TIME        CLOSE\n",
              "0      CHMF  2024-06-07  10:00:00  1975.773438\n",
              "1      CHMF  2024-06-07  11:00:00  1979.455078\n",
              "2      CHMF  2024-06-07  12:00:00  1979.455078\n",
              "3      CHMF  2024-06-07  13:00:00  1980.682007\n",
              "4      CHMF  2024-06-07  14:00:00  1977.000610\n",
              "...     ...         ...       ...          ...\n",
              "2125   SBER  2024-06-10  18:00:00   269.672638\n",
              "2126   SBER  2024-06-10  20:00:00   269.672638\n",
              "2127   SBER  2024-06-10  21:00:00   269.672638\n",
              "2128   SBER  2024-06-10  22:00:00   269.672638\n",
              "2129   SBER  2024-06-10  23:00:00   269.672638\n",
              "\n",
              "[2130 rows x 4 columns]"
            ]
          },
          "execution_count": 60,
          "metadata": {},
          "output_type": "execute_result"
        }
      ],
      "source": [
        "# просмотрим submission\n",
        "submission "
      ]
    },
    {
      "cell_type": "code",
      "execution_count": 63,
      "metadata": {
        "id": "vRcqzsWeqfla"
      },
      "outputs": [],
      "source": [
        "# Скачивание результатов\n",
        "submission.to_csv('submission.csv', index=False, sep=';') "
      ]
    }
  ],
  "metadata": {
    "accelerator": "GPU",
    "colab": {
      "gpuType": "T4",
      "provenance": []
    },
    "kernelspec": {
      "display_name": "Python 3",
      "name": "python3"
    },
    "language_info": {
      "codemirror_mode": {
        "name": "ipython",
        "version": 3
      },
      "file_extension": ".py",
      "mimetype": "text/x-python",
      "name": "python",
      "nbconvert_exporter": "python",
      "pygments_lexer": "ipython3",
      "version": "3.11.3"
    }
  },
  "nbformat": 4,
  "nbformat_minor": 0
}
